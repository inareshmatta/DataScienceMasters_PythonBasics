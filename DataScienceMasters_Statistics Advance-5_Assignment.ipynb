{
 "cells": [
  {
   "cell_type": "markdown",
   "id": "7cb6a1e2",
   "metadata": {},
   "source": [
    "### Q1. Calculate the 95% confidence interval for a sample of data with a mean of 50 and a standard deviation of 5 using Python. Interpret the results."
   ]
  },
  {
   "cell_type": "code",
   "execution_count": 2,
   "id": "d738c380",
   "metadata": {},
   "outputs": [
    {
     "name": "stdout",
     "output_type": "stream",
     "text": [
      "95% Confidence Interval: (49.199848053940784, 50.800151946059216)\n"
     ]
    }
   ],
   "source": [
    "import scipy.stats as stats\n",
    "\n",
    "# Given data\n",
    "sample_mean = 50\n",
    "sample_std_dev = 5\n",
    "confidence_level = 0.95\n",
    "sample_size = 150  # You need to specify the sample size\n",
    "\n",
    "# Calculate the standard error\n",
    "standard_error = sample_std_dev / (sample_size ** 0.5)\n",
    "\n",
    "# Calculate the margin of error\n",
    "margin_of_error = stats.norm.ppf((1 + confidence_level) / 2) * standard_error\n",
    "\n",
    "# Calculate the confidence interval\n",
    "confidence_interval = (\n",
    "    sample_mean - margin_of_error,\n",
    "    sample_mean + margin_of_error\n",
    ")\n",
    "\n",
    "# Print the results\n",
    "print(f\"95% Confidence Interval: {confidence_interval}\")\n"
   ]
  },
  {
   "cell_type": "markdown",
   "id": "82b4c298",
   "metadata": {},
   "source": [
    "### Q2. Conduct a chi-square goodness of fit test to determine if the distribution of colors of M&Ms in a bag matches the expected distribution of 20% blue, 20% orange, 20% green, 10% yellow, 10% red, and 20% brown. Use Python to perform the test with a significance level of 0.05."
   ]
  },
  {
   "cell_type": "code",
   "execution_count": 3,
   "id": "ea705b3c",
   "metadata": {},
   "outputs": [
    {
     "name": "stdout",
     "output_type": "stream",
     "text": [
      "Chi-Square Statistic: 2.4583333333333335\n",
      "P-value: 0.7827566612120826\n",
      "Fail to reject the null hypothesis: The distribution of colors matches the expected distribution.\n"
     ]
    }
   ],
   "source": [
    "import numpy as np\n",
    "import scipy.stats as stats\n",
    "\n",
    "# Given data\n",
    "observed_counts = np.array([30, 25, 22, 12, 11, 20])  # Replace with your actual observed counts\n",
    "expected_distribution = np.array([0.2, 0.2, 0.2, 0.1, 0.1, 0.2])  # Expected distribution\n",
    "\n",
    "# Calculate expected counts based on the total count\n",
    "total_count = observed_counts.sum()\n",
    "expected_counts = total_count * expected_distribution\n",
    "\n",
    "# Perform the chi-square goodness-of-fit test\n",
    "chi2_stat, p_value = stats.chisquare(f_obs=observed_counts, f_exp=expected_counts)\n",
    "\n",
    "# Print the test statistics and p-value\n",
    "print(f\"Chi-Square Statistic: {chi2_stat}\")\n",
    "print(f\"P-value: {p_value}\")\n",
    "\n",
    "# Check significance at 0.05 level\n",
    "alpha = 0.05\n",
    "if p_value < alpha:\n",
    "    print(\"Reject the null hypothesis: The distribution of colors does not match the expected distribution.\")\n",
    "else:\n",
    "    print(\"Fail to reject the null hypothesis: The distribution of colors matches the expected distribution.\")\n"
   ]
  },
  {
   "cell_type": "markdown",
   "id": "86044fe6",
   "metadata": {},
   "source": [
    "### Q3. Use Python to calculate the chi-square statistic and p-value for a contingency table with the following data:\n",
    "\n",
    "          Group A  Group B\n",
    "\n",
    "Outcome 1   20     15\n",
    "Outcome 2   10      25\n",
    "Outcome 3   15      20"
   ]
  },
  {
   "cell_type": "code",
   "execution_count": 4,
   "id": "d3e52725",
   "metadata": {},
   "outputs": [
    {
     "name": "stdout",
     "output_type": "stream",
     "text": [
      "Chi-Square Statistic: 5.833333333333334\n",
      "P-value: 0.05411376622282158\n",
      "Fail to reject the null hypothesis: There is no significant association between groups and outcomes.\n"
     ]
    }
   ],
   "source": [
    "import numpy as np\n",
    "from scipy.stats import chi2_contingency\n",
    "\n",
    "# Given data\n",
    "observed_data = np.array([[20, 15], [10, 25], [15, 20]])\n",
    "\n",
    "# Perform the chi-square test for independence\n",
    "chi2_stat, p_value, dof, expected = chi2_contingency(observed_data)\n",
    "\n",
    "# Print the test statistics and p-value\n",
    "print(f\"Chi-Square Statistic: {chi2_stat}\")\n",
    "print(f\"P-value: {p_value}\")\n",
    "\n",
    "# Check significance at 0.05 level\n",
    "alpha = 0.05\n",
    "if p_value < alpha:\n",
    "    print(\"Reject the null hypothesis: There is a significant association between groups and outcomes.\")\n",
    "else:\n",
    "    print(\"Fail to reject the null hypothesis: There is no significant association between groups and outcomes.\")\n"
   ]
  },
  {
   "cell_type": "markdown",
   "id": "ba37b28f",
   "metadata": {},
   "source": [
    "### Q4. A study of the prevalence of smoking in a population of 500 individuals found that 60 individuals smoked. Use Python to calculate the 95% confidence interval for the true proportion of individuals in the population who smoke."
   ]
  },
  {
   "cell_type": "code",
   "execution_count": 7,
   "id": "9b185ed1",
   "metadata": {},
   "outputs": [
    {
     "name": "stdout",
     "output_type": "stream",
     "text": [
      "Sample Proportion: 0.12\n",
      "Margin of Error: 0.028484134531349202\n",
      "95% Confidence Interval: (0.09151586546865079, 0.1484841345313492)\n"
     ]
    }
   ],
   "source": [
    "import statsmodels.api as sm\n",
    "import numpy as np\n",
    "\n",
    "# Given data\n",
    "total_population = 500\n",
    "smokers = 60\n",
    "\n",
    "# Calculate the sample proportion\n",
    "sample_proportion = smokers / total_population\n",
    "\n",
    "# Calculate the standard error of the proportion\n",
    "standard_error = np.sqrt((sample_proportion * (1 - sample_proportion)) / total_population)\n",
    "\n",
    "# Calculate the margin of error for a 95% confidence interval\n",
    "margin_of_error = 1.96 * standard_error  # for a 95% confidence interval\n",
    "\n",
    "# Calculate the confidence interval\n",
    "confidence_interval = (sample_proportion - margin_of_error, sample_proportion + margin_of_error)\n",
    "\n",
    "# Print the results\n",
    "print(f\"Sample Proportion: {sample_proportion}\")\n",
    "print(f\"Margin of Error: {margin_of_error}\")\n",
    "print(f\"95% Confidence Interval: {confidence_interval}\")\n"
   ]
  },
  {
   "cell_type": "markdown",
   "id": "1eaa7b40",
   "metadata": {},
   "source": [
    "### Q5. Calculate the 90% confidence interval for a sample of data with a mean of 75 and a standard deviation of 12 using Python. Interpret the results."
   ]
  },
  {
   "cell_type": "code",
   "execution_count": 8,
   "id": "c14090f1",
   "metadata": {},
   "outputs": [
    {
     "name": "stdout",
     "output_type": "stream",
     "text": [
      "Sample Mean: 75\n",
      "Margin of Error: 3.6036937411020347\n",
      "90% Confidence Interval: (71.39630625889797, 78.60369374110203)\n"
     ]
    }
   ],
   "source": [
    "import scipy.stats as stats\n",
    "\n",
    "# Given data\n",
    "sample_mean = 75\n",
    "sample_std_dev = 12\n",
    "sample_size = 30  # Replace with your actual sample size\n",
    "\n",
    "# Calculate the standard error of the mean\n",
    "standard_error = sample_std_dev / (sample_size ** 0.5)\n",
    "\n",
    "# Calculate the margin of error for a 90% confidence interval\n",
    "margin_of_error = stats.norm.ppf(0.95) * standard_error\n",
    "\n",
    "# Calculate the confidence interval\n",
    "confidence_interval = (sample_mean - margin_of_error, sample_mean + margin_of_error)\n",
    "\n",
    "# Print the results\n",
    "print(f\"Sample Mean: {sample_mean}\")\n",
    "print(f\"Margin of Error: {margin_of_error}\")\n",
    "print(f\"90% Confidence Interval: {confidence_interval}\")\n"
   ]
  },
  {
   "cell_type": "markdown",
   "id": "27e9b9f3",
   "metadata": {},
   "source": [
    "### Q6. Use Python to plot the chi-square distribution with 10 degrees of freedom. Label the axes and shade the area corresponding to a chi-square statistic of 15."
   ]
  },
  {
   "cell_type": "code",
   "execution_count": 9,
   "id": "e4275773",
   "metadata": {},
   "outputs": [
    {
     "data": {
      "image/png": "[encoded data removed]",
      "text/plain": [
       "<Figure size 432x288 with 1 Axes>"
      ]
     },
     "metadata": {
      "needs_background": "light"
     },
     "output_type": "display_data"
    }
   ],
   "source": [
    "import numpy as np\n",
    "import matplotlib.pyplot as plt\n",
    "import scipy.stats as stats\n",
    "\n",
    "# Degrees of freedom\n",
    "df = 10\n",
    "\n",
    "# Generate x values for the chi-square distribution\n",
    "x = np.linspace(0, 30, 1000)\n",
    "\n",
    "# Plot the chi-square distribution\n",
    "plt.plot(x, stats.chi2.pdf(x, df), label=f'Chi-square Distribution (df={df})')\n",
    "\n",
    "# Shade the area corresponding to a chi-square statistic of 15\n",
    "x_shaded = np.linspace(15, 30, 100)\n",
    "plt.fill_between(x_shaded, stats.chi2.pdf(x_shaded, df), color='orange', alpha=0.3, label='Chi-square Statistic = 15')\n",
    "\n",
    "# Label the axes\n",
    "plt.xlabel('Chi-square Statistic')\n",
    "plt.ylabel('Probability Density Function (PDF)')\n",
    "\n",
    "# Add a legend\n",
    "plt.legend()\n",
    "\n",
    "# Show the plot\n",
    "plt.show()\n"
   ]
  },
  {
   "cell_type": "markdown",
   "id": "5e2a3bf1",
   "metadata": {},
   "source": [
    "### Q7. A random sample of 1000 people was asked if they preferred Coke or Pepsi. Of the sample, 520 preferred Coke. Calculate a 99% confidence interval for the true proportion of people in the population who prefer Coke."
   ]
  },
  {
   "cell_type": "code",
   "execution_count": 10,
   "id": "1aa7f166",
   "metadata": {},
   "outputs": [
    {
     "name": "stdout",
     "output_type": "stream",
     "text": [
      "Sample Proportion: 0.52\n",
      "Margin of Error: 0.040694842322030134\n",
      "99.0% Confidence Interval: (0.4793051576779699, 0.5606948423220302)\n"
     ]
    }
   ],
   "source": [
    "import scipy.stats as stats\n",
    "import numpy as np\n",
    "\n",
    "# Given data\n",
    "sample_size = 1000\n",
    "prefer_coke = 520\n",
    "confidence_level = 0.99\n",
    "\n",
    "# Calculate the sample proportion\n",
    "sample_proportion = prefer_coke / sample_size\n",
    "\n",
    "# Calculate the standard error\n",
    "standard_error = np.sqrt((sample_proportion * (1 - sample_proportion)) / sample_size)\n",
    "\n",
    "# Calculate the critical value (Z) for the given confidence level\n",
    "z_critical = stats.norm.ppf((1 + confidence_level) / 2)\n",
    "\n",
    "# Calculate the margin of error\n",
    "margin_of_error = z_critical * standard_error\n",
    "\n",
    "# Calculate the confidence interval\n",
    "confidence_interval = (sample_proportion - margin_of_error, sample_proportion + margin_of_error)\n",
    "\n",
    "# Print the results\n",
    "print(f\"Sample Proportion: {sample_proportion}\")\n",
    "print(f\"Margin of Error: {margin_of_error}\")\n",
    "print(f\"{confidence_level*100}% Confidence Interval: {confidence_interval}\")\n"
   ]
  },
  {
   "cell_type": "markdown",
   "id": "d3afc0d0",
   "metadata": {},
   "source": [
    "### Q8. A researcher hypothesizes that a coin is biased towards tails. They flip the coin 100 times and observe 45 tails. Conduct a chi-square goodness of fit test to determine if the observed frequencies match the expected frequencies of a fair coin. Use a significance level of 0.05."
   ]
  },
  {
   "cell_type": "code",
   "execution_count": 11,
   "id": "a4a4b097",
   "metadata": {},
   "outputs": [
    {
     "name": "stdout",
     "output_type": "stream",
     "text": [
      "Chi-square Statistic: 1.0\n",
      "P-value: 0.31731050786291115\n",
      "Fail to reject the null hypothesis: There is no significant evidence of bias.\n"
     ]
    }
   ],
   "source": [
    "import scipy.stats as stats\n",
    "import numpy as np\n",
    "\n",
    "# Given data\n",
    "observed_tails = 45\n",
    "total_flips = 100\n",
    "expected_tails = total_flips / 2  # For a fair coin\n",
    "\n",
    "# Create observed and expected frequency arrays\n",
    "observed_frequencies = np.array([observed_tails, total_flips - observed_tails])\n",
    "expected_frequencies = np.array([expected_tails, total_flips - expected_tails])\n",
    "\n",
    "# Perform the chi-square goodness of fit test\n",
    "chi2_stat, p_value = stats.chisquare(f_obs=observed_frequencies, f_exp=expected_frequencies)\n",
    "\n",
    "# Print the results\n",
    "print(f\"Chi-square Statistic: {chi2_stat}\")\n",
    "print(f\"P-value: {p_value}\")\n",
    "\n",
    "# Check the hypothesis based on the significance level\n",
    "alpha = 0.05\n",
    "if p_value < alpha:\n",
    "    print(\"Reject the null hypothesis: The coin is biased towards tails.\")\n",
    "else:\n",
    "    print(\"Fail to reject the null hypothesis: There is no significant evidence of bias.\")\n"
   ]
  },
  {
   "cell_type": "markdown",
   "id": "dd3a1415",
   "metadata": {},
   "source": [
    "### Q9. A study was conducted to determine if there is an association between smoking status (smoker or non-smoker) and lung cancer diagnosis (yes or no). The results are shown in the contingency table below. Conduct a chi-square test for independence to determine if there is a significant association between smoking status and lung cancer diagnosis.\n",
    "\n",
    "           Lung Cancer: Yes       Lung Cancer: No\n",
    "\n",
    "Smoker           60                  140\n",
    "Non-smoker       30                  170\n",
    "\n",
    "Use a significance level of 0.05."
   ]
  },
  {
   "cell_type": "code",
   "execution_count": 12,
   "id": "75bb84aa",
   "metadata": {},
   "outputs": [
    {
     "name": "stdout",
     "output_type": "stream",
     "text": [
      "Chi-square Statistic: 12.057347670250895\n",
      "P-value: 0.0005158863863703744\n",
      "Reject the null hypothesis: There is a significant association between smoking status and lung cancer diagnosis.\n"
     ]
    }
   ],
   "source": [
    "import scipy.stats as stats\n",
    "\n",
    "# Given data\n",
    "observed_data = [[60, 140], [30, 170]]\n",
    "\n",
    "# Perform the chi-square test for independence\n",
    "chi2_stat, p_value, _, _ = stats.chi2_contingency(observed_data)\n",
    "\n",
    "# Print the results\n",
    "print(f\"Chi-square Statistic: {chi2_stat}\")\n",
    "print(f\"P-value: {p_value}\")\n",
    "\n",
    "# Check the hypothesis based on the significance level\n",
    "alpha = 0.05\n",
    "if p_value < alpha:\n",
    "    print(\"Reject the null hypothesis: There is a significant association between smoking status and lung cancer diagnosis.\")\n",
    "else:\n",
    "    print(\"Fail to reject the null hypothesis: There is no significant association between smoking status and lung cancer diagnosis.\")\n"
   ]
  },
  {
   "cell_type": "markdown",
   "id": "2f5806d9",
   "metadata": {},
   "source": [
    "### Q10. A study was conducted to determine if the proportion of people who prefer milk chocolate, dark chocolate, or white chocolate is different in the U.S. versus the U.K. A random sample of 500 people from the U.S. and a random sample of 500 people from the U.K. were surveyed. The results are shown in the contingency table below. Conduct a chi-square test for independence to determine if there is a significant association between chocolate preference and country of origin.\n",
    "\n",
    "(n=500) 200 150 150\n",
    "U.K. (n=500) 225 175 100"
   ]
  },
  {
   "cell_type": "code",
   "execution_count": 13,
   "id": "0b8f21d9",
   "metadata": {},
   "outputs": [
    {
     "name": "stdout",
     "output_type": "stream",
     "text": [
      "Chi-square Statistic: 13.393665158371041\n",
      "P-value: 0.0012348168997745918\n",
      "Reject the null hypothesis: There is a significant association between chocolate preference and country of origin.\n"
     ]
    }
   ],
   "source": [
    "import scipy.stats as stats\n",
    "\n",
    "# Given data\n",
    "observed_data = [[200, 150, 150], [225, 175, 100]]\n",
    "\n",
    "# Perform the chi-square test for independence\n",
    "chi2_stat, p_value, _, _ = stats.chi2_contingency(observed_data)\n",
    "\n",
    "# Print the results\n",
    "print(f\"Chi-square Statistic: {chi2_stat}\")\n",
    "print(f\"P-value: {p_value}\")\n",
    "\n",
    "# Check the hypothesis based on the significance level\n",
    "alpha = 0.05\n",
    "if p_value < alpha:\n",
    "    print(\"Reject the null hypothesis: There is a significant association between chocolate preference and country of origin.\")\n",
    "else:\n",
    "    print(\"Fail to reject the null hypothesis: There is no significant association between chocolate preference and country of origin.\")\n"
   ]
  },
  {
   "cell_type": "markdown",
   "id": "f5982e83",
   "metadata": {},
   "source": [
    "### Q11. A random sample of 30 people was selected from a population with an unknown mean and standard deviation. The sample mean was found to be 72 and the sample standard deviation was found to be 10. Conduct a hypothesis test to determine if the population mean is significantly different from 70. Use a significance level of 0.05."
   ]
  },
  {
   "cell_type": "code",
   "execution_count": 14,
   "id": "94898002",
   "metadata": {},
   "outputs": [
    {
     "name": "stdout",
     "output_type": "stream",
     "text": [
      "T-statistic: 1.0954451150103321\n",
      "Critical Value: 2.045229642132703\n",
      "P-value: 0.2823362372860698\n",
      "Fail to reject the null hypothesis: There is no significant evidence that the population mean is different from 70.\n"
     ]
    }
   ],
   "source": [
    "import scipy.stats as stats\n",
    "\n",
    "# Given data\n",
    "sample_mean = 72\n",
    "sample_std = 10\n",
    "sample_size = 30\n",
    "population_mean = 70\n",
    "significance_level = 0.05\n",
    "\n",
    "# Calculate the t-statistic\n",
    "t_stat = (sample_mean - population_mean) / (sample_std / (sample_size ** 0.5))\n",
    "\n",
    "# Calculate the degrees of freedom\n",
    "degrees_of_freedom = sample_size - 1\n",
    "\n",
    "# Calculate the critical value for a two-tailed test\n",
    "critical_value = stats.t.ppf(1 - significance_level / 2, degrees_of_freedom)\n",
    "\n",
    "# Calculate the p-value for a two-tailed test\n",
    "p_value = 2 * (1 - stats.t.cdf(abs(t_stat), degrees_of_freedom))\n",
    "\n",
    "# Print the results\n",
    "print(f\"T-statistic: {t_stat}\")\n",
    "print(f\"Critical Value: {critical_value}\")\n",
    "print(f\"P-value: {p_value}\")\n",
    "\n",
    "# Check the hypothesis based on the significance level\n",
    "if abs(t_stat) > critical_value or p_value < significance_level:\n",
    "    print(\"Reject the null hypothesis: The population mean is significantly different from 70.\")\n",
    "else:\n",
    "    print(\"Fail to reject the null hypothesis: There is no significant evidence that the population mean is different from 70.\")\n"
   ]
  },
  {
   "cell_type": "code",
   "execution_count": null,
   "id": "c7402d58",
   "metadata": {},
   "outputs": [],
   "source": []
  }
 ],
 "metadata": {
  "kernelspec": {
   "display_name": "Python 3 (ipykernel)",
   "language": "python",
   "name": "python3"
  },
  "language_info": {
   "codemirror_mode": {
    "name": "ipython",
    "version": 3
   },
   "file_extension": ".py",
   "mimetype": "text/x-python",
   "name": "python",
   "nbconvert_exporter": "python",
   "pygments_lexer": "ipython3",
   "version": "3.9.7"
  }
 },
 "nbformat": 4,
 "nbformat_minor": 5
}
