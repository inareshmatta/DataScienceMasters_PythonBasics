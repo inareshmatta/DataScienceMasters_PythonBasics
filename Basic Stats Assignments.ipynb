{
 "cells": [
  {
   "cell_type": "markdown",
   "id": "1fef1421",
   "metadata": {},
   "source": [
    "### Q1. What are the three measures of central tendency?"
   ]
  },
  {
   "cell_type": "markdown",
   "id": "6585f37b",
   "metadata": {},
   "source": [
    "Mean: This is the sum of all values in a dataset divided by the number of values. It is the most common measure of central tendency and is often used to represent the \"average\" of a group.\n",
    "\n",
    "Median: This is the middle value in a dataset when the values are arranged in order from least to greatest. If there are two middle values, the median is the mean of those two values.\n",
    "\n",
    "Mode calculation formula\n",
    "Each of these measures has its own strengths and weaknesses, and the best measure to use will depend on the specific data set and what you are trying to measure."
   ]
  },
  {
   "cell_type": "markdown",
   "id": "8c80d416",
   "metadata": {},
   "source": [
    "### Q2. What is the difference between the mean, median, and mode? How are they used to measure the central tendency of a dataset?"
   ]
  },
  {
   "cell_type": "markdown",
   "id": "9a3607ce",
   "metadata": {},
   "source": [
    "Mean:\n",
    "\n",
    "Definition: Sum of all values in the dataset divided by the number of values.\n",
    "Advantage: Easy to calculate, widely used, good for normally distributed data.\n",
    "Disadvantage: Sensitive to outliers, not a good measure for skewed data.\n",
    "\n",
    "Median: \n",
    "Definition: Middle value when data is arranged from least to greatest.\n",
    "Advantage: Not sensitive to outliers, good for skewed data.\n",
    "Disadvantage: Not as informative as the mean for normally distributed data.\n",
    "\n",
    "Mode: \n",
    "Definition: Most frequent value in the dataset.\n",
    "Advantage: Easy to understand, good for nominal data.\n",
    "Disadvantage: Not always unique, not informative about the spread of the data.\n",
    "Measuring Central Tendency:\n",
    "These measures are used to summarize the \"center\" of a dataset, but they provide different information:\n",
    "\n",
    "Mean: Represents the \"average\" value, but is easily influenced by extreme values (outliers).     \n",
    "Median: Less sensitive to outliers, but might not be representative of the entire dataset.            \n",
    "Mode: Indicates the most common value, but doesn't provide information about the spread of the data.       \n",
    "\n",
    "Choosing the right measure:   \n",
    "Normal data: Mean is optimal as it provides a good \"average\" representation.  \n",
    "Skewed data: Median is preferred as it's not affected by outliers.  \n",
    "Nominal data: Mode is helpful as it reveals the most frequent category.  \n",
    "Example:\n",
    "\n",
    "Consider exam scores: {20, 70, 80, 80, 90, 100}  \n",
    "\n",
    "Mean: 76.7  \n",
    "Median: 80  \n",
    "Mode: 80  \n",
    "The mean is higher due to the outlier (20). The median and mode reflect the central tendency better in this case.  "
   ]
  },
  {
   "cell_type": "markdown",
   "id": "3c8a7dc2",
   "metadata": {},
   "source": [
    "### Q3. Measure the three measures of central tendency for the given height data:[178,177,176,177,178.2,178,175,179,180,175,178.9,176.2,177,172.5,178,176.5]"
   ]
  },
  {
   "cell_type": "markdown",
   "id": "e3602a8c",
   "metadata": {},
   "source": [
    "Mean = (172.5 + 175 + 175 + 176 + 176.2 + 176.5 + 177 + 177 + 177 + 178 + 178 + 178 + 178.2 + 178.9 + 179 + 180) / 16   \n",
    "Mean = 2832.3 / 16   \n",
    "Mean = 177.01875  \n",
    "\n",
    "Median = (177 + 178) / 2   \n",
    "Since we have 16 data points, the median is the average of the 8th and 9th values when the data is sorted in ascending order.    \n",
    "Median = 177.5  \n",
    "\n",
    "Mode\t177, 178  "
   ]
  },
  {
   "cell_type": "markdown",
   "id": "cdbc8fc3",
   "metadata": {},
   "source": [
    "### Q4. Find the standard deviation for the given data:[178,177,176,177,178.2,178,175,179,180,175,178.9,176.2,177,172.5,178,176.5]"
   ]
  },
  {
   "cell_type": "code",
   "execution_count": 1,
   "id": "a4975788",
   "metadata": {},
   "outputs": [
    {
     "name": "stdout",
     "output_type": "stream",
     "text": [
      "Standard deviation: 1.7885814036548633\n"
     ]
    }
   ],
   "source": [
    "import pandas as pd\n",
    "\n",
    "# Create a list of height data\n",
    "height_data = [178, 177, 176, 177, 178.2, 178, 175, 179, 180, 175, 178.9, 176.2, 177, 172.5, 178, 176.5]\n",
    "\n",
    "# Calculate the standard deviation\n",
    "# Step 1: Calculate the mean\n",
    "mean = sum(height_data) / len(height_data)\n",
    "\n",
    "# Step 2: Calculate the squared deviations from the mean\n",
    "squared_deviations = [(value - mean)**2 for value in height_data]\n",
    "\n",
    "# Step 3: Calculate the variance\n",
    "variance = sum(squared_deviations) / len(height_data)\n",
    "\n",
    "# Step 4: Calculate the standard deviation\n",
    "standard_deviation = variance**0.5\n",
    "\n",
    "# Print the standard deviation\n",
    "print(\"Standard deviation:\", standard_deviation)"
   ]
  },
  {
   "cell_type": "markdown",
   "id": "ba2a1230",
   "metadata": {},
   "source": [
    "### Q5. How are measures of dispersion such as range, variance, and standard deviation used to describe the spread of a dataset? Provide an example."
   ]
  },
  {
   "cell_type": "markdown",
   "id": "47077596",
   "metadata": {},
   "source": [
    "### Measures of Dispersion: Describing Data Spread\n",
    "\n",
    "Measures of dispersion, such as range, variance, and standard deviation, are statistical tools used to describe how spread out the data is in a dataset. They complement measures of central tendency by providing information about the variability within the data.\n",
    "\n",
    "**Here's a breakdown of each measure and its role:**\n",
    "\n",
    "**1. Range:**\n",
    "\n",
    "* **Definition:** The difference between the highest and lowest values in the data set.\n",
    "* **Interpretation:** Provides a simple understanding of the spread, but can be sensitive to outliers.\n",
    "* **Example:** Consider a set of exam scores: {20, 70, 80, 80, 90, 100}. The range is 100 - 20 = 80.\n",
    "* **Limitation:** Doesn't provide information about the distribution of data points within the range.\n",
    "\n",
    "**2. Variance:**\n",
    "\n",
    "* **Definition:** The average squared deviation of all data points from the mean.\n",
    "* **Interpretation:** Measures the spread around the mean, giving more weight to data points further from the center.\n",
    "* **Example:** For the exam scores above, the variance would be calculated and interpreted in context with the mean.\n",
    "* **Limitation:** Variance is in squared units and not directly interpretable without taking the square root.\n",
    "\n",
    "**3. Standard Deviation:**\n",
    "\n",
    "* **Definition:** The square root of the variance.\n",
    "* **Interpretation:** Similar to variance but expressed in the same units as the data points, making it easier to interpret the spread.\n",
    "* **Example:** For the exam scores, the standard deviation would be more informative than the variance, providing a measure of spread in score units.\n",
    "* **Advantage:** Directly comparable across datasets measured in the same units.\n",
    "\n",
    "**By looking at the measures of dispersion together, we can get a more complete picture of the data:**\n",
    "\n",
    "* **High range and standard deviation:** Indicates a wider spread of data points.\n",
    "* **Low range and standard deviation:** Indicates data points clustered closer to the mean.\n",
    "\n",
    "**Using these measures, we can:**\n",
    "\n",
    "* Compare the variability of different datasets.\n",
    "* Identify potential outliers.\n",
    "* Make predictions about future data points.\n"
   ]
  },
  {
   "cell_type": "markdown",
   "id": "14ed6db1",
   "metadata": {},
   "source": [
    "### Q6. What is a Venn diagram?"
   ]
  },
  {
   "cell_type": "markdown",
   "id": "a04187a7",
   "metadata": {},
   "source": [
    "A Venn diagram is a widely used chart that uses **overlapping circles** to visualize the **logical relationships** between **sets**. It was popularized by John Venn in the 1880s and is still a valuable tool for understanding relationships between sets in various fields, including:\n",
    "\n",
    "* **Mathematics:** Set theory, logic, probability\n",
    "* **Statistics:** Data analysis, comparison of groups\n",
    "* **Computer science:** Data structures, algorithms\n",
    "* **Linguistics:** Language classification, semantic analysis\n",
    "* **Education:** Teaching set theory, problem-solving\n",
    "\n",
    "\n",
    "**Here are the key components of a Venn diagram:**\n",
    "\n",
    "* **Circles:** Each circle represents a set of elements.\n",
    "* **Overlapping area:** This area represents the elements **common** to both sets.\n",
    "* **Non-overlapping areas:** These areas represent the elements **unique** to each set.\n",
    "\n",
    "**Benefits of using Venn diagrams:**\n",
    "\n",
    "* **Visualize relationships:** Venn diagrams provide a clear and concise way to see the relationships between sets.\n",
    "* **Identify commonalities and differences:** They help to highlight elements that are shared by different sets, as well as elements that are unique to each set.\n",
    "* **Simplify complex information:** Venn diagrams can make complex relationships easier to understand and analyze.\n",
    "\n",
    "**Examples of how Venn diagrams can be used:**\n",
    "\n",
    "* **Compare the interests of two groups of people.**\n",
    "* **Identify the similarities and differences between two languages.**\n",
    "* **Analyze the relationships between different types of data.**\n",
    "\n",
    "**Limitations of Venn diagrams:**\n",
    "\n",
    "* **Limited to a small number of sets:** Venn diagrams can only effectively represent relationships between a small number of sets (typically two or three).\n",
    "* **Difficult to visualize complex relationships:** For more complex relationships, Venn diagrams can become difficult to interpret."
   ]
  },
  {
   "cell_type": "markdown",
   "id": "74fb4c36",
   "metadata": {},
   "source": [
    "### Q7. For the two given sets A = (2,3,4,5,6,7) & B = (0,2,6,8,10). Find: \n",
    "### (i) A B\n",
    "### (ii) A ⋃ B"
   ]
  },
  {
   "cell_type": "markdown",
   "id": "51c196f6",
   "metadata": {},
   "source": [
    "### Set Operations for A and B:\n",
    "\n",
    "Here's the solution for the given sets A and B:\n",
    "\n",
    "**1. Intersection (A ∩ B):**\n",
    "\n",
    "The intersection (A ∩ B) contains elements that are present in both sets A and B.\n",
    "\n",
    "A ∩ B = {2, 6}\n",
    "\n",
    "**2. Union (A ⋃ B):**\n",
    "\n",
    "The union (A ⋃ B) contains all elements that are present in either A or B or both.\n",
    "\n",
    "A ⋃ B = {0, 2, 3, 4, 5, 6, 7, 8, 10}\n",
    "\n",
    "Therefore, the answers are:\n",
    "\n",
    "(i) A ∩ B = {2, 6}\n",
    "(ii) A ⋃ B = {0, 2, 3, 4, 5, 6, 7, 8, 10}\n"
   ]
  },
  {
   "cell_type": "markdown",
   "id": "89d4d92c",
   "metadata": {},
   "source": [
    "### Q8. What do you understand about skewness in data?"
   ]
  },
  {
   "cell_type": "markdown",
   "id": "7ef34652",
   "metadata": {},
   "source": [
    "### Skewness in Data: Understanding Data Asymmetry\n",
    "\n",
    "**Skewness** refers to the **asymmetry** in the distribution of a dataset. It helps us understand how the data points are spread around the central tendency (mean, median, mode) of the data.\n",
    "\n",
    "Imagine a bell curve: a perfectly symmetrical distribution with equal tails on both sides. This is a **normal distribution** with no skewness. However, real-world data rarely follows this ideal scenario.\n",
    "\n",
    "**Types of Skewness:**\n",
    "\n",
    "* **Positive Skewness:** This is also known as \"right-skewed\" data. The tail of the distribution extends further to the right, meaning there are more data points concentrated on the left side of the central tendency.\n",
    "\n",
    "* **Negative Skewness:** This is also known as \"left-skewed\" data. The tail of the distribution extends further to the left, meaning there are more data points concentrated on the right side of the central tendency.\n",
    "\n",
    "* **Zero Skewness:** This represents a normal distribution with perfect symmetry.\n",
    "\n",
    "**Impact of Skewness:**\n",
    "\n",
    "* Choosing the right statistical measures: When data is skewed, using the mean as a measure of central tendency can be misleading. In such cases, the median might be a more accurate representation.\n",
    "* Interpreting statistical tests: Certain statistical tests assume normality in the data. Understanding skewness helps determine if these tests are appropriate for the given data.\n",
    "* Building predictive models: Skewed data can affect the performance of machine learning models. Techniques like data transformation can be used to address skewness.\n",
    "\n",
    "**Measuring Skewness:**\n",
    "\n",
    "* **Skewness coefficient:** This is a numerical measure of skewness, calculated as the third moment of the distribution divided by the standard deviation cubed.\n",
    "* **Visualizing skewness:** Histograms and box plots can visually reveal the asymmetry in the data distribution.\n",
    "\n",
    "**Applications of understanding skewness:**\n",
    "\n",
    "* **Finance:** Analyzing stock returns, income distribution.\n",
    "* **Social sciences:** Understanding demographics, analyzing survey data.\n",
    "* **Engineering:** Evaluating quality control data, analyzing manufacturing processes."
   ]
  },
  {
   "cell_type": "markdown",
   "id": "d75359b0",
   "metadata": {},
   "source": [
    "### Q9. If a data is right skewed then what will be the position of median with respect to mean?\n"
   ]
  },
  {
   "cell_type": "markdown",
   "id": "8cea6db7",
   "metadata": {},
   "source": [
    "In a right-skewed dataset, the median is typically **less than the mean**. This happens because the longer tail of the distribution towards the right pulls the mean further to the right, while the median remains closer to the center of the \"mass\" of data points.\n",
    "\n",
    "\n",
    "**Examples:**\n",
    "\n",
    "* The distribution of household income in a country is often right-skewed, with a few extremely wealthy individuals pulling the mean income upwards. The median income would be a more representative measure of the central tendency in this case.\n",
    "* The distribution of exam scores in a class might be right-skewed, with a few students scoring very high. The median score would be a more accurate representation of the \"typical\" performance in this case.\n",
    "\n",
    "**In summary,** when dealing with right-skewed data, remember that:\n",
    "\n",
    "* The median is typically less than the mean.\n",
    "* The median is a more reliable measure of central tendency than the mean.\n",
    "* Understanding the skewness of a dataset helps us choose the appropriate statistical measures and interpret the results accurately.\n"
   ]
  },
  {
   "cell_type": "markdown",
   "id": "16754261",
   "metadata": {},
   "source": [
    "### Q10. Explain the difference between covariance and correlation. How are these measures used in statistical analysis? "
   ]
  },
  {
   "cell_type": "markdown",
   "id": "1481241a",
   "metadata": {},
   "source": [
    "#### Covariance vs Correlation: Measuring Relationships\n",
    "\n",
    "Both **covariance** and **correlation** are statistical measures used to analyze the relationship between two variables. However, they have key differences:\n",
    "\n",
    "**Covariance:**\n",
    "\n",
    "* **Definition:** Measures the **linear association** between two variables. It indicates **direction** (positive or negative) but not **strength** of the relationship.\n",
    "* **Value:** Can be any positive or negative number depending on the direction and strength of the linear relationship.\n",
    "* **Units:** Depends on the units of the two variables. Not directly comparable across different datasets.\n",
    "\n",
    "**Correlation:**\n",
    "\n",
    "* **Definition:** Measures the **linear relationship** between two variables, standardized to a range of **-1 to +1**.\n",
    "* **Value:** -1 indicates a perfect negative linear relationship, +1 indicates a perfect positive linear relationship, and 0 indicates no linear relationship.\n",
    "* **Units:** Unitless, making it comparable across different datasets.\n",
    "\n",
    "**Key Differences:**\n",
    "\n",
    "| Feature | Covariance | Correlation |\n",
    "|---|---|---|\n",
    "| Direction | Shows direction (positive or negative) | Shows direction (positive or negative) |\n",
    "| Strength | Doesn't show strength of the relationship | Shows strength of the relationship (-1 to +1) |\n",
    "| Units | Depends on the units of the variables | Unitless |\n",
    "| Comparability | Not directly comparable across datasets | Comparable across datasets |\n",
    "\n",
    "**Applications:**\n",
    "\n",
    "* **Identifying relationships:** Both measures help identify if two variables are linearly related and the direction of that relationship.\n",
    "* **Strength of association:** Correlation provides a clearer picture of the strength of the linear relationship, while covariance only shows direction.\n",
    "* **Predicting one variable from another:** A strong positive or negative correlation can be used to predict one variable from the other with some degree of accuracy.\n",
    "* **Identifying outliers:** Outliers can affect the covariance and correlation, prompting further investigation into the data.\n",
    "\n",
    "**Choosing the right measure:**\n",
    "\n",
    "* **Covariance:** Useful for understanding the direction of the relationship and for further calculations like variances.\n",
    "* **Correlation:** Preferred when you want to compare the strength of relationships between different datasets or when units are different.\n",
    "\n",
    "**Conclusion:**\n",
    "\n",
    "Covariance and correlation are valuable tools for analyzing linear relationships between variables. Understanding their differences and choosing the right measure is crucial for accurate interpretation and informed decision-making.\n"
   ]
  },
  {
   "cell_type": "markdown",
   "id": "03d6a00a",
   "metadata": {},
   "source": [
    "### Q11. What is the formula for calculating the sample mean? Provide an example calculation for a dataset."
   ]
  },
  {
   "cell_type": "markdown",
   "id": "a2672d98",
   "metadata": {},
   "source": [
    "The formula for calculating the sample mean is:\n",
    "\n",
    "**Sample Mean (x̄) = Σxi / n**\n",
    "\n",
    "where:\n",
    "\n",
    "* **Σxi:** represents the sum of all values in the data set (xi is the value of each data point)\n",
    "* **n:** is the number of data points in the data set\n",
    "\n",
    "Here's an example calculation:\n",
    "\n",
    "**Dataset:** [10, 15, 20, 25, 30]\n",
    "\n",
    "**n:** 5 (number of data points)\n",
    "\n",
    "**Step 1:** Calculate the sum of all data points.\n",
    "\n",
    "Σxi = 10 + 15 + 20 + 25 + 30 = 100\n",
    "\n",
    "**Step 2:** Divide the sum by the number of data points.\n",
    "\n",
    "x̄ = 100 / 5 = 20\n",
    "\n",
    "Therefore, the sample mean for the given dataset is 20.\n"
   ]
  },
  {
   "cell_type": "markdown",
   "id": "26a03bf9",
   "metadata": {},
   "source": [
    "### Q12. For a normal distribution data what is the relationship between its measure of central tendency?\n"
   ]
  },
  {
   "cell_type": "markdown",
   "id": "25b3ed35",
   "metadata": {},
   "source": [
    "In a normal distribution, the **mean, median, and mode are all equal**. This is because the distribution is symmetrical, with the data points evenly distributed around the central tendency. \n",
    "\n",
    "**Explanation:**\n",
    "\n",
    "* In a normal distribution, the **bell curve** is symmetrical with equal left and right tails.\n",
    "* The **mean** is calculated as the sum of all data points divided by the number of data points. Since the data is symmetrical, the mean falls exactly in the center of the distribution.\n",
    "* The **median** is the middle value when the data is arranged in ascending order. In a symmetrical distribution, the median is also the value that splits the data into two equal halves, again coinciding with the mean.\n",
    "* The **mode** is the most frequent value in the dataset. In a normal distribution, the peak of the bell curve represents the mode, which coincides with the mean and median.\n",
    "\n",
    "Therefore, due to the inherent symmetry of a normal distribution, all three measures of central tendency (mean, median, and mode) provide the same information about the \"center\" of the data. This makes it easier to analyze and interpret the data, as we don't need to worry about choosing the \"best\" measure based on the data's skewness.\n"
   ]
  },
  {
   "cell_type": "markdown",
   "id": "1a69aa0b",
   "metadata": {},
   "source": [
    "### Q13. How is covariance different from correlation?"
   ]
  },
  {
   "cell_type": "markdown",
   "id": "80ad40e5",
   "metadata": {},
   "source": [
    "Covariance and correlation measure the linear relationship between two variables, but they differ in key aspects:\n",
    "\n",
    "**Use cases:**\n",
    "\n",
    "* **Covariance:** Primarily used in mathematical calculations and for further analysis within a specific dataset.\n",
    "* **Correlation:** Widely used for general analysis, comparing relationships across datasets, and building predictive models.\n",
    "\n",
    "Choosing the appropriate measure depends on your specific needs:\n",
    "\n",
    "* **Covariance:** Useful when you need the direction of the relationship or for further calculations within a specific dataset.\n",
    "* **Correlation:** Preferred when you need to compare the strength of relationships between different datasets or when units are different."
   ]
  },
  {
   "cell_type": "markdown",
   "id": "d8f9f663",
   "metadata": {},
   "source": [
    "### Q14. How do outliers affect measures of central tendency and dispersion? Provide an example."
   ]
  },
  {
   "cell_type": "markdown",
   "id": "07b341d1",
   "metadata": {},
   "source": [
    "Outliers can significantly affect both **measures of central tendency** and **measures of dispersion**. Here's how:\n",
    "\n",
    "**1. Measures of Central Tendency:**\n",
    "\n",
    "* **Mean:** Outliers, particularly extreme values, can significantly pull the mean towards themselves, distorting the \"average\" representation of the data.\n",
    "* **Median:** Less affected by outliers as it focuses on the middle value. However, large outliers can still shift the median slightly.\n",
    "* **Mode:** Unaffected by outliers if they are not the most frequent value. However, if an outlier is the most frequent value, it becomes the mode, masking the true center of the data.\n",
    "\n",
    "**2. Measures of Dispersion:**\n",
    "\n",
    "* **Range:** Outliers increase the range, exaggerating the apparent spread of the data.\n",
    "* **Variance and Standard Deviation:** Outliers inflate the variance and standard deviation, making the data appear more dispersed than it actually is.\n",
    "\n",
    "**Example:**\n",
    "\n",
    "Consider a dataset of exam scores: {70, 80, 80, 85, 90, 100}.\n",
    "\n",
    "**Central Tendency:**\n",
    "\n",
    "* Mean: 85\n",
    "* Median: 85\n",
    "* Mode: 80\n",
    "\n",
    "**Dispersion:**\n",
    "\n",
    "* Range: 30\n",
    "* Variance: 42.5\n",
    "* Standard Deviation: 6.5\n",
    "\n",
    "Now, introduce an outlier score of 30.\n",
    "\n",
    "**Central Tendency:**\n",
    "\n",
    "* Mean: 74.7\n",
    "* Median: 80\n",
    "* Mode: 80 (unchanged)\n",
    "\n",
    "**Dispersion:**\n",
    "\n",
    "* Range: 70\n",
    "* Variance: 192.25\n",
    "* Standard Deviation: 13.87\n",
    "\n",
    "As you can see, the outlier significantly affects the mean, range, variance, and standard deviation. The median and mode are less affected, but the outlier still influences their interpretation.\n",
    "\n",
    "This example highlights how outliers can distort the perception of data. Choosing appropriate measures and analyzing the data carefully is crucial to avoid misleading conclusions due to outliers.\n"
   ]
  },
  {
   "cell_type": "code",
   "execution_count": null,
   "id": "9b8e6f67",
   "metadata": {},
   "outputs": [],
   "source": []
  }
 ],
 "metadata": {
  "kernelspec": {
   "display_name": "Python 3 (ipykernel)",
   "language": "python",
   "name": "python3"
  },
  "language_info": {
   "codemirror_mode": {
    "name": "ipython",
    "version": 3
   },
   "file_extension": ".py",
   "mimetype": "text/x-python",
   "name": "python",
   "nbconvert_exporter": "python",
   "pygments_lexer": "ipython3",
   "version": "3.9.7"
  }
 },
 "nbformat": 4,
 "nbformat_minor": 5
}
