{
 "cells": [
  {
   "cell_type": "markdown",
   "id": "0dd24f0f",
   "metadata": {},
   "source": [
    "Q1. Write a python program to extract the video URL of the first five videos."
   ]
  },
  {
   "cell_type": "code",
   "execution_count": 1,
   "id": "817d26b8",
   "metadata": {},
   "outputs": [],
   "source": [
    "import requests\n",
    "from bs4 import BeautifulSoup\n",
    "\n",
    "# URL of the YouTube channel\n",
    "url = \"https://www.youtube.com/@PW-Foundation/videos\"\n",
    "\n",
    "# Send a GET request to the URL\n",
    "response = requests.get(url)\n",
    "\n",
    "# Create a BeautifulSoup object with the content of the response\n",
    "soup = BeautifulSoup(response.content, \"html.parser\")\n",
    "\n",
    "# Find all the video containers on the page\n",
    "video_containers = soup.find_all(\"div\", class_=\"ytd-grid-video-renderer\")\n",
    "\n",
    "# Extract the video URLs of the first five videos\n",
    "video_urls = []\n",
    "for container in video_containers[:5]:\n",
    "    video_link = container.find(\"a\", class_=\"yt-simple-endpoint\")\n",
    "    video_url = \"https://www.youtube.com\" + video_link[\"href\"]\n",
    "    video_urls.append(video_url)\n",
    "\n",
    "# Print the extracted video URLs\n",
    "for url in video_urls:\n",
    "    print(url)\n"
   ]
  },
  {
   "cell_type": "markdown",
   "id": "ebf296c9",
   "metadata": {},
   "source": [
    "Q2. Write a python program to extract the URL of the video thumbnails of the first five videos."
   ]
  },
  {
   "cell_type": "code",
   "execution_count": 2,
   "id": "2fc12a10",
   "metadata": {},
   "outputs": [],
   "source": [
    "import requests\n",
    "from bs4 import BeautifulSoup\n",
    "\n",
    "# URL of the YouTube channel\n",
    "url = \"https://www.youtube.com/@PW-Foundation/videos\"\n",
    "\n",
    "# Send a GET request to the URL\n",
    "response = requests.get(url)\n",
    "\n",
    "# Create a BeautifulSoup object with the content of the response\n",
    "soup = BeautifulSoup(response.content, \"html.parser\")\n",
    "\n",
    "# Find all the video containers on the page\n",
    "video_containers = soup.find_all(\"div\", class_=\"ytd-grid-video-renderer\")\n",
    "\n",
    "# Extract the URLs of the video thumbnails for the first five videos\n",
    "thumbnail_urls = []\n",
    "for container in video_containers[:5]:\n",
    "    thumbnail = container.find(\"img\")\n",
    "    thumbnail_url = thumbnail[\"src\"]\n",
    "    thumbnail_urls.append(thumbnail_url)\n",
    "\n",
    "# Print the extracted thumbnail URLs\n",
    "for url in thumbnail_urls:\n",
    "    print(url)\n"
   ]
  },
  {
   "cell_type": "markdown",
   "id": "b8e38997",
   "metadata": {},
   "source": [
    "Q3. Write a python program to extract the title of the first five videos."
   ]
  },
  {
   "cell_type": "code",
   "execution_count": 3,
   "id": "4c8ccd7b",
   "metadata": {},
   "outputs": [],
   "source": [
    "import requests\n",
    "from bs4 import BeautifulSoup\n",
    "\n",
    "# URL of the YouTube channel\n",
    "url = \"https://www.youtube.com/@PW-Foundation/videos\"\n",
    "\n",
    "# Send a GET request to the URL\n",
    "response = requests.get(url)\n",
    "\n",
    "# Create a BeautifulSoup object with the content of the response\n",
    "soup = BeautifulSoup(response.content, \"html.parser\")\n",
    "\n",
    "# Find all the video containers on the page\n",
    "video_containers = soup.find_all(\"div\", class_=\"ytd-grid-video-renderer\")\n",
    "\n",
    "# Extract the titles of the first five videos\n",
    "video_titles = []\n",
    "for container in video_containers[:5]:\n",
    "    title = container.find(\"a\", class_=\"yt-simple-endpoint\")\n",
    "    video_title = title.text\n",
    "    video_titles.append(video_title)\n",
    "\n",
    "# Print the extracted video titles\n",
    "for title in video_titles:\n",
    "    print(title)\n"
   ]
  },
  {
   "cell_type": "markdown",
   "id": "3cd973cb",
   "metadata": {},
   "source": [
    "Q4. Write a python program to extract the number of views of the first five videos."
   ]
  },
  {
   "cell_type": "code",
   "execution_count": null,
   "id": "f496405f",
   "metadata": {},
   "outputs": [],
   "source": [
    "import requests\n",
    "from bs4 import BeautifulSoup\n",
    "\n",
    "# URL of the YouTube channel\n",
    "url = \"https://www.youtube.com/@PW-Foundation/videos\"\n",
    "\n",
    "# Send a GET request to the URL\n",
    "response = requests.get(url)\n",
    "\n",
    "# Create a BeautifulSoup object with the content of the response\n",
    "soup = BeautifulSoup(response.content, \"html.parser\")\n",
    "\n",
    "# Find all the video containers on the page\n",
    "video_containers = soup.find_all(\"div\", class_=\"ytd-grid-video-renderer\")\n",
    "\n",
    "# Extract the number of views of the first five videos\n",
    "views_list = []\n",
    "for container in video_containers[:5]:\n",
    "    views = container.find(\"span\", class_=\"style-scope ytd-grid-video-renderer\")\n",
    "    if views:\n",
    "        views_text = views.text.strip()\n",
    "        views_list.append(views_text)\n",
    "\n",
    "# Print the extracted number of views\n",
    "for views in views_list:\n",
    "    print(views)\n"
   ]
  },
  {
   "cell_type": "markdown",
   "id": "513bb382",
   "metadata": {},
   "source": [
    "Q5. Write a python program to extract the time of posting of video for the first five videos."
   ]
  },
  {
   "cell_type": "code",
   "execution_count": 5,
   "id": "a4ac7ff3",
   "metadata": {},
   "outputs": [
    {
     "name": "stdout",
     "output_type": "stream",
     "text": [
      "Data saved successfully to youtube_data.csv\n"
     ]
    }
   ],
   "source": [
    "import requests\n",
    "import csv\n",
    "from bs4 import BeautifulSoup\n",
    "\n",
    "# URL of the YouTube channel\n",
    "url = \"https://www.youtube.com/@PW-Foundation/videos\"\n",
    "\n",
    "# Send a GET request to the URL\n",
    "response = requests.get(url)\n",
    "\n",
    "# Create a BeautifulSoup object with the content of the response\n",
    "soup = BeautifulSoup(response.content, \"html.parser\")\n",
    "\n",
    "# Find all the video containers on the page\n",
    "video_containers = soup.find_all(\"div\", class_=\"ytd-grid-video-renderer\")\n",
    "\n",
    "# Lists to store the scraped data\n",
    "video_urls = []\n",
    "thumbnail_urls = []\n",
    "video_titles = []\n",
    "views_list = []\n",
    "posting_times = []\n",
    "\n",
    "# Extract the data for the first five videos\n",
    "for container in video_containers[:5]:\n",
    "    # Video URL\n",
    "    video_link = container.find(\"a\", class_=\"yt-simple-endpoint\")\n",
    "    video_url = \"https://www.youtube.com\" + video_link[\"href\"]\n",
    "    video_urls.append(video_url)\n",
    "\n",
    "    # Thumbnail URL\n",
    "    thumbnail = container.find(\"img\")\n",
    "    thumbnail_url = thumbnail[\"src\"]\n",
    "    thumbnail_urls.append(thumbnail_url)\n",
    "\n",
    "    # Video Title\n",
    "    title = container.find(\"a\", class_=\"yt-simple-endpoint\")\n",
    "    video_title = title.text\n",
    "    video_titles.append(video_title)\n",
    "\n",
    "    # Number of Views\n",
    "    views = container.find(\"span\", class_=\"style-scope ytd-grid-video-renderer\")\n",
    "    if views:\n",
    "        views_text = views.text.strip()\n",
    "        views_list.append(views_text)\n",
    "    else:\n",
    "        views_list.append(\"N/A\")\n",
    "\n",
    "    # Time of Posting\n",
    "    time = container.find(\"span\", class_=\"style-scope ytd-grid-video-renderer\")\n",
    "    if time:\n",
    "        time_text = time.text.strip()\n",
    "        posting_times.append(time_text)\n",
    "    else:\n",
    "        posting_times.append(\"N/A\")\n",
    "\n",
    "# Write the scraped data to a CSV file\n",
    "filename = \"youtube_data.csv\"\n",
    "with open(filename, \"w\", newline=\"\", encoding=\"utf-8\") as csvfile:\n",
    "    writer = csv.writer(csvfile)\n",
    "    writer.writerow([\"Video URL\", \"Thumbnail URL\", \"Title\", \"Views\", \"Posting Time\"])\n",
    "    for i in range(5):\n",
    "        if i < len(video_urls) and i < len(thumbnail_urls) and i < len(video_titles) and i < len(views_list) and i < len(posting_times):\n",
    "            writer.writerow([video_urls[i], thumbnail_urls[i], video_titles[i], views_list[i], posting_times[i]])\n",
    "        else:\n",
    "            writer.writerow([\"N/A\", \"N/A\", \"N/A\", \"N/A\", \"N/A\"])\n",
    "\n",
    "print(\"Data saved successfully to\", filename)\n"
   ]
  },
  {
   "cell_type": "code",
   "execution_count": null,
   "id": "8b9ea200",
   "metadata": {},
   "outputs": [],
   "source": []
  }
 ],
 "metadata": {
  "kernelspec": {
   "display_name": "Python 3 (ipykernel)",
   "language": "python",
   "name": "python3"
  },
  "language_info": {
   "codemirror_mode": {
    "name": "ipython",
    "version": 3
   },
   "file_extension": ".py",
   "mimetype": "text/x-python",
   "name": "python",
   "nbconvert_exporter": "python",
   "pygments_lexer": "ipython3",
   "version": "3.9.7"
  }
 },
 "nbformat": 4,
 "nbformat_minor": 5
}
