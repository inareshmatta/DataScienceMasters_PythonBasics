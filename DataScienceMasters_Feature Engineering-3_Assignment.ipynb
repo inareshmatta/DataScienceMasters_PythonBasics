{
 "cells": [
  {
   "cell_type": "markdown",
   "id": "bca0c464",
   "metadata": {},
   "source": [
    "## DataScienceMasters_Feature Engineering-3_Assignment"
   ]
  },
  {
   "cell_type": "markdown",
   "id": "a1ce61a9",
   "metadata": {},
   "source": [
    "### Q1. What is Min-Max scaling, and how is it used in data preprocessing? Provide an example to illustrate its application."
   ]
  },
  {
   "cell_type": "markdown",
   "id": "1b6ac5cd",
   "metadata": {},
   "source": [
    "**Q1. What is Min-Max scaling, and how is it used in data preprocessing? Provide an example to illustrate its application.**\n",
    "\n",
    "**Min-Max Scaling:**\n",
    "\n",
    "Min-Max scaling, also known as normalization, is a data preprocessing technique used to transform numerical features into a specific range. The purpose is to ensure that all features contribute equally to the analysis and prevent the dominance of features with larger scales. The formula for Min-Max scaling is:\n",
    "\n",
    "$[ X_{\\text{scaled}} = \\frac{X - X_{\\text{min}}}{X_{\\text{max}} - X_{\\text{min}}}]$\n",
    "\n",
    "where:\n",
    "- $(X)$ is the original feature value.\n",
    "- $(X_{\\text{min}})$ is the minimum value of the feature.\n",
    "- $(X_{\\text{max}})$ is the maximum value of the feature.\n",
    "\n",
    "The resulting scaled values lie in the range [0, 1].\n",
    "\n",
    "\n",
    "**Benefits of Min-Max Scaling:**\n",
    "- Ensures that features with different scales contribute equally to machine learning models.\n",
    "- Useful for algorithms that rely on distance measures, such as k-nearest neighbors or clustering algorithms.\n",
    "\n",
    "**Note:**\n",
    "Min-Max scaling should be applied separately to the training and testing datasets to avoid data leakage. The scaler is fit on the training data and then applied to both the training and testing datasets."
   ]
  },
  {
   "cell_type": "markdown",
   "id": "b85100b6",
   "metadata": {},
   "source": [
    "**Example: Applying Min-Max Scaling in Python:**\n",
    "\n",
    "Let's consider a dataset with a numerical feature, \"Income,\" where the income values range from $20,000 to $100,000. We want to apply Min-Max scaling to bring these values into the range [0, 1].\n",
    "\n",
    "\n",
    "In this example, the \"Income\" values are scaled to the range [0, 1]. The minimum value (20,000) is scaled to 0, the maximum value (100,000) is scaled to 1, and intermediate values are scaled proportionally between 0 and 1."
   ]
  },
  {
   "cell_type": "code",
   "execution_count": 1,
   "id": "7dd45854",
   "metadata": {},
   "outputs": [
    {
     "name": "stderr",
     "output_type": "stream",
     "text": [
      "C:\\Users\\inare\\Anaconda3\\lib\\site-packages\\pandas\\core\\computation\\expressions.py:21: UserWarning: Pandas requires version '2.8.0' or newer of 'numexpr' (version '2.7.3' currently installed).\n",
      "  from pandas.core.computation.check import NUMEXPR_INSTALLED\n",
      "C:\\Users\\inare\\Anaconda3\\lib\\site-packages\\pandas\\core\\arrays\\masked.py:62: UserWarning: Pandas requires version '1.3.4' or newer of 'bottleneck' (version '1.3.2' currently installed).\n",
      "  from pandas.core import (\n"
     ]
    },
    {
     "name": "stdout",
     "output_type": "stream",
     "text": [
      "   Income  Income_Scaled\n",
      "0   20000         0.0000\n",
      "1   50000         0.3750\n",
      "2   75000         0.6875\n",
      "3  100000         1.0000\n"
     ]
    }
   ],
   "source": [
    "import pandas as pd\n",
    "from sklearn.preprocessing import MinMaxScaler\n",
    "\n",
    "# Create a sample dataset\n",
    "data = {'Income': [20000, 50000, 75000, 100000]}\n",
    "df = pd.DataFrame(data)\n",
    "\n",
    "# Initialize MinMaxScaler\n",
    "scaler = MinMaxScaler()\n",
    "\n",
    "# Apply Min-Max scaling to the \"Income\" feature\n",
    "df['Income_Scaled'] = scaler.fit_transform(df[['Income']])\n",
    "\n",
    "# Display the original and scaled dataset\n",
    "print(df)\n"
   ]
  },
  {
   "cell_type": "markdown",
   "id": "d5391752",
   "metadata": {},
   "source": [
    "### Q2. What is the Unit Vector technique in feature scaling, and how does it differ from Min-Max scaling? Provide an example to illustrate its application."
   ]
  },
  {
   "cell_type": "markdown",
   "id": "92e15e5a",
   "metadata": {},
   "source": [
    "**Q2. What is the Unit Vector technique in feature scaling, and how does it differ from Min-Max scaling? Provide an example to illustrate its application.**\n",
    "\n",
    "**Unit Vector Scaling:**\n",
    "\n",
    "Unit Vector scaling, also known as vector normalization or \"L2 normalization,\" is a feature scaling technique that transforms numerical features by dividing each feature's values by the Euclidean norm of the feature vector. The formula for Unit Vector scaling is:\n",
    "\n",
    "$[ X_{\\text{scaled}} = \\frac{X}{\\|X\\|}]$\n",
    "\n",
    "where:\n",
    "- $(X)$ is the original feature vector.\n",
    "- $(|X\\|)$ is the Euclidean norm (magnitude) of the feature vector.\n",
    "\n",
    "The resulting scaled vector has a length (magnitude) of 1.\n",
    "\n",
    "**Differences from Min-Max Scaling:**\n",
    "- Min-Max scaling scales features to a specific range (e.g., [0, 1]), while Unit Vector scaling normalizes the entire feature vector.\n",
    "- Min-Max scaling considers the minimum and maximum values of each feature independently, while Unit Vector scaling considers the overall vector magnitude.\n",
    "\n",
    "**Benefits of Unit Vector Scaling:**\n",
    "- Ensures that all features contribute equally to machine learning models, regardless of their scales.\n",
    "- Useful when the direction of the feature vector is more important than the specific scale of individual features.\n",
    "\n",
    "**Note:**\n",
    "The `Normalizer` in scikit-learn allows for customization of the normalization method (L1 or L2 normalization). In this example, L2 normalization is applied."
   ]
  },
  {
   "cell_type": "markdown",
   "id": "9f4ebbb3",
   "metadata": {},
   "source": [
    "**Example: Applying Unit Vector Scaling in Python:**\n",
    "\n",
    "Let's consider a dataset with two numerical features, \"Height\" and \"Weight.\" We want to apply Unit Vector scaling to normalize the feature vector.\n",
    "\n",
    "In this example, the \"Height\" and \"Weight\" values are scaled using Unit Vector scaling. Each row in the resulting columns \"Height_Scaled\" and \"Weight_Scaled\" represents a normalized vector with a magnitude of 1."
   ]
  },
  {
   "cell_type": "code",
   "execution_count": 2,
   "id": "f64c90fe",
   "metadata": {},
   "outputs": [
    {
     "name": "stdout",
     "output_type": "stream",
     "text": [
      "   Height  Weight  Height_Scaled  Weight_Scaled\n",
      "0     160      55       0.945687       0.325080\n",
      "1     175      70       0.928477       0.371391\n",
      "2     180      80       0.913812       0.406138\n"
     ]
    }
   ],
   "source": [
    "from sklearn.preprocessing import Normalizer\n",
    "\n",
    "# Create a sample dataset\n",
    "data = {'Height': [160, 175, 180], 'Weight': [55, 70, 80]}\n",
    "df = pd.DataFrame(data)\n",
    "\n",
    "# Initialize Normalizer with L2 normalization\n",
    "normalizer = Normalizer(norm='l2')\n",
    "\n",
    "# Apply Unit Vector scaling to the \"Height\" and \"Weight\" features\n",
    "df[['Height_Scaled', 'Weight_Scaled']] = normalizer.fit_transform(df)\n",
    "\n",
    "# Display the original and scaled dataset\n",
    "print(df)\n"
   ]
  },
  {
   "cell_type": "markdown",
   "id": "61dbc453",
   "metadata": {},
   "source": [
    "### Q3. What is PCA (Principle Component Analysis), and how is it used in dimensionality reduction? Provide an example to illustrate its application."
   ]
  },
  {
   "cell_type": "markdown",
   "id": "ea1b4200",
   "metadata": {},
   "source": [
    "**Principal Component Analysis (PCA):**\n",
    "\n",
    "PCA, or Principal Component Analysis, is a dimensionality reduction technique used to transform high-dimensional data into a lower-dimensional representation while retaining as much of the original variance as possible. It achieves this by identifying the principal components, which are linear combinations of the original features. The first principal component captures the most variance, followed by the second, and so on.\n",
    "\n",
    "**Steps of PCA:**\n",
    "1. **Standardize the Data:** Ensure that the data is centered (mean of each feature is zero) and has unit variance.\n",
    "2. **Compute Covariance Matrix:** Calculate the covariance matrix of the standardized data.\n",
    "3. **Compute Eigenvectors and Eigenvalues:** Find the eigenvectors and eigenvalues of the covariance matrix.\n",
    "4. **Sort Eigenvectors:** Sort the eigenvectors based on their corresponding eigenvalues in descending order.\n",
    "5. **Select Principal Components:** Choose the top $(k)$ eigenvectors to form the new feature space (where \\(k\\) is the desired lower dimensionality).\n",
    "6. **Project Data:** Project the original data onto the selected principal components to obtain the lower-dimensional representation.\n",
    "\n",
    "\n",
    "**Benefits of PCA:**\n",
    "- Reduces dimensionality, which is useful for visualizing high-dimensional data.\n",
    "- Removes multicollinearity (correlation) between features.\n",
    "- Retains most of the variability in the data.\n",
    "\n",
    "**Note:**\n",
    "The number of principal components to retain $(k)$ can be chosen based on the desired level of explained variance. The `explained_variance_ratio_` attribute of the PCA object provides the proportion of variance explained by each principal component."
   ]
  },
  {
   "cell_type": "markdown",
   "id": "1ab24f4b",
   "metadata": {},
   "source": [
    "**Example: Applying PCA in Python:**\n",
    "\n",
    "Let's consider a dataset with three numerical features: \"Height,\" \"Weight,\" and \"Age.\" We will apply PCA to reduce the dimensionality to two principal components.\n",
    "\n",
    "In this example, the original dataset with three features is transformed into two principal components. These components capture the most significant information in the data while reducing its dimensionality."
   ]
  },
  {
   "cell_type": "code",
   "execution_count": 3,
   "id": "c63eeef3",
   "metadata": {},
   "outputs": [
    {
     "name": "stdout",
     "output_type": "stream",
     "text": [
      "   Height  Weight  Age\n",
      "0     160      55   25\n",
      "1     175      70   30\n",
      "2     180      80   35\n",
      "   Principal Component 1  Principal Component 2\n",
      "0               2.248835              -0.107552\n",
      "1              -0.319703               0.279199\n",
      "2              -1.929132              -0.171646\n"
     ]
    }
   ],
   "source": [
    "from sklearn.decomposition import PCA\n",
    "from sklearn.preprocessing import StandardScaler\n",
    "\n",
    "# Create a sample dataset\n",
    "data = {'Height': [160, 175, 180], 'Weight': [55, 70, 80], 'Age': [25, 30, 35]}\n",
    "df = pd.DataFrame(data)\n",
    "\n",
    "# Standardize the data\n",
    "scaler = StandardScaler()\n",
    "data_standardized = scaler.fit_transform(df)\n",
    "\n",
    "# Apply PCA with 2 principal components\n",
    "pca = PCA(n_components=2)\n",
    "principal_components = pca.fit_transform(data_standardized)\n",
    "\n",
    "# Create a DataFrame with the principal components\n",
    "df_pca = pd.DataFrame(data=principal_components, columns=['Principal Component 1', 'Principal Component 2'])\n",
    "\n",
    "# Display the original and PCA-transformed dataset\n",
    "print(df)\n",
    "print(df_pca)\n"
   ]
  },
  {
   "cell_type": "markdown",
   "id": "623863d3",
   "metadata": {},
   "source": [
    "### Q4. What is the relationship between PCA and Feature Extraction, and how can PCA be used for Feature Extraction? Provide an example to illustrate this concept."
   ]
  },
  {
   "cell_type": "markdown",
   "id": "33eb24c3",
   "metadata": {},
   "source": [
    "**Q4. What is the relationship between PCA and Feature Extraction, and how can PCA be used for Feature Extraction? Provide an example to illustrate this concept.**\n",
    "\n",
    "**Relationship between PCA and Feature Extraction:**\n",
    "\n",
    "PCA (Principal Component Analysis) and Feature Extraction are closely related concepts in the context of dimensionality reduction. Feature extraction involves transforming the original features into a new set of features, often with reduced dimensionality, while retaining the essential information from the original data. PCA is a specific technique used for feature extraction that identifies the principal components, which are linear combinations of the original features capturing the most variance.\n",
    "\n",
    "**How PCA is Used for Feature Extraction:**\n",
    "\n",
    "1. **Identifying Principal Components:** PCA identifies the principal components (eigenvectors) that represent the directions of maximum variance in the data.\n",
    "\n",
    "2. **Reducing Dimensionality:** The principal components can be used to create a new feature space with lower dimensionality than the original dataset.\n",
    "\n",
    "3. **Retaining Information:** The first few principal components capture most of the variability in the data, allowing for dimensionality reduction while retaining important information.\n",
    "\n",
    "\n",
    "**Benefits of PCA for Feature Extraction:**\n",
    "- Reduces dimensionality while retaining essential information.\n",
    "- Mitigates multicollinearity between features.\n",
    "- Useful for applications where a lower-dimensional representation is desired, such as in machine learning.\n",
    "\n",
    "**Note:**\n",
    "The choice of the number of principal components to retain depends on the desired level of explained variance and the specific requirements of the analysis. The `explained_variance_ratio_` attribute of the PCA object provides the proportion of variance explained by each principal component."
   ]
  },
  {
   "cell_type": "markdown",
   "id": "0005eeec",
   "metadata": {},
   "source": [
    "**Example: Using PCA for Feature Extraction in Python:**\n",
    "\n",
    "Let's consider a dataset with four numerical features. We will use PCA to extract two principal components and create a new feature space.\n",
    "\n",
    "\n",
    "In this example, PCA extracts two principal components from the original dataset. The new feature space represented by the principal components retains most of the information from the original features while reducing dimensionality."
   ]
  },
  {
   "cell_type": "code",
   "execution_count": 4,
   "id": "1228435f",
   "metadata": {},
   "outputs": [
    {
     "name": "stdout",
     "output_type": "stream",
     "text": [
      "   Feature1  Feature2  Feature3  Feature4\n",
      "0         2        10        25         5\n",
      "1         3        12        30         8\n",
      "2         4         8        20         4\n",
      "3         5        15        35        10\n",
      "   Principal Component 1  Principal Component 2\n",
      "0              -1.356180              -0.955916\n",
      "1               0.536332              -0.658415\n",
      "2              -1.889862               1.156115\n",
      "3               2.709710               0.458216\n"
     ]
    }
   ],
   "source": [
    "# Create a sample dataset\n",
    "data = {'Feature1': [2, 3, 4, 5], 'Feature2': [10, 12, 8, 15], 'Feature3': [25, 30, 20, 35], 'Feature4': [5, 8, 4, 10]}\n",
    "df = pd.DataFrame(data)\n",
    "\n",
    "# Standardize the data\n",
    "scaler = StandardScaler()\n",
    "data_standardized = scaler.fit_transform(df)\n",
    "\n",
    "# Apply PCA with 2 principal components\n",
    "pca = PCA(n_components=2)\n",
    "principal_components = pca.fit_transform(data_standardized)\n",
    "\n",
    "# Create a DataFrame with the principal components\n",
    "df_pca = pd.DataFrame(data=principal_components, columns=['Principal Component 1', 'Principal Component 2'])\n",
    "\n",
    "# Display the original and PCA-transformed dataset\n",
    "print(df)\n",
    "print(df_pca)\n"
   ]
  },
  {
   "cell_type": "markdown",
   "id": "c0b8d0e2",
   "metadata": {},
   "source": [
    "### Q5. You are working on a project to build a recommendation system for a food delivery service. The dataset contains features such as price, rating, and delivery time. Explain how you would use Min-Max scaling to preprocess the data."
   ]
  },
  {
   "cell_type": "markdown",
   "id": "7ca4230d",
   "metadata": {},
   "source": [
    "**Q5. You are working on a project to build a recommendation system for a food delivery service. The dataset contains features such as price, rating, and delivery time. Explain how you would use Min-Max scaling to preprocess the data.**\n",
    "\n",
    "**Min-Max Scaling:**\n",
    "\n",
    "Min-Max scaling, also known as normalization, is a data preprocessing technique used to scale numerical features to a specific range, usually [0, 1]. This scaling method is particularly useful when features have different scales, and it ensures that all features contribute equally to the analysis. The formula for Min-Max scaling is:\n",
    "\n",
    "$[ X_{\\text{scaled}} = \\frac{X - \\text{min}(X)}{\\text{max}(X) - \\text{min}(X)} ]$\n",
    "\n",
    "where $(X)$ is the original feature, $(\\text{min}(X))$ is the minimum value of the feature, and $(\\text{max}(X))$ is the maximum value of the feature.\n",
    "\n",
    "\n",
    "**Benefits of Min-Max Scaling:**\n",
    "- Standardizes the range of values for different features.\n",
    "- Preserves the relationships and patterns in the data.\n",
    "- Suitable for algorithms sensitive to feature scales, such as distance-based algorithms.\n",
    "\n",
    "**Note:**\n",
    "It's essential to fit the MinMaxScaler on the training data and use the same scaler to transform both the training and testing datasets to maintain consistency in the scaling process."
   ]
  },
  {
   "cell_type": "markdown",
   "id": "50d7b8ce",
   "metadata": {},
   "source": [
    "**Application to Food Delivery Dataset:**\n",
    "\n",
    "Let's consider a simplified example of a food delivery dataset with three numerical features: \"Price,\" \"Rating,\" and \"Delivery Time.\" We will demonstrate how to use Min-Max scaling to preprocess these features.\n",
    "\n",
    "In this example, Min-Max scaling is applied independently to each feature, transforming the values to the range [0, 1]. The scaled dataset ensures that all features are on a comparable scale, making them suitable for use in a recommendation system."
   ]
  },
  {
   "cell_type": "code",
   "execution_count": 5,
   "id": "6f76c683",
   "metadata": {},
   "outputs": [
    {
     "name": "stdout",
     "output_type": "stream",
     "text": [
      "Original Dataset:\n",
      "   Price  Rating  Delivery Time\n",
      "0     10     4.5             30\n",
      "1     20     3.8             45\n",
      "2     15     4.2             20\n",
      "3     25     4.8             60\n",
      "\n",
      "Scaled Dataset (Min-Max Scaling):\n",
      "      Price  Rating  Delivery Time\n",
      "0  0.000000     0.7          0.250\n",
      "1  0.666667     0.0          0.625\n",
      "2  0.333333     0.4          0.000\n",
      "3  1.000000     1.0          1.000\n"
     ]
    }
   ],
   "source": [
    "# Create a sample food delivery dataset\n",
    "data = {'Price': [10, 20, 15, 25], 'Rating': [4.5, 3.8, 4.2, 4.8], 'Delivery Time': [30, 45, 20, 60]}\n",
    "df = pd.DataFrame(data)\n",
    "\n",
    "# Instantiate MinMaxScaler\n",
    "scaler = MinMaxScaler()\n",
    "\n",
    "# Apply Min-Max scaling to the dataset\n",
    "df_scaled = pd.DataFrame(scaler.fit_transform(df), columns=df.columns)\n",
    "\n",
    "# Display the original and scaled dataset\n",
    "print(\"Original Dataset:\")\n",
    "print(df)\n",
    "print(\"\\nScaled Dataset (Min-Max Scaling):\")\n",
    "print(df_scaled)\n"
   ]
  },
  {
   "cell_type": "markdown",
   "id": "fb4ac740",
   "metadata": {},
   "source": [
    "### Q6. You are working on a project to build a model to predict stock prices. The dataset contains many features, such as company financial data and market trends. Explain how you would use PCA to reduce the dimensionality of the dataset."
   ]
  },
  {
   "cell_type": "markdown",
   "id": "83031ac7",
   "metadata": {},
   "source": [
    "**Q6. You are working on a project to build a model to predict stock prices. The dataset contains many features, such as company financial data and market trends. Explain how you would use PCA to reduce the dimensionality of the dataset.**\n",
    "\n",
    "**Using PCA to Reduce Dimensionality in Stock Price Prediction:**\n",
    "\n",
    "**Step 1: Standardize the Data:**\n",
    "Before applying PCA, it's crucial to standardize the data to ensure that all features are on the same scale. Standardization involves subtracting the mean and dividing by the standard deviation.\n",
    "\n",
    "**Step 2: Apply PCA:**\n",
    "Once the data is standardized, PCA is applied to identify the principal components. Principal components are linear combinations of the original features that capture the most significant variance in the data.\n",
    "\n",
    "**Step 3: Select Principal Components:**\n",
    "Determine the number of principal components to retain based on the desired explained variance. PCA provides information about the variance explained by each principal component. You can choose the number of components that collectively explain a high percentage of the total variance.\n",
    "\n",
    "**Step 4: Create a Reduced-Dimension Dataset:**\n",
    "Use the selected principal components to create a new dataset with reduced dimensionality. This dataset retains most of the information from the original features while reducing the number of features.\n",
    "\n",
    "\n",
    "**Benefits of PCA for Stock Price Prediction:**\n",
    "- Reduces dimensionality, which can enhance model performance and reduce overfitting.\n",
    "- Identifies underlying patterns and relationships in the data.\n",
    "- Mitigates multicollinearity between features.\n",
    "\n",
    "**Note:**\n",
    "The choice of the number of components to retain depends on the desired explained variance and the specific requirements of the stock price prediction model. Experiment with different values to find the optimal balance between dimensionality reduction and information retention."
   ]
  },
  {
   "cell_type": "markdown",
   "id": "fdcc2f6b",
   "metadata": {},
   "source": [
    "**Example Code:**\n",
    "\n",
    "Let's consider a simplified example using Python and the scikit-learn library to demonstrate how to apply PCA for dimensionality reduction in a stock price prediction scenario."
   ]
  },
  {
   "cell_type": "code",
   "execution_count": 8,
   "id": "fa8dfd93",
   "metadata": {},
   "outputs": [
    {
     "name": "stdout",
     "output_type": "stream",
     "text": [
      "Number of Selected Components: 5\n",
      "Reduced-Dimension Dataset:\n",
      "          PC1       PC2       PC3       PC4       PC5\n",
      "0    1.012430  1.008549 -0.184993  0.151737  0.661876\n",
      "1   -0.742690  0.679627 -1.475620  1.318137  0.818120\n",
      "2   -2.157176 -0.963667  0.204314 -0.322562  0.151965\n",
      "3    0.523336 -0.296475 -0.915758  0.672185 -1.211113\n",
      "4    1.088229 -0.378258 -0.822335 -0.754363 -1.395294\n",
      "..        ...       ...       ...       ...       ...\n",
      "995 -0.635126 -0.514462  0.167902 -1.964772  1.067237\n",
      "996 -0.704566 -0.139090 -0.910686  1.218796 -2.257251\n",
      "997  1.564700  1.030218  0.961715 -0.395016 -0.111387\n",
      "998 -0.509483  1.570848  0.133594  1.582335  1.191219\n",
      "999 -0.597370 -0.129292  1.694508 -0.421212  0.506261\n",
      "\n",
      "[1000 rows x 5 columns]\n"
     ]
    }
   ],
   "source": [
    "import pandas as pd\n",
    "from sklearn.preprocessing import StandardScaler\n",
    "from sklearn.decomposition import PCA\n",
    "import numpy as np\n",
    "\n",
    "# Set a random seed for reproducibility\n",
    "np.random.seed(42)\n",
    "\n",
    "# Step 1: Create a random dataset for stock prediction\n",
    "num_samples = 1000\n",
    "data = {\n",
    "    'Stock_Price': np.random.uniform(50, 200, num_samples),\n",
    "    'Volume': np.random.uniform(100000, 5000000, num_samples),\n",
    "    'Market_Cap': np.random.uniform(1000000000, 50000000000, num_samples),\n",
    "    'PE_Ratio': np.random.uniform(5, 30, num_samples),\n",
    "    'Dividend_Yield': np.random.uniform(0, 5, num_samples),\n",
    "}\n",
    "\n",
    "stock_df = pd.DataFrame(data)\n",
    "\n",
    "# Step 2: Standardize the Data\n",
    "scaler = StandardScaler()\n",
    "data_standardized = scaler.fit_transform(stock_df)\n",
    "\n",
    "# Step 3: Apply PCA\n",
    "pca = PCA()\n",
    "principal_components = pca.fit_transform(data_standardized)\n",
    "\n",
    "# Step 4: Select Principal Components\n",
    "explained_variance_ratio = pca.explained_variance_ratio_\n",
    "cumulative_explained_variance = explained_variance_ratio.cumsum()\n",
    "\n",
    "# Choose the number of components based on the desired explained variance\n",
    "desired_explained_variance = 0.95  # Adjust as needed\n",
    "num_components = (cumulative_explained_variance < desired_explained_variance).sum() + 1\n",
    "\n",
    "# Step 5: Create a Reduced-Dimension Dataset\n",
    "reduced_dimensionality_data = principal_components[:, :num_components]\n",
    "\n",
    "# Display the number of selected components and the reduced-dimension dataset\n",
    "print(f\"Number of Selected Components: {num_components}\")\n",
    "print(\"Reduced-Dimension Dataset:\")\n",
    "print(pd.DataFrame(data=reduced_dimensionality_data, columns=[f'PC{i}' for i in range(1, num_components + 1)]))\n"
   ]
  },
  {
   "cell_type": "markdown",
   "id": "5dcb4437",
   "metadata": {},
   "source": [
    "### Q7. For a dataset containing the following values: [1, 5, 10, 15, 20], perform Min-Max scaling to transform the values to a range of -1 to 1."
   ]
  },
  {
   "cell_type": "code",
   "execution_count": 11,
   "id": "cf74cb2e",
   "metadata": {},
   "outputs": [
    {
     "name": "stdout",
     "output_type": "stream",
     "text": [
      "Original Values: [ 1  5 10 15 20]\n",
      "Min-Max Scaled Values (to the range [-1, 1]): [-1.         -0.57894737 -0.05263158  0.47368421  1.        ]\n"
     ]
    }
   ],
   "source": [
    "# Original dataset\n",
    "original_values = np.array([1, 5, 10, 15, 20])\n",
    "\n",
    "# Min-Max scaling to the range [-1, 1]\n",
    "min_value = min(original_values)\n",
    "max_value = max(original_values)\n",
    "\n",
    "scaled_values = ((original_values - min_value) / (max_value - min_value)) * 2 - 1\n",
    "\n",
    "# Display the results\n",
    "print(\"Original Values:\", original_values)\n",
    "print(\"Min-Max Scaled Values (to the range [-1, 1]):\", scaled_values)\n"
   ]
  },
  {
   "cell_type": "markdown",
   "id": "0198d33b",
   "metadata": {},
   "source": [
    "### Q8. For a dataset containing the following features: [height, weight, age, gender, blood pressure], perform Feature Extraction using PCA. How many principal components would you choose to retain, and why?"
   ]
  },
  {
   "cell_type": "markdown",
   "id": "13d6aa59",
   "metadata": {},
   "source": [
    "The decision of how many principal components to retain in PCA depends on the desired level of explained variance and the trade-off between dimensionality reduction and information loss. One common approach is to examine the explained variance ratio and choose the number of components that capture a sufficiently high percentage of the total variance.\n",
    "\n",
    "Let's illustrate this with an example using Python. Assume we have a dataset with the features [height, weight, age, gender, blood pressure]. We'll perform PCA and plot the cumulative explained variance to aid in the decision-making process:\n",
    "\n",
    "In the resulting plot, you'll see how the cumulative explained variance increases as the number of principal components increases. You can visually inspect the plot to determine how many components are needed to retain a satisfactory amount of variance. Choose the number of components that capture a high percentage of the total variance, such as 95% or more.\n",
    "\n",
    "Adjust the sample dataset size and distribution based on your specific use case for more accurate insights."
   ]
  },
  {
   "cell_type": "code",
   "execution_count": 13,
   "id": "26dc77c0",
   "metadata": {},
   "outputs": [
    {
     "name": "stderr",
     "output_type": "stream",
     "text": [
      "C:\\Users\\inare\\AppData\\Local\\Temp/ipykernel_12936/1524202726.py:17: DeprecationWarning: `np.object` is a deprecated alias for the builtin `object`. To silence this warning, use `object` by itself. Doing this will not modify any behavior and is safe. \n",
      "Deprecated in NumPy 1.20; for more details and guidance: https://numpy.org/devdocs/release/1.20.0-notes.html#deprecations\n",
      "  categorical_features = df.select_dtypes(include=[np.object]).columns.tolist()\n"
     ]
    },
    {
     "data": {
      "image/png": "[encoded data removed]",
      "text/plain": [
       "<Figure size 432x288 with 1 Axes>"
      ]
     },
     "metadata": {
      "needs_background": "light"
     },
     "output_type": "display_data"
    }
   ],
   "source": [
    "import matplotlib.pyplot as plt\n",
    "\n",
    "\n",
    "# Create a sample dataset\n",
    "data = {\n",
    "    'height': np.random.uniform(150, 190, 100),\n",
    "    'weight': np.random.uniform(50, 90, 100),\n",
    "    'age': np.random.uniform(18, 60, 100),\n",
    "    'gender': np.random.choice(['Male', 'Female'], 100),\n",
    "    'blood_pressure': np.random.uniform(90, 140, 100),\n",
    "}\n",
    "\n",
    "df = pd.DataFrame(data)\n",
    "\n",
    "# Separate numerical and categorical features\n",
    "numerical_features = df.select_dtypes(include=[np.number]).columns.tolist()\n",
    "categorical_features = df.select_dtypes(include=[np.object]).columns.tolist()\n",
    "\n",
    "# Standardize numerical features\n",
    "scaler = StandardScaler()\n",
    "df[numerical_features] = scaler.fit_transform(df[numerical_features])\n",
    "\n",
    "# Encode categorical features (if needed)\n",
    "\n",
    "# Perform PCA\n",
    "pca = PCA()\n",
    "pca_result = pca.fit_transform(df[numerical_features])\n",
    "\n",
    "# Calculate the cumulative explained variance ratio\n",
    "cumulative_explained_variance_ratio = np.cumsum(pca.explained_variance_ratio_)\n",
    "\n",
    "# Plot the cumulative explained variance\n",
    "plt.plot(range(1, len(cumulative_explained_variance_ratio) + 1), cumulative_explained_variance_ratio, marker='o')\n",
    "plt.xlabel('Number of Principal Components')\n",
    "plt.ylabel('Cumulative Explained Variance Ratio')\n",
    "plt.title('Cumulative Explained Variance Ratio vs. Number of Principal Components')\n",
    "plt.grid(True)\n",
    "plt.show()\n"
   ]
  },
  {
   "cell_type": "code",
   "execution_count": null,
   "id": "73bb9863",
   "metadata": {},
   "outputs": [],
   "source": []
  }
 ],
 "metadata": {
  "kernelspec": {
   "display_name": "Python 3 (ipykernel)",
   "language": "python",
   "name": "python3"
  },
  "language_info": {
   "codemirror_mode": {
    "name": "ipython",
    "version": 3
   },
   "file_extension": ".py",
   "mimetype": "text/x-python",
   "name": "python",
   "nbconvert_exporter": "python",
   "pygments_lexer": "ipython3",
   "version": "3.9.7"
  }
 },
 "nbformat": 4,
 "nbformat_minor": 5
}
