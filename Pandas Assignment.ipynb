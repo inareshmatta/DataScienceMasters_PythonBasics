{
 "cells": [
  {
   "cell_type": "markdown",
   "id": "016642c8",
   "metadata": {},
   "source": [
    "# Pandas Assignment"
   ]
  },
  {
   "cell_type": "markdown",
   "id": "9c2ab367",
   "metadata": {},
   "source": [
    "Q1. Create a Pandas Series that contains the following data: 4, 8, 15, 16, 23, and 42. Then, print the series."
   ]
  },
  {
   "cell_type": "code",
   "execution_count": 1,
   "id": "d522f279",
   "metadata": {},
   "outputs": [
    {
     "name": "stdout",
     "output_type": "stream",
     "text": [
      "0     4\n",
      "1     8\n",
      "2    15\n",
      "3    16\n",
      "4    23\n",
      "5    42\n",
      "dtype: int64\n"
     ]
    }
   ],
   "source": [
    "import pandas as pd\n",
    "\n",
    "data = [4, 8, 15, 16, 23, 42]\n",
    "series = pd.Series(data)\n",
    "print(series)\n"
   ]
  },
  {
   "cell_type": "code",
   "execution_count": 4,
   "id": "d55f39d5",
   "metadata": {},
   "outputs": [
    {
     "data": {
      "text/plain": [
       "pandas.core.series.Series"
      ]
     },
     "execution_count": 4,
     "metadata": {},
     "output_type": "execute_result"
    }
   ],
   "source": [
    "type(series)"
   ]
  },
  {
   "cell_type": "markdown",
   "id": "113c8fb8",
   "metadata": {},
   "source": [
    "Q2. Create a variable of list type containing 10 elements in it, and apply pandas.Series function on the\n",
    "variable print it."
   ]
  },
  {
   "cell_type": "code",
   "execution_count": 5,
   "id": "c962eefc",
   "metadata": {},
   "outputs": [
    {
     "name": "stdout",
     "output_type": "stream",
     "text": [
      "0     1\n",
      "1     2\n",
      "2     3\n",
      "3     4\n",
      "4     5\n",
      "5     6\n",
      "6     7\n",
      "7     8\n",
      "8     9\n",
      "9    10\n",
      "dtype: int64\n"
     ]
    }
   ],
   "source": [
    "import pandas as pd\n",
    "\n",
    "my_list = [1, 2, 3, 4, 5, 6, 7, 8, 9, 10]\n",
    "my_series = pd.Series(my_list)\n",
    "print(my_series)\n"
   ]
  },
  {
   "cell_type": "markdown",
   "id": "dde82b8c",
   "metadata": {},
   "source": [
    "Q3. Create a Pandas DataFrame that contains the following data:"
   ]
  },
  {
   "cell_type": "markdown",
   "id": "f01fc93f",
   "metadata": {},
   "source": [
    "Name\n",
    "Alice\n",
    "Bob\n",
    "Claire\n",
    "\n",
    "Age\n",
    "25\n",
    "30\n",
    "27\n",
    "\n",
    "Gender\n",
    "Female\n",
    "Male\n",
    "Female"
   ]
  },
  {
   "cell_type": "code",
   "execution_count": 6,
   "id": "400d3c63",
   "metadata": {},
   "outputs": [
    {
     "name": "stdout",
     "output_type": "stream",
     "text": [
      "     Name  Age  Gender\n",
      "0   Alice   25  Female\n",
      "1     Bob   30    Male\n",
      "2  Claire   27  Female\n"
     ]
    }
   ],
   "source": [
    "data = {\n",
    "    'Name': ['Alice', 'Bob', 'Claire'],\n",
    "    'Age': [25, 30, 27],\n",
    "    'Gender': ['Female', 'Male', 'Female']\n",
    "}\n",
    "\n",
    "df = pd.DataFrame(data)\n",
    "print(df)"
   ]
  },
  {
   "cell_type": "code",
   "execution_count": 7,
   "id": "4975d469",
   "metadata": {},
   "outputs": [
    {
     "data": {
      "text/plain": [
       "pandas.core.frame.DataFrame"
      ]
     },
     "execution_count": 7,
     "metadata": {},
     "output_type": "execute_result"
    }
   ],
   "source": [
    "type(df)"
   ]
  },
  {
   "cell_type": "markdown",
   "id": "acba1324",
   "metadata": {},
   "source": [
    "Q4. What is ‘DataFrame’ in pandas and how is it different from pandas.series? Explain with an example."
   ]
  },
  {
   "cell_type": "markdown",
   "id": "7fe1b83b",
   "metadata": {},
   "source": [
    "A DataFrame in pandas is a two-dimensional labeled data structure that can be thought of as a table or a spreadsheet. It consists of columns, where each column represents a different variable or feature, and rows, where each row represents an individual record or observation. In other words, a DataFrame is a collection of pandas Series objects that share a common index.\n",
    "\n",
    "A pandas Series, on the other hand, is a one-dimensional labeled array that can store data of any type (integer, string, float, etc.). It can be considered as a single column of a DataFrame. Each element in a Series has a corresponding label or index that allows for easy identification and access."
   ]
  },
  {
   "cell_type": "code",
   "execution_count": 8,
   "id": "a9df2046",
   "metadata": {},
   "outputs": [
    {
     "name": "stdout",
     "output_type": "stream",
     "text": [
      "Series:\n",
      "0    10\n",
      "1    20\n",
      "2    30\n",
      "3    40\n",
      "4    50\n",
      "dtype: int64\n",
      "\n",
      "DataFrame:\n",
      "   Numbers\n",
      "0       10\n",
      "1       20\n",
      "2       30\n",
      "3       40\n",
      "4       50\n"
     ]
    }
   ],
   "source": [
    "# Creating a Series\n",
    "my_series = pd.Series([10, 20, 30, 40, 50])\n",
    "\n",
    "# Creating a DataFrame\n",
    "my_df = pd.DataFrame({'Numbers': [10, 20, 30, 40, 50]})\n",
    "\n",
    "print(\"Series:\")\n",
    "print(my_series)\n",
    "print()\n",
    "\n",
    "print(\"DataFrame:\")\n",
    "print(my_df)"
   ]
  },
  {
   "cell_type": "code",
   "execution_count": 10,
   "id": "cd5f6337",
   "metadata": {},
   "outputs": [
    {
     "data": {
      "text/plain": [
       "pandas.core.series.Series"
      ]
     },
     "execution_count": 10,
     "metadata": {},
     "output_type": "execute_result"
    }
   ],
   "source": [
    "type(my_series)"
   ]
  },
  {
   "cell_type": "code",
   "execution_count": 11,
   "id": "a4321ba7",
   "metadata": {},
   "outputs": [
    {
     "data": {
      "text/plain": [
       "pandas.core.frame.DataFrame"
      ]
     },
     "execution_count": 11,
     "metadata": {},
     "output_type": "execute_result"
    }
   ],
   "source": [
    "type(my_df)"
   ]
  },
  {
   "cell_type": "markdown",
   "id": "260ef70d",
   "metadata": {},
   "source": [
    "Q5. What are some common functions you can use to manipulate data in a Pandas DataFrame? Can\n",
    "you give an example of when you might use one of these functions?"
   ]
  },
  {
   "cell_type": "markdown",
   "id": "33e3d1f9",
   "metadata": {},
   "source": [
    "| Use Case                     | Method                    | Description                                                                                      | Parameters                                                                                      |\n",
    "|------------------------------|---------------------------|--------------------------------------------------------------------------------------------------|-------------------------------------------------------------------------------------------------|\n",
    "| Data Reading and Writing     | `pd.read_csv()`           | Read a CSV file into a DataFrame.                                                                | `filepath_or_buffer`, `sep`, `header`, `names`, `dtype`, `na_values`, `skiprows`, `nrows`, etc. |\n",
    "| Data Reading and Writing     | `pd.read_excel()`         | Read an Excel file into a DataFrame.                                                              | `io`, `sheet_name`, `header`, `names`, `dtype`, `na_values`, `skiprows`, `nrows`, etc.          |\n",
    "| Data Reading and Writing     | `df.to_csv()`             | Write a DataFrame to a CSV file.                                                                  | `path_or_buf`, `sep`, `na_rep`, `columns`, `header`, `index`, `mode`, etc.                      |\n",
    "| Data Reading and Writing     | `df.to_excel()`           | Write a DataFrame to an Excel file.                                                               | `excel_writer`, `sheet_name`, `header`, `index`, `startrow`, `startcol`, `engine`, etc.         |\n",
    "| Data Exploration and Manipulation | `df.head()`               | Display the first few rows of a DataFrame.                                                        | `n`                                                                                             |\n",
    "| Data Exploration and Manipulation | `df.tail()`               | Display the last few rows of a DataFrame.                                                         | `n`                                                                                             |\n",
    "| Data Exploration and Manipulation | `df.shape`                | Get the dimensions (rows, columns) of the DataFrame.                                              | N/A                                                                                             |\n",
    "| Data Exploration and Manipulation | `df.info()`               | Display a summary of the DataFrame's structure and data types.                                    | `verbose`, `null_counts`                                                                         |\n",
    "| Data Exploration and Manipulation | `df.describe()`           | Generate descriptive statistics of the DataFrame.                                                 | `percentiles`, `include`, `exclude`                                                              |\n",
    "| Data Selection and Filtering | `df[col]` or `df.loc[:, col]` | Select a single column or a list of columns from a DataFrame.                                    | N/A                                                                                             |\n",
    "| Data Selection and Filtering | `df.iloc[row_index]`      | Select a single row by its index.                                                                 | N/A                                                                                             |\n",
    "| Data Selection and Filtering | `df.loc[condition]`       | Select rows based on a specific condition.                                                        | N/A                                                                                             |\n",
    "| Data Selection and Filtering | `df[df[col] > value]`     | Select rows where a column value satisfies a given condition.                                     | N/A                                                                                             |\n",
    "| Data Aggregation and Grouping | `df.groupby(col)`         | Group rows based on unique values in a column.                                                    | `by`, `axis`, `level`, `sort`, `as_index`, `dropna`                                               |\n",
    "| Data Aggregation and Grouping | `grouped_df.agg(func)`    | Apply aggregation functions (e.g., sum, mean, count) to grouped data.                            | `func`, `axis`                                                                                  |\n",
    "| Data Aggregation and Grouping | `df.pivot_table()`        | Create a pivot table based on the DataFrame's values.                                             | `values`, `index`, `columns`, `aggfunc`, `fill_value`                                             |\n",
    "| Data Aggregation and Grouping | `df.merge()`              | Merge two DataFrames based on a common column.                                                    | `right`, `how`, `on`, `left_on`, `right_on`, `left_index`, `right_index`, etc.                    |\n",
    "|\n",
    "| Use Case                     | Method                    | Description                                                                                      | Parameters                                                                                      |\n",
    "| Data Cleaning and Preprocessing | `df.dropna()`             | Remove rows with missing values.                                                                 | `axis`, `how`, `thresh`, `subset`, `inplace`                                                     |\n",
    "| Data Cleaning and Preprocessing | `df.fillna(value)`        | Fill missing values with a specified value.                                                       | `value`, `method`, `axis`, `inplace`, `limit`, `downcast`                                        |\n",
    "| Data Cleaning and Preprocessing | `df.duplicated()`         | Identify and handle duplicated rows.                                                              | `subset`, `keep`, `inplace`                                                                      |\n",
    "| Data Cleaning and Preprocessing | `df.replace(old, new)`    | Replace specific values in the DataFrame.                                                         | `to_replace`, `value`, `inplace`, `limit`, `regex`, `method`                                    |\n",
    "| Data Visualization           | `df.plot()`               | Create basic plots (line, bar, scatter, etc.) from the DataFrame.                                 | `x`, `y`, `kind`, `ax`, `subplots`, `layout`, `title`, `grid`, `legend`, `style`, `colormap`, etc.|\n",
    "| Data Visualization           | `df.hist()`               | Generate histograms for the DataFrame's columns.                                                  | `column`, `by`, `grid`, `xlabelsize`, `ylabelsize`, `ax`, `sharex`, `sharey`, etc.               |\n",
    "| Data Visualization           | `df.boxplot()`            | Create box plots to visualize the distribution of data.                                           | `column`, `by`, `ax`, `fontsize`, `grid`, `layout`, `patch_artist`, etc.                         |\n",
    "| Data Visualization           | `df.plot(kind='pie')`     | Generate a pie chart from the DataFrame.                                                          | `y`, `subplots`, `figsize`, `autopct`, `shadow`, `startangle`, `ax`, `legend`, etc.              |\n",
    "|------------------------------|---------------------------|--------------------------------------------------------------------\n"
   ]
  },
  {
   "cell_type": "markdown",
   "id": "b938e92d",
   "metadata": {},
   "source": [
    "Q6. Which of the following is mutable in nature Series, DataFrame, Panel?"
   ]
  },
  {
   "cell_type": "markdown",
   "id": "21959706",
   "metadata": {},
   "source": [
    "Among the options provided (Series, DataFrame, Panel), both Series and DataFrame are mutable in nature, while Panel is not.\n",
    "\n",
    "In pandas, mutability refers to the ability to modify an object after its creation.\n",
    "\n",
    "Series: A pandas Series is mutable, meaning you can modify its values, add or remove elements, or update its index. For example, you can change the values in a Series by assigning new values to specific indices.\n",
    "\n",
    "DataFrame: Similarly, a pandas DataFrame is mutable. You can modify the values in the DataFrame, add or remove columns, update the index or column labels, and perform various other operations to manipulate the data within the DataFrame.\n",
    "\n",
    "Panel: On the other hand, the pandas Panel object is not mutable. Panels have been deprecated in recent versions of pandas, and the recommended practice is to use MultiIndex DataFrames to represent similar structured data instead.\n",
    "\n",
    "So, in summary:\n",
    "\n",
    "Series and DataFrame are mutable in nature.\n",
    "Panel is not mutable and has been deprecated.\n",
    "Note: This information is based on the current version of pandas (as of my knowledge cutoff in September 2021). It's always recommended to refer to the pandas documentation for the most up-to-date information."
   ]
  },
  {
   "cell_type": "markdown",
   "id": "842ae2c9",
   "metadata": {},
   "source": [
    "Q7. Create a DataFrame using multiple Series. Explain with an example."
   ]
  },
  {
   "cell_type": "code",
   "execution_count": 12,
   "id": "3985697a",
   "metadata": {},
   "outputs": [],
   "source": [
    "# Creating Series for Name, Age, and Gender\n",
    "name_series = pd.Series(['Alice', 'Bob', 'Claire'])\n",
    "age_series = pd.Series([25, 30, 27])\n",
    "gender_series = pd.Series(['Female', 'Male', 'Female'])\n",
    "\n",
    "# Creating a DataFrame using the Series\n",
    "data = {'Name': name_series, 'Age': age_series, 'Gender': gender_series}\n",
    "df = pd.DataFrame(data)"
   ]
  },
  {
   "cell_type": "code",
   "execution_count": 13,
   "id": "34b29d24",
   "metadata": {},
   "outputs": [
    {
     "name": "stdout",
     "output_type": "stream",
     "text": [
      "     Name  Age  Gender\n",
      "0   Alice   25  Female\n",
      "1     Bob   30    Male\n",
      "2  Claire   27  Female\n"
     ]
    }
   ],
   "source": [
    "print(df)"
   ]
  },
  {
   "cell_type": "markdown",
   "id": "1449bdd6",
   "metadata": {},
   "source": [
    "In the code above, three separate Series objects are created: name_series, age_series, and gender_series. Each Series represents a column in the desired DataFrame.\n",
    "\n",
    "Next, a dictionary named data is created, where the keys are the column names ('Name', 'Age', 'Gender') and the values are the corresponding Series.\n",
    "\n",
    "Finally, the pd.DataFrame() function is used to convert the dictionary into a DataFrame, which is stored in the variable df. The resulting DataFrame contains the columns 'Name', 'Age', and 'Gender', with the data from the respective Series.\n",
    "\n",
    "This example demonstrates how multiple Series can be combined to create a DataFrame, allowing you to organize and analyze data in a tabular format."
   ]
  },
  {
   "cell_type": "code",
   "execution_count": null,
   "id": "f1a6c830",
   "metadata": {},
   "outputs": [],
   "source": []
  }
 ],
 "metadata": {
  "kernelspec": {
   "display_name": "Python 3 (ipykernel)",
   "language": "python",
   "name": "python3"
  },
  "language_info": {
   "codemirror_mode": {
    "name": "ipython",
    "version": 3
   },
   "file_extension": ".py",
   "mimetype": "text/x-python",
   "name": "python",
   "nbconvert_exporter": "python",
   "pygments_lexer": "ipython3",
   "version": "3.9.7"
  }
 },
 "nbformat": 4,
 "nbformat_minor": 5
}
