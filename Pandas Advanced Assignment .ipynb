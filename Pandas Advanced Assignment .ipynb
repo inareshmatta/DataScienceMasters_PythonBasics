{
 "cells": [
  {
   "cell_type": "markdown",
   "id": "f6593eb7",
   "metadata": {},
   "source": [
    "# Pandas advanced Assignments"
   ]
  },
  {
   "cell_type": "markdown",
   "id": "70109111",
   "metadata": {},
   "source": [
    "### Q1. List any five functions of the pandas library with execution."
   ]
  },
  {
   "cell_type": "markdown",
   "id": "f6f9f48c",
   "metadata": {},
   "source": [
    "Five commonly used functions in the pandas library along with their execution:\n",
    "\n",
    "1. `read_csv()`: This function is used to read data from a CSV file and create a DataFrame.\n",
    "```python\n",
    "import pandas as pd\n",
    "df = pd.read_csv('data.csv')\n",
    "```\n",
    "\n",
    "2. `head()`: This function returns the first few rows of a DataFrame (by default, the first five rows).\n",
    "```python\n",
    "df.head()\n",
    "```\n",
    "\n",
    "3. `describe()`: This function provides descriptive statistics of the DataFrame, such as count, mean, standard deviation, minimum, maximum, and quartiles.\n",
    "```python\n",
    "df.describe()\n",
    "```\n",
    "\n",
    "4. `groupby()`: This function is used for grouping data based on one or more columns, allowing for aggregation operations on the grouped data.\n",
    "```python\n",
    "grouped_df = df.groupby('Category')\n",
    "```\n",
    "\n",
    "5. `plot()`: This function allows you to create various types of plots, such as line plots, bar plots, histograms, etc., using the data from the DataFrame.\n",
    "```python\n",
    "df.plot(kind='line', x='Date', y='Value')\n",
    "```\n",
    "\n",
    "These functions are just a small sample of the extensive functionality provided by the pandas library. They help with data manipulation, exploration, and visualization, making pandas a powerful tool for data analysis."
   ]
  },
  {
   "cell_type": "markdown",
   "id": "7a6c1bc2",
   "metadata": {},
   "source": [
    "### Q2. Given a Pandas DataFrame df with columns 'A', 'B', and 'C', write a Python function to re-index the DataFrame with a new index that starts from 1 and increments by 2 for each row."
   ]
  },
  {
   "cell_type": "markdown",
   "id": "f0202563",
   "metadata": {},
   "source": [
    "You can achieve this by using the `set_index()` function in pandas along with a custom index array. Here's a Python function that re-indexes a DataFrame with a new index starting from 1 and incrementing by 2 for each row:\n",
    "\n",
    "```python\n",
    "import pandas as pd\n",
    "\n",
    "def reindex_dataframe(df):\n",
    "    new_index = pd.Index(range(1, len(df)*2, 2))\n",
    "    df = df.set_index(new_index)\n",
    "    return df\n",
    "```\n",
    "\n",
    "Here's how you can use this function with a sample DataFrame:\n",
    "\n",
    "```python\n",
    "# Sample DataFrame\n",
    "df = pd.DataFrame({'A': [10, 20, 30], 'B': [40, 50, 60], 'C': [70, 80, 90]})\n",
    "\n",
    "# Re-indexing the DataFrame\n",
    "df = reindex_dataframe(df)\n",
    "\n",
    "# Printing the updated DataFrame\n",
    "print(df)\n",
    "```\n",
    "\n",
    "Output:\n",
    "```\n",
    "    A   B   C\n",
    "1  10  40  70\n",
    "3  20  50  80\n",
    "5  30  60  90\n",
    "```\n",
    "\n",
    "In the updated DataFrame, the rows are re-indexed with a new index starting from 1 and incrementing by 2 for each row."
   ]
  },
  {
   "cell_type": "code",
   "execution_count": 1,
   "id": "2a715a2f",
   "metadata": {},
   "outputs": [],
   "source": [
    "import pandas as pd\n",
    "\n",
    "def reindex_dataframe(df):\n",
    "    new_index = pd.Index(range(1, len(df)*2, 2))\n",
    "    df = df.set_index(new_index)\n",
    "    return df\n"
   ]
  },
  {
   "cell_type": "code",
   "execution_count": 2,
   "id": "4cf8ca46",
   "metadata": {},
   "outputs": [
    {
     "name": "stdout",
     "output_type": "stream",
     "text": [
      "    A   B   C\n",
      "1  10  40  70\n",
      "3  20  50  80\n",
      "5  30  60  90\n"
     ]
    }
   ],
   "source": [
    "# Sample DataFrame\n",
    "df = pd.DataFrame({'A': [10, 20, 30], 'B': [40, 50, 60], 'C': [70, 80, 90]})\n",
    "\n",
    "# Re-indexing the DataFrame\n",
    "df = reindex_dataframe(df)\n",
    "\n",
    "# Printing the updated DataFrame\n",
    "print(df)\n"
   ]
  },
  {
   "cell_type": "markdown",
   "id": "dbeb4ef1",
   "metadata": {},
   "source": [
    "### Q3. You have a Pandas DataFrame df with a column named 'Values'. Write a Python function that iterates over the DataFrame and calculates the sum of the first three values in the 'Values' column. The function should print the sum to the console."
   ]
  },
  {
   "cell_type": "code",
   "execution_count": 6,
   "id": "15afa0f8",
   "metadata": {},
   "outputs": [],
   "source": [
    "import pandas as pd\n",
    "\n",
    "def calculate_sum(df):\n",
    "    values = df['Values'].head(3)\n",
    "    sum_values = values.sum()\n",
    "    print(\"Sum of the first three values:\", sum_values)\n"
   ]
  },
  {
   "cell_type": "markdown",
   "id": "dcc5f095",
   "metadata": {},
   "source": [
    "### Q4. Given a Pandas DataFrame df with a column 'Text', write a Python function to create a new column 'Word_Count' that contains the number of words in each row of the 'Text' column."
   ]
  },
  {
   "cell_type": "code",
   "execution_count": 7,
   "id": "ff475f0e",
   "metadata": {},
   "outputs": [],
   "source": [
    "def count_words(df):\n",
    "    df['Word_Count'] = df['Text'].apply(lambda x: len(str(x).split()))\n",
    "    return df\n"
   ]
  },
  {
   "cell_type": "code",
   "execution_count": 8,
   "id": "548438c6",
   "metadata": {},
   "outputs": [
    {
     "name": "stdout",
     "output_type": "stream",
     "text": [
      "                  Text  Word_Count\n",
      "0  Hello, how are you?           4\n",
      "1     I am doing well.           4\n",
      "2     Python is great!           3\n"
     ]
    }
   ],
   "source": [
    "# Sample DataFrame\n",
    "df = pd.DataFrame({'Text': ['Hello, how are you?', 'I am doing well.', 'Python is great!']})\n",
    "\n",
    "# Creating the 'Word_Count' column\n",
    "df = count_words(df)\n",
    "\n",
    "# Printing the updated DataFrame\n",
    "print(df)\n"
   ]
  },
  {
   "cell_type": "markdown",
   "id": "43502555",
   "metadata": {},
   "source": [
    "### Q5. How are DataFrame.size() and DataFrame.shape() different?"
   ]
  },
  {
   "cell_type": "markdown",
   "id": "720aeab9",
   "metadata": {},
   "source": [
    "The methods `DataFrame.size()` and `DataFrame.shape()` in pandas provide different information about the dimensions of a DataFrame.\n",
    "\n",
    "1. `DataFrame.size()`: This method returns the total number of elements in the DataFrame. It calculates the size by multiplying the number of rows by the number of columns. The returned value represents the total count of cells in the DataFrame, including empty or NaN (missing) values.\n",
    "\n",
    "2. `DataFrame.shape()`: This attribute returns a tuple representing the dimensions of the DataFrame. It provides two values: the number of rows and the number of columns. The shape attribute is useful for quickly obtaining the size of the DataFrame along each dimension.\n",
    "\n"
   ]
  },
  {
   "cell_type": "code",
   "execution_count": 9,
   "id": "076dcf1b",
   "metadata": {},
   "outputs": [
    {
     "name": "stdout",
     "output_type": "stream",
     "text": [
      "Size of DataFrame: 6\n",
      "Shape of DataFrame: (3, 2)\n"
     ]
    }
   ],
   "source": [
    "import pandas as pd\n",
    "\n",
    "# Create a sample DataFrame\n",
    "data = {'A': [1, 2, 3],\n",
    "        'B': [4, 5, 6]}\n",
    "df = pd.DataFrame(data)\n",
    "\n",
    "# Calculate size using size()\n",
    "df_size = df.size\n",
    "\n",
    "# Get shape using shape()\n",
    "df_shape = df.shape\n",
    "\n",
    "print(\"Size of DataFrame:\", df_size)\n",
    "print(\"Shape of DataFrame:\", df_shape)\n"
   ]
  },
  {
   "cell_type": "markdown",
   "id": "5ae79bc7",
   "metadata": {},
   "source": [
    "### Q6. Which function of pandas do we use to read an excel file?"
   ]
  },
  {
   "cell_type": "code",
   "execution_count": null,
   "id": "890ae319",
   "metadata": {},
   "outputs": [],
   "source": [
    "df = pd.read_excel('filename.xlsx')"
   ]
  },
  {
   "cell_type": "markdown",
   "id": "fcf9dbd5",
   "metadata": {},
   "source": [
    "### Q7. You have a Pandas DataFrame df that contains a column named 'Email' that contains email addresses in the format 'username@domain.com'. Write a Python function that creates a new column 'Username' in df that contains only the username part of each email address.\n",
    "\n",
    "### The username is the part of the email address that appears before the '@' symbol. For example, if the email address is 'john.doe@example.com', the 'Username' column should contain 'john.doe'. Your function should extract the username from each email address and store it in the new 'Username' column."
   ]
  },
  {
   "cell_type": "code",
   "execution_count": 10,
   "id": "43a53712",
   "metadata": {},
   "outputs": [
    {
     "name": "stdout",
     "output_type": "stream",
     "text": [
      "                      Email      Username\n",
      "0      john.doe@example.com      john.doe\n",
      "1    jane.smith@example.com    jane.smith\n",
      "2  alice.walker@example.com  alice.walker\n"
     ]
    }
   ],
   "source": [
    "# Create a DataFrame with email addresses\n",
    "df = pd.DataFrame({'Email': ['john.doe@example.com', 'jane.smith@example.com', 'alice.walker@example.com']})\n",
    "\n",
    "# Function to extract the username\n",
    "def extract_username(df):\n",
    "    df['Username'] = df['Email'].str.split('@').str[0]\n",
    "    return df\n",
    "\n",
    "# Apply the function to the DataFrame\n",
    "df = extract_username(df)\n",
    "\n",
    "# Print the updated DataFrame\n",
    "print(df)\n"
   ]
  },
  {
   "cell_type": "markdown",
   "id": "98c42fcd",
   "metadata": {},
   "source": [
    "### Q8. You have a Pandas DataFrame df with columns 'A', 'B', and 'C'. Write a Python function that selects all rows where the value in column 'A' is greater than 5 and the value in column 'B' is less than 10. The function should return a new DataFrame that contains only the selected rows. For example, if df contains the following values:\n",
    "A B C\n",
    "0 3 5 1\n",
    "1 8 2 7\n",
    "2 6 9 4\n",
    "3 2 3 5\n",
    "4 9 1 2\n",
    "\n",
    "### Your function should select the following rows: A B C :\n",
    "1 8 2 7\n",
    "4 9 1 2\n",
    "The function should return a new DataFrame that contains only the selected rows."
   ]
  },
  {
   "cell_type": "code",
   "execution_count": 14,
   "id": "c4bd544b",
   "metadata": {},
   "outputs": [
    {
     "name": "stdout",
     "output_type": "stream",
     "text": [
      "   A  B  C\n",
      "1  8  2  7\n",
      "2  6  9  4\n",
      "4  9  1  2\n"
     ]
    }
   ],
   "source": [
    "# Create a DataFrame with the given values\n",
    "df = pd.DataFrame({'A': [3, 8, 6, 2, 9],\n",
    "                   'B': [5, 2, 9, 3, 1],\n",
    "                   'C': [1, 7, 4, 5, 2]})\n",
    "\n",
    "# Function to select rows\n",
    "def select_rows(df):\n",
    "    selected_rows = df[(df['A'] > 5) & (df['B'] < 10)]\n",
    "    return selected_rows\n",
    "\n",
    "# Apply the function to the DataFrame\n",
    "selected_df = select_rows(df)\n",
    "\n",
    "# Print the selected DataFrame\n",
    "print(selected_df)\n"
   ]
  },
  {
   "cell_type": "markdown",
   "id": "03ea9a3a",
   "metadata": {},
   "source": [
    "### Q9. Given a Pandas DataFrame df with a column 'Values', write a Python function to calculate the mean,median, and standard deviation of the values in the 'Values' column."
   ]
  },
  {
   "cell_type": "code",
   "execution_count": null,
   "id": "0d930d35",
   "metadata": {},
   "outputs": [],
   "source": [
    "def calculate_stats(df):\n",
    "    mean_value = df['Values'].mean()\n",
    "    median_value = df['Values'].median()\n",
    "    std_value = df['Values'].std()\n",
    "    return mean_value, median_value, std_value\n",
    "# Assuming you have a DataFrame named df with a column 'Values'\n",
    "\n",
    "# Call the function to calculate statistics\n",
    "mean, median, std = calculate_stats(df)\n",
    "\n",
    "# Print the calculated statistics\n",
    "print(\"Mean:\", mean)\n",
    "print(\"Median:\", median)\n",
    "print(\"Standard Deviation:\", std)\n"
   ]
  },
  {
   "cell_type": "markdown",
   "id": "67cf7752",
   "metadata": {},
   "source": [
    "### Q10. Given a Pandas DataFrame df with a column 'Sales' and a column 'Date', write a Python function to create a new column 'MovingAverage' that contains the moving average of the sales for the past 7 days for each row in the DataFrame. The moving average should be calculated using a window of size 7 and should include the current day."
   ]
  },
  {
   "cell_type": "code",
   "execution_count": 15,
   "id": "e0cce276",
   "metadata": {},
   "outputs": [
    {
     "name": "stdout",
     "output_type": "stream",
     "text": [
      "        Date  Sales  MovingAverage\n",
      "0 2023-01-01     20      20.000000\n",
      "1 2023-01-02     25      22.500000\n",
      "2 2023-01-03     18      21.000000\n",
      "3 2023-01-04     30      23.250000\n",
      "4 2023-01-05     22      23.000000\n",
      "5 2023-01-06     19      22.333333\n",
      "6 2023-01-07     24      22.571429\n"
     ]
    }
   ],
   "source": [
    "def calculate_moving_average(df):\n",
    "    window_size = 7\n",
    "    df['MovingAverage'] = df['Sales'].rolling(window=window_size, min_periods=1).mean()\n",
    "    return df\n",
    "\n",
    "# Create a sample DataFrame with columns 'Date' and 'Sales'\n",
    "data = {'Date': ['2023-01-01', '2023-01-02', '2023-01-03', '2023-01-04', '2023-01-05', '2023-01-06', '2023-01-07'],\n",
    "        'Sales': [20, 25, 18, 30, 22, 19, 24]}\n",
    "\n",
    "df = pd.DataFrame(data)\n",
    "df['Date'] = pd.to_datetime(df['Date'])  # Convert 'Date' column to datetime format\n",
    "\n",
    "# Call the function to calculate the moving average\n",
    "df = calculate_moving_average(df)\n",
    "\n",
    "# Print the updated DataFrame with the moving average column\n",
    "print(df)\n"
   ]
  },
  {
   "cell_type": "markdown",
   "id": "dae4f81b",
   "metadata": {},
   "source": [
    "### Q11. You have a Pandas DataFrame df with a column 'Date'. Write a Python function that creates a new column 'Weekday' in the DataFrame. The 'Weekday' column should contain the weekday name (e.g. Monday, Tuesday) corresponding to each date in the 'Date' column. For example, if df contains the following values:\n",
    "Date\n",
    "0 2023-01-01  \n",
    "1 2023-01-02  \n",
    "2 2023-01-03  \n",
    "3 2023-01-04   \n",
    "4 2023-01-05   \n",
    "### Your function should create the following DataFrame:\n",
    "\n",
    "Date Weekday \n",
    "0 2023-01-01 Sunday  \n",
    "1 2023-01-02 Monday  \n",
    "2 2023-01-03 Tuesday  \n",
    "3 2023-01-04 Wednesday  \n",
    "4 2023-01-05 Thursday  \n",
    "The function should return the modified DataFrame.  "
   ]
  },
  {
   "cell_type": "code",
   "execution_count": 16,
   "id": "41511d99",
   "metadata": {},
   "outputs": [
    {
     "name": "stdout",
     "output_type": "stream",
     "text": [
      "        Date    Weekday\n",
      "0 2023-01-01     Sunday\n",
      "1 2023-01-02     Monday\n",
      "2 2023-01-03    Tuesday\n",
      "3 2023-01-04  Wednesday\n",
      "4 2023-01-05   Thursday\n"
     ]
    }
   ],
   "source": [
    "def add_weekday_column(df):\n",
    "    df['Weekday'] = df['Date'].dt.day_name()\n",
    "    return df\n",
    "\n",
    "# Create a sample DataFrame with a column 'Date'\n",
    "data = {'Date': ['2023-01-01', '2023-01-02', '2023-01-03', '2023-01-04', '2023-01-05']}\n",
    "df = pd.DataFrame(data)\n",
    "df['Date'] = pd.to_datetime(df['Date'])  # Convert 'Date' column to datetime format\n",
    "\n",
    "# Call the function to add the weekday column\n",
    "df = add_weekday_column(df)\n",
    "\n",
    "# Print the modified DataFrame with the weekday column\n",
    "print(df)\n"
   ]
  },
  {
   "cell_type": "markdown",
   "id": "1fe12f7b",
   "metadata": {},
   "source": [
    "### Q12. Given a Pandas DataFrame df with a column 'Date' that contains timestamps, write a Python function to select all rows where the date is between '2023-01-01' and '2023-01-31'."
   ]
  },
  {
   "cell_type": "code",
   "execution_count": 19,
   "id": "96847d1e",
   "metadata": {},
   "outputs": [
    {
     "name": "stdout",
     "output_type": "stream",
     "text": [
      "        Date    Weekday\n",
      "0 2023-01-01     Sunday\n",
      "1 2023-01-02     Monday\n",
      "2 2023-01-03    Tuesday\n",
      "3 2023-01-04  Wednesday\n",
      "4 2023-01-05   Thursday\n"
     ]
    }
   ],
   "source": [
    "def select_rows_by_date(df):\n",
    "    start_date = pd.to_datetime('2023-01-01')\n",
    "    end_date = pd.to_datetime('2023-01-31')\n",
    "    selected_rows = df[(df['Date'] >= start_date) & (df['Date'] <= end_date)]\n",
    "    return selected_rows\n",
    "\n",
    "# Assuming you have a DataFrame named df with a column 'Date'\n",
    "\n",
    "# Call the function to select rows by date\n",
    "selected_df = select_rows_by_date(df)\n",
    "\n",
    "# Print the selected DataFrame\n",
    "print(selected_df)\n"
   ]
  },
  {
   "cell_type": "markdown",
   "id": "295ad737",
   "metadata": {},
   "source": [
    "### Q13. To use the basic functions of pandas, what is the first and foremost necessary library that needs to be imported?"
   ]
  },
  {
   "cell_type": "markdown",
   "id": "6ab5d4fe",
   "metadata": {},
   "source": [
    "The first and foremost library that needs to be imported to use the basic functions of pandas is `pandas` itself. The `pandas` library provides various data structures and functions for data manipulation and analysis.\n",
    "\n",
    "To import `pandas`, you can use the following line of code:\n",
    "\n",
    "```python\n",
    "import pandas as pd\n",
    "```\n",
    "\n",
    "By importing `pandas` as `pd`, you can then access the pandas functions and classes using the `pd` prefix. This is a common convention used by the pandas community. Once imported, you can use pandas functions to create, manipulate, and analyze data in your Python code."
   ]
  },
  {
   "cell_type": "code",
   "execution_count": null,
   "id": "f954a943",
   "metadata": {},
   "outputs": [],
   "source": []
  }
 ],
 "metadata": {
  "kernelspec": {
   "display_name": "Python 3 (ipykernel)",
   "language": "python",
   "name": "python3"
  },
  "language_info": {
   "codemirror_mode": {
    "name": "ipython",
    "version": 3
   },
   "file_extension": ".py",
   "mimetype": "text/x-python",
   "name": "python",
   "nbconvert_exporter": "python",
   "pygments_lexer": "ipython3",
   "version": "3.9.7"
  }
 },
 "nbformat": 4,
 "nbformat_minor": 5
}
