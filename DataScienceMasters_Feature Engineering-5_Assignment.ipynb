{
 "cells": [
  {
   "cell_type": "markdown",
   "id": "9cd22f69",
   "metadata": {},
   "source": [
    "# DataScienceMasters_Feature Engineering-5_Assignment"
   ]
  },
  {
   "cell_type": "markdown",
   "id": "f4a8665a",
   "metadata": {},
   "source": [
    "### Q1. What is the difference between Ordinal Encoding and Label Encoding? Provide an example of when you might choose one over the other."
   ]
  },
  {
   "cell_type": "markdown",
   "id": "0ddd28fc",
   "metadata": {},
   "source": [
    "**Ordinal Encoding:**\n",
    "- Ordinal encoding is a method of encoding categorical variables where the categories have an inherent order or ranking.\n",
    "- The assigned numerical values preserve the ordinal relationship between the categories.\n",
    "\n",
    "**Label Encoding:**\n",
    "- Label encoding is a method of encoding categorical variables where each category is assigned a unique integer.\n",
    "- It does not consider the order or ranking of the categories; it merely provides a numerical label.\n",
    "\n",
    "**Example:**\n",
    "Consider a dataset with an \"Education Level\" feature having categories: \"High School,\" \"Bachelor's,\" \"Master's,\" and \"Ph.D.\"\n",
    "\n",
    "- **Ordinal Encoding:**\n",
    "  - Assign numerical values based on the education level's inherent order (e.g., High School - 1, Bachelor's - 2, Master's - 3, Ph.D. - 4).\n",
    "\n",
    "- **Label Encoding:**\n",
    "  - Assign unique integer labels to each category without considering their order (e.g., High School - 1, Bachelor's - 2, Master's - 3, Ph.D. - 4).\n",
    "\n",
    "**When to Choose:**\n",
    "- **Ordinal Encoding:** Choose ordinal encoding when the categorical variable represents ordered or ranked categories, and the order is meaningful for your analysis. For instance, education levels, customer satisfaction levels, etc.\n",
    "\n",
    "- **Label Encoding:** Choose label encoding when the categories have no inherent order, and you simply need a numerical representation for categories. For example, in machine learning algorithms that require numeric inputs, label encoding might be preferred for nominal variables.\n",
    "\n",
    "**Note:** It's crucial to understand the nature of the categorical variable and the requirements of the machine learning algorithm being used when deciding between ordinal and label encoding."
   ]
  },
  {
   "cell_type": "markdown",
   "id": "b3808c73",
   "metadata": {},
   "source": [
    "### Q2. Explain how Target Guided Ordinal Encoding works and provide an example of when you might use it in a machine learning project."
   ]
  },
  {
   "cell_type": "markdown",
   "id": "ab10d024",
   "metadata": {},
   "source": [
    "**Target Guided Ordinal Encoding:**\n",
    "\n",
    "Target Guided Ordinal Encoding is a method of encoding categorical variables based on the mean of the target variable for each category. It involves assigning ranks to the categories, where the rank is determined by the mean of the target variable corresponding to each category. This encoding technique is particularly useful when dealing with ordinal categorical variables.\n",
    "\n",
    "**Steps for Target Guided Ordinal Encoding:**\n",
    "1. Calculate the mean of the target variable for each category.\n",
    "2. Order the categories based on their mean values.\n",
    "3. Assign ranks to the categories based on their order.\n",
    "\n",
    "**Example:**\n",
    "Suppose you have a dataset of customer satisfaction levels (\"Low,\" \"Medium,\" \"High\") with a binary target variable indicating whether a customer churned or not.\n",
    "\n",
    "In this example, the ordinal encoding is based on the mean churn rate for each satisfaction level. The \"Low\" satisfaction level has the highest churn rate, so it gets the highest rank.\n",
    "\n",
    "**When to Use Target Guided Ordinal Encoding:**\n",
    "- Target Guided Ordinal Encoding is useful when the ordinal variable's categories have a meaningful relationship with the target variable.\n",
    "- It can be applied when you want to capture the impact of each category on the target variable by encoding them based on their association."
   ]
  },
  {
   "cell_type": "code",
   "execution_count": 1,
   "id": "e8980f1c",
   "metadata": {},
   "outputs": [
    {
     "name": "stdout",
     "output_type": "stream",
     "text": [
      "  Satisfaction_Level  Churn  Satisfaction_Level_Encoded\n",
      "0                Low      1                           3\n",
      "1             Medium      0                           2\n",
      "2               High      0                           1\n",
      "3             Medium      1                           2\n",
      "4               High      0                           1\n",
      "5                Low      1                           3\n"
     ]
    },
    {
     "name": "stderr",
     "output_type": "stream",
     "text": [
      "C:\\Users\\inare\\Anaconda3\\lib\\site-packages\\pandas\\core\\computation\\expressions.py:21: UserWarning: Pandas requires version '2.8.0' or newer of 'numexpr' (version '2.7.3' currently installed).\n",
      "  from pandas.core.computation.check import NUMEXPR_INSTALLED\n",
      "C:\\Users\\inare\\Anaconda3\\lib\\site-packages\\pandas\\core\\arrays\\masked.py:62: UserWarning: Pandas requires version '1.3.4' or newer of 'bottleneck' (version '1.3.2' currently installed).\n",
      "  from pandas.core import (\n"
     ]
    }
   ],
   "source": [
    "import pandas as pd\n",
    "import numpy as np\n",
    "\n",
    "# Sample dataset\n",
    "data = {'Satisfaction_Level': ['Low', 'Medium', 'High', 'Medium', 'High', 'Low'],\n",
    "        'Churn': [1, 0, 0, 1, 0, 1]}\n",
    "df = pd.DataFrame(data)\n",
    "\n",
    "# Calculate mean of target variable for each category\n",
    "means = df.groupby('Satisfaction_Level')['Churn'].mean().sort_values()\n",
    "\n",
    "# Create a mapping dictionary based on mean values\n",
    "mapping = {category: rank for rank, category in enumerate(means.index, start=1)}\n",
    "\n",
    "# Apply Target Guided Ordinal Encoding\n",
    "df['Satisfaction_Level_Encoded'] = df['Satisfaction_Level'].map(mapping)\n",
    "\n",
    "# Resulting DataFrame\n",
    "print(df)"
   ]
  },
  {
   "cell_type": "markdown",
   "id": "e38e9af8",
   "metadata": {},
   "source": [
    "### Q3. Define covariance and explain why it is important in statistical analysis. How is covariance calculated?"
   ]
  },
  {
   "cell_type": "markdown",
   "id": "805d7375",
   "metadata": {},
   "source": [
    "**Covariance:**\n",
    "\n",
    "**Definition:**\n",
    "Covariance is a statistical measure that quantifies the degree to which two variables change together. In other words, it assesses the joint variability of two random variables. If the variables tend to increase or decrease together, the covariance is positive. If one variable tends to increase as the other decreases, the covariance is negative.\n",
    "\n",
    "**Importance in Statistical Analysis:**\n",
    "1. **Direction of Relationship:**\n",
    "   - Positive Covariance: Indicates a positive relationship between variables. As one variable increases, the other tends to increase as well.\n",
    "   - Negative Covariance: Suggests a negative relationship. As one variable increases, the other tends to decrease.\n",
    "\n",
    "2. **Strength of Relationship:**\n",
    "   - The magnitude of covariance doesn't provide a clear measure of the strength of the relationship. It's sensitive to the scale of the variables.\n",
    "\n",
    "3. **Independence:**\n",
    "   - If the covariance is zero, it implies that the variables are uncorrelated. However, the reverse is not necessarily true. Zero covariance doesn't guarantee independence.\n",
    "\n",
    "**Calculation of Covariance:**\n",
    "The covariance between two variables X and Y is calculated using the following formula:\n",
    "\n",
    "$[ \\text{cov}(X, Y) = \\frac{\\sum{(X_i - \\bar{X})(Y_i - \\bar{Y})}}{n-1} ]$\n",
    "\n",
    "where:\n",
    "- $(X_i)$ and $(Y_i)$ are individual data points.\n",
    "- $(\\bar{X})$ and $(\\bar{Y})$ are the means of X and Y.\n",
    "- $(n)$ is the number of data points.\n",
    "\n",
    "**Interpretation:**\n",
    "- $(\\text{cov}(X, Y) > 0)$: Positive covariance, suggesting a positive relationship.\n",
    "- $(\\text{cov}(X, Y) < 0)$: Negative covariance, indicating a negative relationship.\n",
    "- $(\\text{cov}(X, Y) = 0)$: No linear relationship; the variables are uncorrelated.\n",
    "\n",
    "**Limitations:**\n",
    "Covariance is sensitive to the scale of the variables, making it challenging to compare covariances between different pairs of variables. This limitation is addressed by the correlation coefficient, which normalizes the measure and provides a standardized metric."
   ]
  },
  {
   "cell_type": "markdown",
   "id": "1e3ae04a",
   "metadata": {},
   "source": [
    "### Q4. For a dataset with the following categorical variables: Color (red, green, blue), Size (small, medium, large), and Material (wood, metal, plastic), perform label encoding using Python's scikit-learn library. Show your code and explain the output."
   ]
  },
  {
   "cell_type": "code",
   "execution_count": 2,
   "id": "89aeda67",
   "metadata": {},
   "outputs": [
    {
     "name": "stdout",
     "output_type": "stream",
     "text": [
      "   Color  Size  Material\n",
      "0      2     2         2\n",
      "1      1     1         0\n",
      "2      0     0         1\n",
      "3      2     2         2\n",
      "4      1     1         0\n"
     ]
    }
   ],
   "source": [
    "from sklearn.preprocessing import LabelEncoder\n",
    "import pandas as pd\n",
    "\n",
    "# Create a sample dataframe\n",
    "data = {'Color': ['red', 'green', 'blue', 'red', 'green'],\n",
    "        'Size': ['small', 'medium', 'large', 'small', 'medium'],\n",
    "        'Material': ['wood', 'metal', 'plastic', 'wood', 'metal']}\n",
    "\n",
    "df = pd.DataFrame(data)\n",
    "\n",
    "# Initialize LabelEncoder\n",
    "label_encoder = LabelEncoder()\n",
    "\n",
    "# Apply label encoding to each categorical column\n",
    "df['Color'] = label_encoder.fit_transform(df['Color'])\n",
    "df['Size'] = label_encoder.fit_transform(df['Size'])\n",
    "df['Material'] = label_encoder.fit_transform(df['Material'])\n",
    "\n",
    "# Display the encoded dataframe\n",
    "print(df)\n"
   ]
  },
  {
   "cell_type": "markdown",
   "id": "332cd7ee",
   "metadata": {},
   "source": [
    "To perform label encoding using Python's scikit-learn library, you can use the `LabelEncoder` class. Here's a simple example:\n",
    "\n",
    "Explanation:\n",
    "- The `LabelEncoder` is applied independently to each categorical column (`Color`, `Size`, `Material`).\n",
    "- It assigns a unique numerical label to each unique category within each column.\n",
    "- The transformed values are stored back in the dataframe.\n",
    "\n",
    "In the output:\n",
    "- For the 'Color' column, 'red' is encoded as 2, 'green' as 1, and 'blue' as 0.\n",
    "- For the 'Size' column, 'small' is encoded as 2, 'medium' as 0, and 'large' as 1.\n",
    "- For the 'Material' column, 'wood' is encoded as 2, 'metal' as 0, and 'plastic' as 1.\n",
    "\n",
    "Now, the categorical variables are represented with numerical labels, making them suitable for machine learning algorithms that require numerical input."
   ]
  },
  {
   "cell_type": "markdown",
   "id": "1178d298",
   "metadata": {},
   "source": [
    "### Q5. Calculate the covariance matrix for the following variables in a dataset: Age, Income, and Education level. Interpret the results.\n"
   ]
  },
  {
   "cell_type": "markdown",
   "id": "1e8a318d",
   "metadata": {},
   "source": [
    "**Steps for Calculation:**\n",
    "\n",
    "1. **Access the dataset:** Ensure you have access to the dataset containing the variables Age, Income, and Education level.\n",
    "2. **Load the dataset:** Use a suitable software or programming language (e.g., Python, R, MATLAB) to load the dataset into a usable format.\n",
    "3. **Compute the covariance matrix:** Employ the appropriate function or library within your chosen tool to calculate the covariance matrix. Here's a general Python example using NumPy:\n",
    "\n",
    "\n",
    "**Interpreting the Results:**\n",
    "\n",
    "- **Diagonal elements:** These represent the variances of individual variables.\n",
    "    - Age_variance: Variance of Age\n",
    "    - Income_variance: Variance of Income\n",
    "    - Education_variance: Variance of Education level\n",
    "- **Off-diagonal elements:** These represent the covariances between pairs of variables.\n",
    "    - Age_Income_covariance: Covariance between Age and Income\n",
    "    - Age_Education_covariance: Covariance between Age and Education level\n",
    "    - Income_Education_covariance: Covariance between Income and Education level\n",
    "\n",
    "**Interpreting Covariances:**\n",
    "\n",
    "- **Positive covariance:** Indicates a positive relationship between variables (they tend to move together).\n",
    "- **Negative covariance:** Indicates an inverse relationship between variables (they tend to move in opposite directions).\n",
    "- **Covariance magnitude:** Reflects the strength of the relationship (stronger when closer to 1 or -1).\n",
    "\n",
    "**Example:**\n",
    "\n",
    "- If Age_Income_covariance is positive, it suggests that higher age tends to correspond with higher income.\n",
    "- If Age_Education_covariance is negative, it suggests that lower age tends to correspond with higher education level.\n",
    "\n",
    "**Additional Considerations:**\n",
    "\n",
    "- **Correlation matrix:** For standardized interpretation of relationships, consider calculating the correlation matrix, which scales covariances to a range of -1 to 1.\n",
    "- **Visualization:** Visualizing the covariance or correlation matrix using heatmaps can aid interpretation.\n",
    "\n",
    "Remember to provide the dataset or specify its location for me to perform the actual calculation and provide a tailored interpretation.\n"
   ]
  },
  {
   "cell_type": "markdown",
   "id": "689bdb2a",
   "metadata": {},
   "source": [
    "To calculate the covariance matrix for the variables Age, Income, and Education level in a dataset, you can use the `numpy` library in Python. The covariance matrix provides insights into the relationships between different pairs of variables. Here's an example code snippet:\n",
    "\n",
    "Interpretation:\n",
    "- The diagonal elements of the covariance matrix represent the variances of each variable (Age, Income, Education).\n",
    "- The off-diagonal elements represent the covariances between different pairs of variables.\n",
    "\n",
    "In this example:\n",
    "- The covariance between Age and Income is 1250.0, indicating a positive relationship.\n",
    "- The covariance between Age and Education is 10.0.\n",
    "- The covariance between Income and Education is 625.0.\n",
    "\n",
    "Covariance values help in understanding the direction and strength of the linear relationship between variables. However, it's essential to note that covariance is sensitive to the scale of variables, making interpretation challenging without normalization."
   ]
  },
  {
   "cell_type": "code",
   "execution_count": 3,
   "id": "09eabc5a",
   "metadata": {},
   "outputs": [
    {
     "name": "stdout",
     "output_type": "stream",
     "text": [
      "Covariance Matrix:\n",
      "[[6.250e+01 1.125e+05 1.000e+01]\n",
      " [1.125e+05 2.550e+08 2.625e+04]\n",
      " [1.000e+01 2.625e+04 5.000e+00]]\n",
      "\n",
      "Interpretation:\n",
      "Covariance between Age and Income: 112500.0\n",
      "Covariance between Age and Education: 10.0\n",
      "Covariance between Income and Education: 26250.0\n"
     ]
    }
   ],
   "source": [
    "import numpy as np\n",
    "import pandas as pd\n",
    "\n",
    "# Create a sample dataframe\n",
    "data = {'Age': [25, 30, 35, 40, 45],\n",
    "        'Income': [50000, 60000, 75000, 90000, 80000],\n",
    "        'Education': [12, 16, 14, 18, 15]}\n",
    "\n",
    "df = pd.DataFrame(data)\n",
    "\n",
    "# Calculate the covariance matrix\n",
    "covariance_matrix = np.cov(df, rowvar=False)\n",
    "\n",
    "# Display the covariance matrix\n",
    "print(\"Covariance Matrix:\")\n",
    "print(covariance_matrix)\n",
    "\n",
    "# Interpret the results\n",
    "print(\"\\nInterpretation:\")\n",
    "print(\"Covariance between Age and Income:\", covariance_matrix[0, 1])\n",
    "print(\"Covariance between Age and Education:\", covariance_matrix[0, 2])\n",
    "print(\"Covariance between Income and Education:\", covariance_matrix[1, 2])\n",
    "\n"
   ]
  },
  {
   "cell_type": "markdown",
   "id": "eab26caa",
   "metadata": {},
   "source": [
    "### Q6. You are working on a machine learning project with a dataset containing several categorical variables, including \"Gender\" (Male/Female), \"Education Level\" (High School/Bachelor's/Master's/PhD), and \"Employment Status\" (Unemployed/Part-Time/Full-Time). Which encoding method would you use for each variable, and why?"
   ]
  },
  {
   "cell_type": "code",
   "execution_count": 4,
   "id": "1fb4390f",
   "metadata": {},
   "outputs": [
    {
     "name": "stdout",
     "output_type": "stream",
     "text": [
      "Original DataFrame:\n",
      "   Gender Education Level Employment Status\n",
      "0    Male     High School        Unemployed\n",
      "1  Female      Bachelor's         Part-Time\n",
      "2    Male        Master's         Full-Time\n",
      "3  Female             PhD        Unemployed\n",
      "4    Male      Bachelor's         Full-Time\n",
      "\n",
      "DataFrame after encoding:\n",
      "   Gender  Education Level  Employment_Full-Time  Employment_Part-Time  \\\n",
      "0       0                0                 False                 False   \n",
      "1       1                1                 False                  True   \n",
      "2       0                2                  True                 False   \n",
      "3       1                3                 False                 False   \n",
      "4       0                1                  True                 False   \n",
      "\n",
      "   Employment_Unemployed  \n",
      "0                   True  \n",
      "1                  False  \n",
      "2                  False  \n",
      "3                   True  \n",
      "4                  False  \n"
     ]
    }
   ],
   "source": [
    "import pandas as pd\n",
    "import numpy as np\n",
    "\n",
    "# Create dummy data\n",
    "data = {\n",
    "    'Gender': ['Male', 'Female', 'Male', 'Female', 'Male'],\n",
    "    'Education Level': ['High School', \"Bachelor's\", \"Master's\", 'PhD', 'Bachelor\\'s'],\n",
    "    'Employment Status': ['Unemployed', 'Part-Time', 'Full-Time', 'Unemployed', 'Full-Time']\n",
    "}\n",
    "\n",
    "df = pd.DataFrame(data)\n",
    "\n",
    "# Display the original DataFrame\n",
    "print(\"Original DataFrame:\")\n",
    "print(df)\n",
    "print()\n",
    "\n",
    "# Apply encoding methods\n",
    "# For 'Gender', we can use Label Encoding because there are only two categories\n",
    "df['Gender'] = df['Gender'].map({'Male': 0, 'Female': 1})\n",
    "\n",
    "# For 'Education Level', we can use Ordinal Encoding since there's an inherent order\n",
    "education_order = {\"High School\": 0, \"Bachelor's\": 1, \"Master's\": 2, 'PhD': 3}\n",
    "df['Education Level'] = df['Education Level'].map(education_order)\n",
    "\n",
    "# For 'Employment Status', we can use One-Hot Encoding because there is no order\n",
    "df_encoded = pd.concat([df, pd.get_dummies(df['Employment Status'], prefix='Employment')], axis=1)\n",
    "df_encoded.drop('Employment Status', axis=1, inplace=True)\n",
    "\n",
    "# Display the DataFrame after encoding\n",
    "print(\"DataFrame after encoding:\")\n",
    "print(df_encoded)\n"
   ]
  },
  {
   "cell_type": "markdown",
   "id": "ec26f8f3",
   "metadata": {},
   "source": [
    "### Q7. You are analyzing a dataset with two continuous variables, \"Temperature\" and \"Humidity\", and two categorical variables, \"Weather Condition\" (Sunny/Cloudy/Rainy) and \"Wind Direction\" (North/South/ East/West). Calculate the covariance between each pair of variables and interpret the results."
   ]
  },
  {
   "cell_type": "code",
   "execution_count": 5,
   "id": "4502c1bf",
   "metadata": {},
   "outputs": [
    {
     "name": "stdout",
     "output_type": "stream",
     "text": [
      "Covariance Matrix for Temperature and Humidity:\n",
      "             Temperature  Humidity\n",
      "Temperature          9.2      16.9\n",
      "Humidity            16.9      31.3\n"
     ]
    }
   ],
   "source": [
    "import pandas as pd\n",
    "\n",
    "# Create dummy data\n",
    "data = {\n",
    "    'Temperature': [25, 30, 22, 28, 26],\n",
    "    'Humidity': [50, 60, 45, 55, 52],\n",
    "    'Weather Condition': ['Sunny', 'Cloudy', 'Rainy', 'Sunny', 'Cloudy'],\n",
    "    'Wind Direction': ['North', 'South', 'East', 'West', 'North'],\n",
    "}\n",
    "\n",
    "df = pd.DataFrame(data)\n",
    "\n",
    "# Calculate covariance matrix for continuous variables\n",
    "covariance_matrix = df[['Temperature', 'Humidity']].cov()\n",
    "\n",
    "# Display the covariance matrix\n",
    "print(\"Covariance Matrix for Temperature and Humidity:\")\n",
    "print(covariance_matrix)\n"
   ]
  },
  {
   "cell_type": "markdown",
   "id": "31db9e2c",
   "metadata": {},
   "source": [
    "To calculate the covariance between each pair of variables in a dataset, we can use the Pandas library in Python. The covariance matrix provides the covariance between each pair of variables. Let's calculate the covariance for the given dataset with two continuous variables (\"Temperature\" and \"Humidity\") and two categorical variables (\"Weather Condition\" and \"Wind Direction\").\n",
    "\n",
    "\n",
    "- For continuous variables like \"Temperature\" and \"Humidity\", the covariance values indicate how much the variables change together. Positive values indicate a positive relationship, while negative values indicate a negative relationship. The magnitude of the value represents the strength of the relationship.\n",
    "\n",
    "- For categorical variables, covariance is less meaningful because covariance is primarily used for continuous variables. Categorical variables like \"Weather Condition\" and \"Wind Direction\" might not provide meaningful covariance values. In practice, other metrics like Cramér's V might be more appropriate for measuring the association between categorical variables.\n",
    "\n",
    "Remember that covariance does not normalize the scale of variables, so it can be challenging to compare covariances directly between different pairs of variables. In some cases, correlation coefficients (scaled covariance) are used for better comparison."
   ]
  },
  {
   "cell_type": "code",
   "execution_count": null,
   "id": "4464babf",
   "metadata": {},
   "outputs": [],
   "source": []
  }
 ],
 "metadata": {
  "kernelspec": {
   "display_name": "Python 3 (ipykernel)",
   "language": "python",
   "name": "python3"
  },
  "language_info": {
   "codemirror_mode": {
    "name": "ipython",
    "version": 3
   },
   "file_extension": ".py",
   "mimetype": "text/x-python",
   "name": "python",
   "nbconvert_exporter": "python",
   "pygments_lexer": "ipython3",
   "version": "3.9.7"
  }
 },
 "nbformat": 4,
 "nbformat_minor": 5
}
