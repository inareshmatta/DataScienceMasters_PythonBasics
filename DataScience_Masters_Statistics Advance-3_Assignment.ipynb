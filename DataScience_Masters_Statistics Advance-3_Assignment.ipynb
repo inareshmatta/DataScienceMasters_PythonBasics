{
 "cells": [
  {
   "cell_type": "markdown",
   "id": "d7cc698b",
   "metadata": {},
   "source": [
    "### Q1: What is Estimation Statistics? Explain point estimate and interval estimate."
   ]
  },
  {
   "cell_type": "markdown",
   "id": "d08bf176",
   "metadata": {},
   "source": [
    "**Estimation Statistics:**\n",
    "Estimation in statistics refers to the process of using sample data to make inferences or predictions about population parameters. Estimation involves providing a best guess or estimate of an unknown parameter based on available information from a sample.\n",
    "\n",
    "**Point Estimate:**\n",
    "A point estimate is a single value that is used to approximate an unknown population parameter. It is a specific numerical value calculated from the sample data and is considered the best guess for the true parameter value. Common point estimates include the sample mean (\\(\\bar{x}\\)) for estimating the population mean (\\(\\mu\\)), and the sample proportion (\\(p\\)) for estimating the population proportion (\\(P\\)).\n",
    "\n",
    "For example, if you calculate the average height of a sample of people and use it as an estimate for the average height of the entire population, the sample mean is a point estimate for the population mean.\n",
    "\n",
    "**Interval Estimate:**\n",
    "An interval estimate provides a range within which the true parameter value is likely to fall. It recognizes the uncertainty inherent in estimating population parameters from a sample. The interval is constructed around a point estimate and is expressed with a confidence level, representing the probability that the interval contains the true parameter value.\n",
    "\n",
    "For example, a 95% confidence interval for the average height of a population might be [165 cm, 175 cm]. This interval suggests that we are 95% confident that the true average height of the population lies between 165 cm and 175 cm.\n",
    "\n",
    "**Key Points:**\n",
    "- **Point Estimate:** A single value used to estimate a population parameter.\n",
    "- **Interval Estimate:** A range of values providing an interval within which the true parameter value is likely to fall, along with a specified confidence level.\n",
    "\n",
    "Both point estimates and interval estimates are essential in statistical inference, allowing researchers to make informed predictions about population characteristics based on sample data."
   ]
  },
  {
   "cell_type": "markdown",
   "id": "8cbaf6b3",
   "metadata": {},
   "source": [
    "### Q2. Write a Python function to estimate the population mean using a sample mean and standard deviation."
   ]
  },
  {
   "cell_type": "code",
   "execution_count": 1,
   "id": "f5b2338a",
   "metadata": {},
   "outputs": [
    {
     "name": "stdout",
     "output_type": "stream",
     "text": [
      "95% Confidence Interval for Population Mean: (71.42161171256569, 78.57838828743431)\n"
     ]
    }
   ],
   "source": [
    "import scipy.stats as stats\n",
    "import math\n",
    "\n",
    "def estimate_population_mean(sample_mean, sample_std, sample_size, confidence_level):\n",
    "    \"\"\"\n",
    "    Estimate the population mean using a confidence interval.\n",
    "\n",
    "    Parameters:\n",
    "    - sample_mean: The sample mean.\n",
    "    - sample_std: The sample standard deviation.\n",
    "    - sample_size: The sample size.\n",
    "    - confidence_level: The desired confidence level (e.g., 0.95 for a 95% confidence interval).\n",
    "\n",
    "    Returns:\n",
    "    - confidence_interval: A tuple representing the confidence interval.\n",
    "    \"\"\"\n",
    "    # Calculate the Z-score based on the confidence level\n",
    "    z_score = stats.norm.ppf((1 + confidence_level) / 2)\n",
    "\n",
    "    # Calculate the margin of error\n",
    "    margin_of_error = z_score * (sample_std / math.sqrt(sample_size))\n",
    "\n",
    "    # Calculate the confidence interval\n",
    "    lower_limit = sample_mean - margin_of_error\n",
    "    upper_limit = sample_mean + margin_of_error\n",
    "\n",
    "    return lower_limit, upper_limit\n",
    "\n",
    "# Example usage:\n",
    "sample_mean = 75\n",
    "sample_std = 10\n",
    "sample_size = 30\n",
    "confidence_level = 0.95\n",
    "\n",
    "confidence_interval = estimate_population_mean(sample_mean, sample_std, sample_size, confidence_level)\n",
    "print(f\"95% Confidence Interval for Population Mean: {confidence_interval}\")\n"
   ]
  },
  {
   "cell_type": "markdown",
   "id": "dac981b7",
   "metadata": {},
   "source": [
    "### Q3: What is Hypothesis testing? Why is it used? State the importance of Hypothesis testing."
   ]
  },
  {
   "cell_type": "markdown",
   "id": "ed3385b0",
   "metadata": {},
   "source": [
    "**Hypothesis Testing:**\n",
    "Hypothesis testing is a statistical method used to make inferences about a population parameter based on a sample of data. The process involves making a hypothesis about the population parameter, collecting sample data, and then using statistical methods to decide whether to accept or reject the hypothesis.\n",
    "\n",
    "**Key Steps in Hypothesis Testing:**\n",
    "1. **Formulate Hypotheses:**\n",
    "   - **Null Hypothesis (\\(H_0\\)):** Represents a statement of no effect or no difference.\n",
    "   - **Alternative Hypothesis (\\(H_1\\) or \\(H_a\\)):** Represents a statement of an effect or a difference.\n",
    "\n",
    "2. **Collect and Analyze Data:**\n",
    "   - Collect a sample of data relevant to the hypothesis.\n",
    "   - Use statistical methods to analyze the data.\n",
    "\n",
    "3. **Make a Decision:**\n",
    "   - Based on the analysis, decide whether to reject the null hypothesis in favor of the alternative hypothesis, or fail to reject the null hypothesis.\n",
    "\n",
    "4. **Draw Conclusions:**\n",
    "   - Interpret the results in the context of the research question.\n",
    "\n",
    "**Importance of Hypothesis Testing:**\n",
    "\n",
    "1. **Statistical Inference:**\n",
    "   - Hypothesis testing allows researchers to make inferences about population parameters based on sample data.\n",
    "\n",
    "2. **Scientific Decision-Making:**\n",
    "   - It provides a systematic framework for making decisions in scientific research, helping researchers draw conclusions from data.\n",
    "\n",
    "3. **Control of Type I and Type II Errors:**\n",
    "   - Hypothesis testing helps control the risk of making Type I errors (incorrectly rejecting a true null hypothesis) and Type II errors (failing to reject a false null hypothesis).\n",
    "\n",
    "4. **Scientific Validity:**\n",
    "   - It adds a level of rigor to scientific investigations by providing a structured approach to testing hypotheses and drawing conclusions.\n",
    "\n",
    "5. **Policy and Business Decision-Making:**\n",
    "   - In fields such as business and policy, hypothesis testing is used to inform decisions and assess the impact of interventions or changes.\n",
    "\n",
    "6. **Continuous Improvement:**\n",
    "   - In quality control and manufacturing, hypothesis testing is employed for continuous improvement, ensuring that processes meet specified standards.\n",
    "\n",
    "7. **Validity of Claims:**\n",
    "   - It helps evaluate the validity of claims or hypotheses, ensuring that conclusions are based on statistical evidence rather than anecdotal observations.\n",
    "\n",
    "In summary, hypothesis testing is a fundamental tool in statistics that provides a structured and objective framework for drawing conclusions about population parameters based on sample data. It is widely used in scientific research, business, policy, and various fields to support evidence-based decision-making."
   ]
  },
  {
   "cell_type": "markdown",
   "id": "860f39ec",
   "metadata": {},
   "source": [
    "### Q4. Create a hypothesis that states whether the average weight of male college students is greater than the average weight of female college students."
   ]
  },
  {
   "cell_type": "markdown",
   "id": "19ee6bc8",
   "metadata": {},
   "source": [
    "**Null Hypothesis $(H_0)$ :**\n",
    "The average weight of male college students is equal to or less than the average weight of female college students.\n",
    "\n",
    "$[ H_0: \\mu_{\\text{male}} \\leq \\mu_{\\text{female}}]$\n",
    "\n",
    "**Alternative Hypothesis $(H_1)$ or $(H_a)$:**\n",
    "The average weight of male college students is greater than the average weight of female college students.\n",
    "\n",
    "$[ H_1: \\mu_{\\text{male}} > \\mu_{\\text{female}}]$\n",
    "\n",
    "In this hypothesis test:\n",
    "- $(\\mu_{\\text{male}})$ represents the population mean weight of male college students.\n",
    "- $(\\mu_{\\text{female}})$ represents the population mean weight of female college students.\n",
    "\n",
    "This hypothesis test is framed to investigate whether there is sufficient statistical evidence to conclude that the average weight of male college students is greater than the average weight of female college students in the population."
   ]
  },
  {
   "cell_type": "markdown",
   "id": "db1c4e7c",
   "metadata": {},
   "source": [
    "### Q5. Write a Python script to conduct a hypothesis test on the difference between two population means, given a sample from each population."
   ]
  },
  {
   "cell_type": "code",
   "execution_count": 2,
   "id": "a1a1bcb3",
   "metadata": {},
   "outputs": [
    {
     "name": "stdout",
     "output_type": "stream",
     "text": [
      "Test Statistic: 6.483870967741939\n",
      "P-value: 4.248378810376456e-06\n",
      "Reject Null Hypothesis: True\n"
     ]
    }
   ],
   "source": [
    "def two_sample_t_test(sample1, sample2, alpha=0.05):\n",
    "    \"\"\"\n",
    "    Conducts a two-sample t-test for the difference between two population means.\n",
    "\n",
    "    Parameters:\n",
    "    - sample1: The first sample data.\n",
    "    - sample2: The second sample data.\n",
    "    - alpha: The significance level (default is 0.05).\n",
    "\n",
    "    Returns:\n",
    "    - result: A tuple containing the test statistic and p-value.\n",
    "    - reject_null: True if the null hypothesis is rejected, False otherwise.\n",
    "    \"\"\"\n",
    "    # Perform a two-sample t-test\n",
    "    result = stats.ttest_ind(sample1, sample2)\n",
    "\n",
    "    # Compare p-value to the significance level\n",
    "    reject_null = result.pvalue < alpha\n",
    "\n",
    "    return result, reject_null\n",
    "\n",
    "# Example usage:\n",
    "# Replace sample1 and sample2 with your actual sample data\n",
    "sample1 = [68, 72, 75, 70, 68, 74, 71, 73, 69, 72]\n",
    "sample2 = [62, 65, 68, 64, 63, 67, 65, 66, 61, 64]\n",
    "\n",
    "result, reject_null = two_sample_t_test(sample1, sample2)\n",
    "\n",
    "# Display the results\n",
    "print(\"Test Statistic:\", result.statistic)\n",
    "print(\"P-value:\", result.pvalue)\n",
    "print(\"Reject Null Hypothesis:\", reject_null)\n"
   ]
  },
  {
   "cell_type": "markdown",
   "id": "6d4dff21",
   "metadata": {},
   "source": [
    "Explanation:\n",
    "\n",
    "1. The `two_sample_t_test` function takes two samples (`sample1` and `sample2`) and an optional significance level (`alpha`) as input.\n",
    "\n",
    "2. The `ttest_ind` function from `scipy.stats` is used to perform a two-sample t-test.\n",
    "\n",
    "3. The function returns a tuple containing the test statistic and p-value.\n",
    "\n",
    "4. The `reject_null` variable is set to True if the p-value is less than the significance level, indicating that the null hypothesis is rejected.\n",
    "\n",
    "5. Example usage is provided with two sample datasets (`sample1` and `sample2`). Replace these with your actual sample data.\n",
    "\n",
    "6. The results, including the test statistic, p-value, and whether the null hypothesis is rejected, are displayed.\n",
    "\n",
    "Adjust the significance level (`alpha`) and replace the sample data as needed for your specific hypothesis test."
   ]
  },
  {
   "cell_type": "markdown",
   "id": "d82d989b",
   "metadata": {},
   "source": [
    "### Q6: What is a null and alternative hypothesis? Give some examples."
   ]
  },
  {
   "cell_type": "markdown",
   "id": "1114c6e8",
   "metadata": {},
   "source": [
    "**Null Hypothesis $(H_0)$ :**\n",
    "The null hypothesis is a statement of no effect or no difference. It represents a baseline assumption or a default position that there is no change, no effect, or no relationship in the population. The null hypothesis is typically denoted by \\(H_0\\) and is what researchers aim to test against.\n",
    "\n",
    "**Alternative Hypothesis $(H_1)$ or $(H_a)$:**\n",
    "The alternative hypothesis is a statement that contradicts the null hypothesis. It represents a claim that there is a significant effect, difference, or relationship in the population. The alternative hypothesis is what researchers are trying to provide evidence for. There can be different forms of alternative hypotheses depending on the nature of the research.\n",
    "\n",
    "**Examples:**\n",
    "\n",
    "1. **Example for a Mean Comparison:**\n",
    "   - Null Hypothesis $((H_0))$: The average height of male students is equal to 170 cm.\n",
    "   - Alternative Hypothesis $(H_1)$: The average height of male students is not equal to 170 cm.\n",
    "\n",
    "2. **Example for a Proportion Comparison:**\n",
    "   - Null Hypothesis $(H_0)$ : The proportion of customers who prefer Product A is 0.5.\n",
    "   - Alternative Hypothesis $(H_1)$ : The proportion of customers who prefer Product A is different from 0.5.\n",
    "\n",
    "3. **Example for a Correlation Test:**\n",
    "   - Null Hypothesis $(H_0)$: There is no correlation between hours of study and exam scores.\n",
    "   - Alternative Hypothesis $(H_1)$: There is a significant correlation between hours of study and exam scores.\n",
    "\n",
    "4. **Example for a Regression Test:**\n",
    "   - Null Hypothesis $(H_0)$: The slope of the regression line is zero.\n",
    "   - Alternative Hypothesis $(H_1)$: The slope of the regression line is not zero.\n",
    "\n",
    "5. **Example for a Difference in Means:**\n",
    "   - Null Hypothesis $(H_0)$: The mean income of Group A is less than or equal to the mean income of Group B.\n",
    "   - Alternative Hypothesis $(H_1)$: The mean income of Group A is greater than the mean income of Group B.\n",
    "\n",
    "In each example, the null hypothesis represents a statement of no effect, no difference, or no relationship, while the alternative hypothesis represents a claim of a significant effect, difference, or relationship. Researchers use statistical tests to assess the evidence and decide whether to reject the null hypothesis in favor of the alternative hypothesis."
   ]
  },
  {
   "cell_type": "markdown",
   "id": "b92c2a6f",
   "metadata": {},
   "source": [
    "### Q7: Write down the steps involved in hypothesis testing."
   ]
  },
  {
   "cell_type": "markdown",
   "id": "6b5ec417",
   "metadata": {},
   "source": [
    "Hypothesis testing involves a series of steps to systematically evaluate a statistical hypothesis. Here are the general steps involved in hypothesis testing:\n",
    "\n",
    "1. **Formulate the Hypotheses:**\n",
    "   - **Null Hypothesis (\\(H_0\\)):** State a hypothesis that there is no effect, no difference, or no relationship in the population.\n",
    "   - **Alternative Hypothesis (\\(H_1\\) or \\(H_a\\)):** State a hypothesis that contradicts the null hypothesis, indicating an effect, difference, or relationship.\n",
    "\n",
    "2. **Define the Significance Level $(\\alpha)$:**\n",
    "   - Choose a significance level $(\\alpha)$, typically set to 0.05. This represents the probability of making a Type I error (rejecting a true null hypothesis).\n",
    "\n",
    "3. **Collect and Prepare Data:**\n",
    "   - Collect a sample of data relevant to the hypothesis.\n",
    "\n",
    "4. **Choose a Statistical Test:**\n",
    "   - Based on the nature of the data and the hypothesis, choose an appropriate statistical test (e.g., t-test, chi-square test, ANOVA).\n",
    "\n",
    "5. **Compute the Test Statistic:**\n",
    "   - Calculate the test statistic based on the sample data and the chosen test.\n",
    "\n",
    "6. **Determine the Critical Region:**\n",
    "   - Identify the critical region in the distribution of the test statistic corresponding to the chosen significance level $(\\alpha)$.\n",
    "\n",
    "7. **Make a Decision:**\n",
    "   - Compare the test statistic to the critical value or use the p-value. If the test statistic falls in the critical region or the p-value is less than $(\\alpha)$, reject the null hypothesis. Otherwise, fail to reject the null hypothesis.\n",
    "\n",
    "8. **Draw Conclusions:**\n",
    "   - Interpret the results in the context of the research question. If the null hypothesis is rejected, provide evidence for the alternative hypothesis. If the null hypothesis is not rejected, acknowledge the lack of evidence to support the alternative hypothesis.\n",
    "\n",
    "9. **Report Results:**\n",
    "   - Clearly communicate the results, including the test statistic, p-value, and any relevant details, in a manner that is understandable to others.\n",
    "\n",
    "10. **Consider Limitations:**\n",
    "    - Acknowledge any limitations or assumptions associated with the hypothesis test.\n",
    "\n",
    "11. **Draw Practical Conclusions:**\n",
    "    - Consider the practical implications of the findings and how they contribute to the understanding of the research question.\n",
    "\n",
    "It's important to note that hypothesis testing is a systematic process that requires careful consideration of the research question, appropriate statistical methods, and the interpretation of results in the context of the study. Additionally, the steps may vary slightly depending on the specific statistical test being used."
   ]
  },
  {
   "cell_type": "markdown",
   "id": "1aab225d",
   "metadata": {},
   "source": [
    "### Q8. Define p-value and explain its significance in hypothesis testing."
   ]
  },
  {
   "cell_type": "markdown",
   "id": "e143dfd7",
   "metadata": {},
   "source": [
    "**P-value Definition:**\n",
    "The p-value (probability value) is a measure that helps assess the evidence against a null hypothesis in hypothesis testing. It quantifies the probability of obtaining the observed results, or results more extreme, under the assumption that the null hypothesis is true. In other words, the p-value indicates how likely the observed data would occur if there were no real effect or difference.\n",
    "\n",
    "**Significance in Hypothesis Testing:**\n",
    "The significance of the p-value lies in its role in the decision-making process during hypothesis testing. Here's how to interpret the p-value:\n",
    "\n",
    "1. **Small P-value $(p < \\alpha)$:**\n",
    "   - If the p-value is very small (typically less than the chosen significance level, $(\\alpha)$, it suggests that the observed results are unlikely to occur by random chance alone assuming the null hypothesis is true.\n",
    "   - This leads to the rejection of the null hypothesis in favor of the alternative hypothesis.\n",
    "   - The smaller the p-value, the stronger the evidence against the null hypothesis.\n",
    "\n",
    "2. **Large P-value $(p \\geq \\alpha)$:**\n",
    "   - If the p-value is large, it suggests that the observed results are reasonably likely to occur by random chance, even if the null hypothesis is true.\n",
    "   - This leads to a failure to reject the null hypothesis.\n",
    "   - A large p-value does not provide strong evidence against the null hypothesis.\n",
    "\n",
    "**Common Significance Levels:**\n",
    "   - A commonly used significance level is $(\\alpha = 0.05)$, meaning that if the p-value is less than 0.05, the null hypothesis is rejected.\n",
    "\n",
    "**Key Points:**\n",
    "- **Lower P-value:** Indicates stronger evidence against the null hypothesis.\n",
    "- **Higher P-value:** Indicates weaker evidence against the null hypothesis.\n",
    "- **P-value Threshold:** The chosen significance level $(\\alpha)$ serves as a threshold for decision-making. If $(p < \\alpha)$, reject $(H_0)$; if $(p \\geq \\alpha)$, fail to reject $(H_0)$.\n",
    "\n",
    "It's crucial to interpret the p-value in the context of the specific research question and the chosen significance level. While a small p-value indicates evidence against the null hypothesis, it does not quantify the size or practical significance of the observed effect; additional considerations are necessary for drawing meaningful conclusions."
   ]
  },
  {
   "cell_type": "markdown",
   "id": "99b26575",
   "metadata": {},
   "source": [
    "### Q9. Generate a Student's t-distribution plot using Python's matplotlib library, with the degrees of freedom parameter set to 10."
   ]
  },
  {
   "cell_type": "code",
   "execution_count": 3,
   "id": "8eadfeca",
   "metadata": {},
   "outputs": [
    {
     "data": {
      "image/png": "[encoded data removed]",
      "text/plain": [
       "<Figure size 432x288 with 1 Axes>"
      ]
     },
     "metadata": {
      "needs_background": "light"
     },
     "output_type": "display_data"
    }
   ],
   "source": [
    "import numpy as np\n",
    "import matplotlib.pyplot as plt\n",
    "\n",
    "# Set degrees of freedom\n",
    "degrees_of_freedom = 10\n",
    "\n",
    "# Generate x values\n",
    "x = np.linspace(-3, 3, 1000)\n",
    "\n",
    "# Calculate the probability density function (PDF) for the t-distribution\n",
    "pdf_values = stats.t.pdf(x, df=degrees_of_freedom)\n",
    "\n",
    "# Plot the t-distribution\n",
    "plt.plot(x, pdf_values, label=f't-distribution (df={degrees_of_freedom})')\n",
    "plt.title(\"Student's t-Distribution\")\n",
    "plt.xlabel('x')\n",
    "plt.ylabel('Probability Density Function (PDF)')\n",
    "plt.legend()\n",
    "plt.grid(True)\n",
    "plt.show()\n"
   ]
  },
  {
   "cell_type": "markdown",
   "id": "6c88c143",
   "metadata": {},
   "source": [
    "Explanation:\n",
    "\n",
    "1. `degrees_of_freedom = 10`: Set the degrees of freedom for the t-distribution (you can change this value as needed).\n",
    "\n",
    "2. `x = np.linspace(-3, 3, 1000)`: Generate x values from -3 to 3 for plotting.\n",
    "\n",
    "3. `pdf_values = stats.t.pdf(x, df=degrees_of_freedom)`: Calculate the probability density function (PDF) for the t-distribution using the `t.pdf` function from `scipy.stats`.\n",
    "\n",
    "4. Plot the t-distribution using `plt.plot`.\n",
    "\n",
    "5. Add labels, title, legend, and grid for better visualization.\n",
    "\n",
    "6. `plt.show()`: Display the plot.\n",
    "\n",
    "Adjust the parameters as needed to customize the plot according to your preferences."
   ]
  },
  {
   "cell_type": "markdown",
   "id": "2b7cd03c",
   "metadata": {},
   "source": [
    "### Q10. Write a Python program to calculate the two-sample t-test for independent samples, given two random samples of equal size and a null hypothesis that the population means are equal."
   ]
  },
  {
   "cell_type": "code",
   "execution_count": 4,
   "id": "aaed3c38",
   "metadata": {},
   "outputs": [
    {
     "name": "stdout",
     "output_type": "stream",
     "text": [
      "Two-Sample T-Test Results:\n",
      "Test Statistic: -4.512913234547559\n",
      "P-value: 3.176506547470106e-05\n",
      "Reject the null hypothesis: Population means are not equal.\n"
     ]
    }
   ],
   "source": [
    "def two_sample_t_test(sample1, sample2):\n",
    "    \"\"\"\n",
    "    Conducts a two-sample t-test for independent samples.\n",
    "\n",
    "    Parameters:\n",
    "    - sample1: The first sample data.\n",
    "    - sample2: The second sample data.\n",
    "\n",
    "    Returns:\n",
    "    - result: A tuple containing the test statistic and p-value.\n",
    "    \"\"\"\n",
    "    result = stats.ttest_ind(sample1, sample2)\n",
    "    return result\n",
    "\n",
    "# Generate two random samples of equal size\n",
    "np.random.seed(42)  # for reproducibility\n",
    "sample_size = 30\n",
    "sample1 = np.random.normal(loc=5, scale=2, size=sample_size)\n",
    "sample2 = np.random.normal(loc=7, scale=2, size=sample_size)\n",
    "\n",
    "# Perform two-sample t-test\n",
    "result = two_sample_t_test(sample1, sample2)\n",
    "\n",
    "# Display the results\n",
    "print(\"Two-Sample T-Test Results:\")\n",
    "print(\"Test Statistic:\", result.statistic)\n",
    "print(\"P-value:\", result.pvalue)\n",
    "\n",
    "# Check for significance at a 5% level\n",
    "alpha = 0.05\n",
    "if result.pvalue < alpha:\n",
    "    print(\"Reject the null hypothesis: Population means are not equal.\")\n",
    "else:\n",
    "    print(\"Fail to reject the null hypothesis: Population means are equal.\")\n"
   ]
  },
  {
   "cell_type": "markdown",
   "id": "21337cc1",
   "metadata": {},
   "source": [
    "### Q11: What is Student’s t distribution? When to use the t-Distribution."
   ]
  },
  {
   "cell_type": "markdown",
   "id": "f2a43f86",
   "metadata": {},
   "source": [
    "**Student’s t-Distribution:**\n",
    "Student’s t-distribution (or simply t-distribution) is a probability distribution that arises in the estimation of the mean of a normally distributed population when the sample size is small, and the population standard deviation is unknown. It is used in statistical inference for hypothesis testing and constructing confidence intervals.\n",
    "\n",
    "**Characteristics of the t-Distribution:**\n",
    "1. **Shape:** The t-distribution has a bell-shaped curve similar to the normal distribution.\n",
    "2. **Parameter:** The shape of the t-distribution is determined by a parameter called degrees of freedom (\\(df\\)). The larger the degrees of freedom, the closer the t-distribution resembles the normal distribution.\n",
    "3. **Tail Thickness:** The tails of the t-distribution are thicker than those of the normal distribution, especially when the degrees of freedom are small.\n",
    "4. **Symmetry:** Like the normal distribution, the t-distribution is symmetric around its mean.\n",
    "\n",
    "**When to Use the t-Distribution:**\n",
    "The t-distribution is used in the following situations:\n",
    "\n",
    "1. **Small Sample Sizes:** When working with small sample sizes (typically less than 30) and the population standard deviation is unknown, the t-distribution is used instead of the normal distribution.\n",
    "\n",
    "2. **Estimating Population Mean:** In situations where you are estimating the population mean based on a sample mean and the sample size is small, the t-distribution is more appropriate.\n",
    "\n",
    "3. **Hypothesis Testing:** In hypothesis testing for the mean of a population when the sample size is small and the population standard deviation is unknown, the t-distribution is used to calculate the test statistic.\n",
    "\n",
    "4. **Confidence Intervals:** When constructing confidence intervals for the population mean with a small sample size and an unknown population standard deviation, the t-distribution is used.\n",
    "\n",
    "**Degrees of Freedom (\\(df\\)):**\n",
    "The degrees of freedom parameter in the t-distribution is crucial. As the sample size increases, the t-distribution approaches the normal distribution. In general, the larger the degrees of freedom, the closer the t-distribution is to the normal distribution.\n",
    "\n",
    "In summary, use the t-distribution when dealing with small sample sizes and estimating the mean of a population, especially when the population standard deviation is unknown. The t-distribution provides a more accurate model in such cases and accounts for the increased uncertainty associated with smaller samples."
   ]
  },
  {
   "cell_type": "markdown",
   "id": "cb819bc8",
   "metadata": {},
   "source": [
    "### Q12: What is t-statistic? State the formula for t-statistic."
   ]
  },
  {
   "cell_type": "markdown",
   "id": "f0f29b1f",
   "metadata": {},
   "source": [
    "**T-Statistic Definition:**\n",
    "The t-statistic is a measure used in hypothesis testing to assess whether the means of two groups are significantly different from each other. It is also employed to test whether the mean of a single sample is significantly different from a known or hypothesized population mean. The t-statistic is based on the t-distribution and helps determine whether the observed differences are statistically significant or simply due to random chance.\n",
    "\n",
    "**Formula for T-Statistic:**\n",
    "The formula for the t-statistic depends on the context (e.g., one-sample t-test, two-sample t-test, paired t-test), but the general formula for the one-sample t-test is as follows:\n",
    "\n",
    "$[ t = \\frac{\\bar{x} - \\mu}{\\frac{s}{\\sqrt{n}}} ]$\n",
    "\n",
    "Where:\n",
    "- $( \\bar{x})$ is the sample mean.\n",
    "- $(\\mu)$ is the hypothesized population mean under the null hypothesis.\n",
    "- $( s)$ is the sample standard deviation.\n",
    "- $( n )$ is the sample size.\n",
    "\n",
    "The formula compares the difference between the sample mean $( \\bar{x})$ and the population mean $( \\mu)$ to the standard error of the mean $( \\frac{s}{\\sqrt{n}})$. The t-statistic represents the number of standard errors the sample mean is from the hypothesized population mean.\n",
    "\n",
    "**Interpretation:**\n",
    "If the absolute value of the t-statistic is large, it suggests that the sample mean is significantly different from the hypothesized population mean, and we may reject the null hypothesis. The t-statistic is compared to critical values from the t-distribution or used to calculate a p-value, depending on the chosen significance level.\n",
    "\n",
    "It's important to note that the formula may differ for other types of t-tests (e.g., two-sample t-test, paired t-test), but the underlying concept remains similar: comparing the difference between sample and population means to the variability within the sample."
   ]
  },
  {
   "cell_type": "markdown",
   "id": "a0795425",
   "metadata": {},
   "source": [
    "### Q13. A coffee shop owner wants to estimate the average daily revenue for their shop. They take a random sample of 50 days and find the sample mean revenue to be (500 dollars) with a standard deviation of (50dollars). Estimate the population mean revenue with a 95% confidence interval."
   ]
  },
  {
   "cell_type": "code",
   "execution_count": 5,
   "id": "7a7b8c73",
   "metadata": {},
   "outputs": [
    {
     "name": "stdout",
     "output_type": "stream",
     "text": [
      "95% Confidence Interval for the population mean revenue: ($486.14, $513.86)\n"
     ]
    }
   ],
   "source": [
    "# Given data\n",
    "sample_mean = 500\n",
    "sample_std = 50\n",
    "sample_size = 50\n",
    "confidence_level = 0.95\n",
    "\n",
    "# Z-score for a 95% confidence interval\n",
    "z_score = 1.96\n",
    "\n",
    "# Calculate standard error of the mean\n",
    "standard_error = sample_std / math.sqrt(sample_size)\n",
    "\n",
    "# Calculate confidence interval\n",
    "lower_limit = sample_mean - z_score * standard_error\n",
    "upper_limit = sample_mean + z_score * standard_error\n",
    "\n",
    "# Display the confidence interval\n",
    "print(f\"95% Confidence Interval for the population mean revenue: (${lower_limit:.2f}, ${upper_limit:.2f})\")\n"
   ]
  },
  {
   "cell_type": "markdown",
   "id": "3cee0589",
   "metadata": {},
   "source": [
    "### Q14. A researcher hypothesizes that a new drug will decrease blood pressure by 10 mmHg. They conduct a clinical trial with 100 patients and find that the sample mean decrease in blood pressure is 8 mmHg with a standard deviation of 3 mmHg. Test the hypothesis with a significance level of 0.05."
   ]
  },
  {
   "cell_type": "code",
   "execution_count": 6,
   "id": "7784d00b",
   "metadata": {},
   "outputs": [
    {
     "name": "stdout",
     "output_type": "stream",
     "text": [
      "Reject the null hypothesis. The drug has a significant effect on blood pressure.\n"
     ]
    }
   ],
   "source": [
    "from scipy.stats import t\n",
    "\n",
    "# Given data\n",
    "sample_mean = 8  # sample mean decrease in blood pressure\n",
    "hypothesized_mean = 10  # hypothesized population mean under the null hypothesis\n",
    "sample_std = 3  # sample standard deviation\n",
    "sample_size = 100  # sample size\n",
    "significance_level = 0.05  # chosen significance level\n",
    "\n",
    "# Calculate the t-statistic\n",
    "t_statistic = (sample_mean - hypothesized_mean) / (sample_std / math.sqrt(sample_size))\n",
    "\n",
    "# Degrees of freedom\n",
    "degrees_of_freedom = sample_size - 1\n",
    "\n",
    "# Calculate the critical value for a two-tailed test\n",
    "critical_value = t.ppf(1 - significance_level / 2, degrees_of_freedom)\n",
    "\n",
    "# Determine whether to reject the null hypothesis\n",
    "if abs(t_statistic) > critical_value:\n",
    "    print(f\"Reject the null hypothesis. The drug has a significant effect on blood pressure.\")\n",
    "else:\n",
    "    print(\"Fail to reject the null hypothesis. Insufficient evidence of a significant effect on blood pressure.\")\n"
   ]
  },
  {
   "cell_type": "markdown",
   "id": "8dbee43a",
   "metadata": {},
   "source": [
    "### Q15. An electronics company produces a certain type of product with a mean weight of 5 pounds and a standard deviation of 0.5 pounds. A random sample of 25 products is taken, and the sample mean weight is found to be 4.8 pounds. Test the hypothesis that the true mean weight of the products is less than 5 pounds with a significance level of 0.01."
   ]
  },
  {
   "cell_type": "code",
   "execution_count": 7,
   "id": "94248db1",
   "metadata": {},
   "outputs": [
    {
     "name": "stdout",
     "output_type": "stream",
     "text": [
      "Fail to reject the null hypothesis. Insufficient evidence that the true mean weight is less than 5 pounds.\n"
     ]
    }
   ],
   "source": [
    "\n",
    "# Given data\n",
    "sample_mean = 4.8  # sample mean weight of the products\n",
    "hypothesized_mean = 5  # hypothesized population mean under the null hypothesis\n",
    "sample_std = 0.5  # sample standard deviation\n",
    "sample_size = 25  # sample size\n",
    "significance_level = 0.01  # chosen significance level\n",
    "\n",
    "# Calculate the t-statistic\n",
    "t_statistic = (sample_mean - hypothesized_mean) / (sample_std / math.sqrt(sample_size))\n",
    "\n",
    "# Degrees of freedom\n",
    "degrees_of_freedom = sample_size - 1\n",
    "\n",
    "# Calculate the critical value for a one-tailed test (left tail)\n",
    "critical_value = t.ppf(significance_level, degrees_of_freedom)\n",
    "\n",
    "# Determine whether to reject the null hypothesis\n",
    "if t_statistic < critical_value:\n",
    "    print(f\"Reject the null hypothesis. There is evidence that the true mean weight is less than 5 pounds.\")\n",
    "else:\n",
    "    print(\"Fail to reject the null hypothesis. Insufficient evidence that the true mean weight is less than 5 pounds.\")\n"
   ]
  },
  {
   "cell_type": "markdown",
   "id": "a4afdd8f",
   "metadata": {},
   "source": [
    "### Q16. Two groups of students are given different study materials to prepare for a test. The first group (n1 = 30) has a mean score of 80 with a standard deviation of 10, and the second group (n2 = 40) has a mean score of 75 with a standard deviation of 8. Test the hypothesis that the population means for the two groups are equal with a significance level of 0.01."
   ]
  },
  {
   "cell_type": "code",
   "execution_count": 8,
   "id": "e07d270f",
   "metadata": {},
   "outputs": [
    {
     "name": "stdout",
     "output_type": "stream",
     "text": [
      "Fail to reject the null hypothesis. Insufficient evidence that the population means are not equal.\n"
     ]
    }
   ],
   "source": [
    "# Given data for Group 1\n",
    "mean1 = 80\n",
    "std1 = 10\n",
    "n1 = 30\n",
    "\n",
    "# Given data for Group 2\n",
    "mean2 = 75\n",
    "std2 = 8\n",
    "n2 = 40\n",
    "\n",
    "# Chosen significance level\n",
    "significance_level = 0.01\n",
    "\n",
    "# Calculate the t-statistic\n",
    "t_statistic = (mean1 - mean2) / math.sqrt((std1**2 / n1) + (std2**2 / n2))\n",
    "\n",
    "# Degrees of freedom\n",
    "degrees_of_freedom = n1 + n2 - 2\n",
    "\n",
    "# Calculate the critical value for a two-tailed test\n",
    "critical_value = t.ppf(1 - significance_level / 2, degrees_of_freedom)\n",
    "\n",
    "# Determine whether to reject the null hypothesis\n",
    "if abs(t_statistic) > critical_value:\n",
    "    print(f\"Reject the null hypothesis. The population means for the two groups are not equal.\")\n",
    "else:\n",
    "    print(\"Fail to reject the null hypothesis. Insufficient evidence that the population means are not equal.\")\n"
   ]
  },
  {
   "cell_type": "markdown",
   "id": "c1db6d58",
   "metadata": {},
   "source": [
    "### Q17. A marketing company wants to estimate the average number of ads watched by viewers during a TV program. They take a random sample of 50 viewers and find that the sample mean is 4 with a standard deviation of 1.5. Estimate the population mean with a 99% confidence interval."
   ]
  },
  {
   "cell_type": "code",
   "execution_count": 9,
   "id": "5710499a",
   "metadata": {},
   "outputs": [
    {
     "name": "stdout",
     "output_type": "stream",
     "text": [
      "99% Confidence Interval for the population mean number of ads watched: (3.45, 4.55)\n"
     ]
    }
   ],
   "source": [
    "# Given data\n",
    "sample_mean = 4  # sample mean number of ads watched\n",
    "sample_std = 1.5  # sample standard deviation\n",
    "sample_size = 50  # sample size\n",
    "confidence_level = 0.99  # chosen confidence level\n",
    "\n",
    "# Z-score for a 99% confidence interval\n",
    "z_score = 2.576\n",
    "\n",
    "# Calculate standard error of the mean\n",
    "standard_error = sample_std / math.sqrt(sample_size)\n",
    "\n",
    "# Calculate confidence interval\n",
    "lower_limit = sample_mean - z_score * standard_error\n",
    "upper_limit = sample_mean + z_score * standard_error\n",
    "\n",
    "# Display the confidence interval\n",
    "print(f\"99% Confidence Interval for the population mean number of ads watched: ({lower_limit:.2f}, {upper_limit:.2f})\")\n"
   ]
  },
  {
   "cell_type": "code",
   "execution_count": null,
   "id": "86489432",
   "metadata": {},
   "outputs": [],
   "source": []
  }
 ],
 "metadata": {
  "kernelspec": {
   "display_name": "Python 3 (ipykernel)",
   "language": "python",
   "name": "python3"
  },
  "language_info": {
   "codemirror_mode": {
    "name": "ipython",
    "version": 3
   },
   "file_extension": ".py",
   "mimetype": "text/x-python",
   "name": "python",
   "nbconvert_exporter": "python",
   "pygments_lexer": "ipython3",
   "version": "3.9.7"
  }
 },
 "nbformat": 4,
 "nbformat_minor": 5
}
