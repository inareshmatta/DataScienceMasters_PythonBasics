{
 "cells": [
  {
   "cell_type": "markdown",
   "id": "6a57de8f",
   "metadata": {},
   "source": [
    "### Q1. What is the Probability density function?"
   ]
  },
  {
   "cell_type": "markdown",
   "id": "9fbc2ebb",
   "metadata": {},
   "source": [
    "The Probability Density Function (PDF) is a statistical concept used in probability theory and statistics to describe the likelihood of a continuous random variable falling within a particular range of values. The PDF is a fundamental component in defining and understanding continuous probability distributions.\n",
    "\n",
    "Here are the key points about the Probability Density Function:\n",
    "\n",
    "1. **Definition:**\n",
    "   The Probability Density Function, denoted as $( f(x) )$, is a function that assigns probabilities to different intervals or ranges of values for a continuous random variable $( X )$. Unlike the Probability Mass Function (PMF) for discrete random variables, the PDF is used for continuous random variables.\n",
    "\n",
    "2. **Non-Negativity:**\n",
    "   The PDF is always non-negative. For any value of $( x)$, the probability density $( f(x))$ is greater than or equal to zero: $( f(x) \\geq 0)$.\n",
    "\n",
    "3. **Area under the Curve:**\n",
    "   The total area under the curve of the PDF over the entire range of possible values is equal to 1. Mathematically, this is expressed as:\n",
    " $[ \\int_{-\\infty}^{\\infty} f(x) \\, dx = 1 ]$\n",
    "\n",
    "   This property ensures that the total probability of all possible outcomes is equal to 1.\n",
    "\n",
    "4. **Probability in Intervals:**\n",
    "   The probability of the random variable falling within a specific interval $([a, b])$ is given by the integral of the PDF over that interval:\n",
    "   $[ P(a \\leq X \\leq b) = \\int_{a}^{b} f(x) \\, dx]$\n",
    "\n",
    "   This represents the probability that $( X )$ lies between $( a )$ and $( b)$.\n",
    "\n",
    "5. **Point Probability:**\n",
    "   Similar to the PMF for discrete random variables, the probability of the random variable taking any specific value $( x )$ is technically zero for continuous random variables. Instead, the probability is associated with intervals or ranges.\n",
    "\n",
    "The PDF is a crucial concept in probability and statistics, providing a mathematical framework for understanding the distribution of continuous random variables. Different probability distributions have different PDFs, each with its own unique mathematical form and properties."
   ]
  },
  {
   "cell_type": "markdown",
   "id": "9436552c",
   "metadata": {},
   "source": [
    "### Q2. What are the types of Probability distribution?"
   ]
  },
  {
   "cell_type": "markdown",
   "id": "389a2967",
   "metadata": {},
   "source": [
    "There are several types of probability distributions, each describing the likelihood of different outcomes in a probabilistic experiment. The two main categories are discrete probability distributions and continuous probability distributions.\n",
    "\n",
    "**1. Discrete Probability Distributions:**\n",
    "\n",
    "   - **Bernoulli Distribution:**\n",
    "     - Describes a binary outcome (success/failure) with a fixed probability of success \\( p \\) and failure \\( q = 1 - p \\).\n",
    "   \n",
    "   - **Binomial Distribution:**\n",
    "     - Represents the number of successes in a fixed number of independent Bernoulli trials.\n",
    "\n",
    "   - **Poisson Distribution:**\n",
    "     - Models the number of events occurring in fixed intervals of time or space, assuming independence between events.\n",
    "\n",
    "   - **Geometric Distribution:**\n",
    "     - Represents the number of trials needed to achieve the first success in a sequence of Bernoulli trials.\n",
    "\n",
    "   - **Hypergeometric Distribution:**\n",
    "     - Describes the probability of drawing a specific number of successes from a finite population without replacement.\n",
    "\n",
    "**2. Continuous Probability Distributions:**\n",
    "\n",
    "   - **Uniform Distribution:**\n",
    "     - All outcomes have equal probability, forming a rectangular-shaped distribution.\n",
    "\n",
    "   - **Normal Distribution (Gaussian Distribution):**\n",
    "     - Characterized by a bell-shaped curve, with probabilities concentrated around the mean.\n",
    "\n",
    "   - **Exponential Distribution:**\n",
    "     - Models the time between independent events occurring at a constant rate.\n",
    "\n",
    "   - **Log-Normal Distribution:**\n",
    "     - Results from exponentiating a normally distributed random variable, often used for modeling stock prices.\n",
    "\n",
    "   - **Gamma Distribution:**\n",
    "     - Generalization of the exponential distribution, used for modeling waiting times.\n",
    "\n",
    "   - **Weibull Distribution:**\n",
    "     - Generalization of the exponential distribution with varying hazard rates, often used in reliability engineering.\n",
    "\n",
    "   - **Cauchy Distribution:**\n",
    "     - Similar to the normal distribution but with heavier tails, lacks finite moments.\n",
    "\n",
    "   - **Chi-Square Distribution:**\n",
    "     - Derived from the sum of squared standard normal random variables, used in hypothesis testing.\n",
    "\n",
    "   - **Beta Distribution:**\n",
    "     - Represents a family of continuous probability distributions, often used as a prior distribution in Bayesian statistics.\n",
    "\n",
    "   - **Triangular Distribution:**\n",
    "     - Describes a probability distribution shaped like a triangle, with defined minimum, maximum, and mode.\n",
    "\n",
    "These are some of the commonly encountered probability distributions. The choice of distribution depends on the characteristics of the data and the nature of the problem being analyzed."
   ]
  },
  {
   "cell_type": "markdown",
   "id": "173acb37",
   "metadata": {},
   "source": [
    "### Q3. Write a Python function to calculate the probability density function of a normal distribution with given mean and standard deviation at a given point."
   ]
  },
  {
   "cell_type": "code",
   "execution_count": 1,
   "id": "f3dc7040",
   "metadata": {},
   "outputs": [
    {
     "name": "stdout",
     "output_type": "stream",
     "text": [
      "The PDF at x = 1.5 is: 0.12951759566589174\n"
     ]
    }
   ],
   "source": [
    "import math\n",
    "\n",
    "def normal_pdf(x, mean, std_dev):\n",
    "    \"\"\"\n",
    "    Calculate the probability density function (PDF) of a normal distribution.\n",
    "\n",
    "    Parameters:\n",
    "    - x: The point at which to evaluate the PDF.\n",
    "    - mean: The mean of the normal distribution.\n",
    "    - std_dev: The standard deviation of the normal distribution.\n",
    "\n",
    "    Returns:\n",
    "    - pdf: The PDF value at the given point.\n",
    "    \"\"\"\n",
    "    coefficient = 1 / (math.sqrt(2 * math.pi) * std_dev)\n",
    "    exponent = -0.5 * ((x - mean) / std_dev)**2\n",
    "    pdf = coefficient * math.exp(exponent)\n",
    "    return pdf\n",
    "\n",
    "# Example usage:\n",
    "mean = 0\n",
    "std_dev = 1\n",
    "x_value = 1.5\n",
    "\n",
    "pdf_value = normal_pdf(x_value, mean, std_dev)\n",
    "print(f\"The PDF at x = {x_value} is: {pdf_value}\")\n"
   ]
  },
  {
   "cell_type": "markdown",
   "id": "e6815a13",
   "metadata": {},
   "source": [
    "### Q4. What are the properties of Binomial distribution? Give two examples of events where binomial distribution can be applied."
   ]
  },
  {
   "cell_type": "markdown",
   "id": "1bd5546f",
   "metadata": {},
   "source": [
    "**Properties of Binomial Distribution:**\n",
    "\n",
    "1. **Discreteness:**\n",
    "   - The binomial distribution is discrete, meaning it describes a finite number of distinct outcomes or events.\n",
    "\n",
    "2. **Fixed Number of Trials:**\n",
    "   - The distribution is based on a fixed number of independent and identical trials, denoted as $( n )$.\n",
    "\n",
    "3. **Two Possible Outcomes:**\n",
    "   - Each trial has only two possible outcomes, commonly referred to as \"success\" and \"failure.\"\n",
    "\n",
    "4. **Constant Probability of Success:**\n",
    "   - The probability of success $(( p ))$ remains constant for each trial.\n",
    "\n",
    "5. **Independence:**\n",
    "   - Each trial is independent, meaning the outcome of one trial does not affect the outcomes of other trials.\n",
    "\n",
    "6. **Binomial Coefficient:**\n",
    "   - The probability mass function is expressed using the binomial coefficient, denoted as $( \\binom{n}{k})$, which represents the number of ways to choose $( k ) successes from $( n)$ trials.\n",
    "\n",
    "7. **Probability Mass Function (PMF):**\n",
    "   - The probability mass function is given by $( P(X = k) = /binom{n}{k} p^k $(1 - p)^{n - k} )$, where $( X )$ is the random variable representing the number of successes in $( n )$ trials.\n",
    "\n",
    "8. **Mean and Variance:**\n",
    "   - The mean $( \\mu )$ of the binomial distribution is $( \\mu = np)$, and the variance $( \\sigma^2)$ is $( \\sigma^2 = np(1 - p))$.\n",
    "\n",
    "**Examples of Events where Binomial Distribution can be Applied:**\n",
    "\n",
    "1. **Coin Flipping:**\n",
    "   - Consider a fair coin (with probability $( p = 0.5)$ for heads) tossed 10 times. The number of heads obtained in these 10 tosses follows a binomial distribution $( n = 10, p = 0.5 )$.\n",
    "\n",
    "2. **Quality Control:**\n",
    "   - In a manufacturing process, each product is inspected for defects. Let's say a product can be defective with a probability $( p = 0.1)$. If we inspect 20 products, the number of defective products follows a binomial distribution $( n = 20, p = 0.1 ))$.\n",
    "\n",
    "These examples demonstrate situations where there are a fixed number of trials, each trial has two possible outcomes (success or failure), and the probability of success remains constant. The binomial distribution is a versatile model for such scenarios in probability and statistics."
   ]
  },
  {
   "cell_type": "markdown",
   "id": "e7fdf32a",
   "metadata": {},
   "source": [
    "### Q5. Generate a random sample of size 1000 from a binomial distribution with probability of success 0.4 and plot a histogram of the results using matplotlib."
   ]
  },
  {
   "cell_type": "code",
   "execution_count": 2,
   "id": "10d7a900",
   "metadata": {},
   "outputs": [
    {
     "data": {
      "image/png": "[encoded data removed]",
      "text/plain": [
       "<Figure size 432x288 with 1 Axes>"
      ]
     },
     "metadata": {
      "needs_background": "light"
     },
     "output_type": "display_data"
    }
   ],
   "source": [
    "import numpy as np\n",
    "import matplotlib.pyplot as plt\n",
    "\n",
    "# Set the seed for reproducibility\n",
    "np.random.seed(42)\n",
    "\n",
    "# Generate a random sample of size 1000 from a binomial distribution\n",
    "sample_size = 1000\n",
    "probability_of_success = 0.4\n",
    "random_sample = np.random.binomial(n=1, p=probability_of_success, size=sample_size)\n",
    "\n",
    "# Plot a histogram of the results\n",
    "plt.hist(random_sample, bins=[-0.5, 0.5, 1.5], edgecolor='black', alpha=0.7)\n",
    "plt.xticks([0, 1], ['Failure', 'Success'])\n",
    "plt.xlabel('Outcome')\n",
    "plt.ylabel('Frequency')\n",
    "plt.title(f'Binomial Distribution (n=1, p={probability_of_success}) - Random Sample of Size {sample_size}')\n",
    "plt.show()\n"
   ]
  },
  {
   "cell_type": "markdown",
   "id": "567d9ca1",
   "metadata": {},
   "source": [
    "### Q6. Write a Python function to calculate the cumulative distribution function of a Poisson distribution with given mean at a given point."
   ]
  },
  {
   "cell_type": "code",
   "execution_count": 3,
   "id": "0d453e4e",
   "metadata": {},
   "outputs": [
    {
     "name": "stdout",
     "output_type": "stream",
     "text": [
      "The CDF at 3 for a Poisson distribution with mean 2.5 is: 0.7575761331330659\n"
     ]
    }
   ],
   "source": [
    "import math\n",
    "\n",
    "def poisson_cdf(k, lambd):\n",
    "    \"\"\"\n",
    "    Calculate the cumulative distribution function (CDF) of a Poisson distribution.\n",
    "\n",
    "    Parameters:\n",
    "    - k: The point at which to evaluate the CDF.\n",
    "    - lambd: The mean of the Poisson distribution.\n",
    "\n",
    "    Returns:\n",
    "    - cdf: The CDF value at the given point.\n",
    "    \"\"\"\n",
    "    cdf = 0\n",
    "    for i in range(int(k) + 1):\n",
    "        cdf += (math.exp(-lambd) * (lambd**i)) / math.factorial(i)\n",
    "    return cdf\n",
    "\n",
    "# Example usage:\n",
    "mean_lambda = 2.5\n",
    "point = 3\n",
    "\n",
    "cdf_value = poisson_cdf(point, mean_lambda)\n",
    "print(f\"The CDF at {point} for a Poisson distribution with mean {mean_lambda} is: {cdf_value}\")\n"
   ]
  },
  {
   "cell_type": "markdown",
   "id": "cc77bfde",
   "metadata": {},
   "source": [
    "### Q7. How Binomial distribution different from Poisson distribution?"
   ]
  },
  {
   "cell_type": "markdown",
   "id": "d8ad5eb5",
   "metadata": {},
   "source": [
    "The Binomial distribution and Poisson distribution are both probability distributions used to model the number of successes in a fixed number of trials, but they differ in their assumptions and applications. Here are the key differences between the Binomial and Poisson distributions:\n",
    "\n",
    "**1. Number of Trials:**\n",
    "   - **Binomial Distribution:** The Binomial distribution is used when there is a fixed number of independent and identical trials (denoted as \\( n \\)).\n",
    "   - **Poisson Distribution:** The Poisson distribution is used when the number of trials is not fixed but is instead measured over a fixed interval of time or space.\n",
    "\n",
    "**2. Nature of Events:**\n",
    "   - **Binomial Distribution:** Each trial in the Binomial distribution has two possible outcomes (success or failure).\n",
    "   - **Poisson Distribution:** The Poisson distribution models the number of events occurring in a fixed interval, such as the number of phone calls received in an hour.\n",
    "\n",
    "**3. Probability of Success:**\n",
    "   - **Binomial Distribution:** The probability of success $( p )$ remains constant for each trial.\n",
    "   - **Poisson Distribution:** The Poisson distribution assumes a low probability of success for each trial, but as the number of trials increases, the product $\\( n \\cdot p )$ (average number of successes) remains constant.\n",
    "\n",
    "**4. Assumptions:**\n",
    "   - **Binomial Distribution:** Assumes a fixed number of trials, each with two possible outcomes, and independence between trials.\n",
    "   - **Poisson Distribution:** Assumes a large number of trials, each with a low probability of success, and events are independent.\n",
    "\n",
    "**5. Mean and Variance:**\n",
    "   - **Binomial Distribution:** The mean $(( \\mu ))$ is $( n \\cdot p)$, and the variance $( \\sigma^2 ))$ is $( n \\cdot p \\cdot (1 - p) )$.\n",
    "   - **Poisson Distribution:** The mean $( \\lambda ))$ and variance $( \\lambda))$ are both equal to $( \\lambda)$, the average rate of events.\n",
    "\n",
    "**6. Use Cases:**\n",
    "   - **Binomial Distribution:** Used in scenarios where there is a fixed number of trials, such as coin tossing, where the number of tosses is predetermined.\n",
    "   - **Poisson Distribution:** Used in scenarios where the number of events occurring in a fixed interval is of interest, such as the number of emails received in an hour.\n",
    "\n",
    "In summary, while both distributions model the number of successes, the choice between Binomial and Poisson distributions depends on the nature of the problem and the characteristics of the data. The Binomial distribution is suitable when the number of trials is fixed and there are two possible outcomes, while the Poisson distribution is suitable for modeling rare events occurring in a fixed interval."
   ]
  },
  {
   "cell_type": "markdown",
   "id": "2dd1a9e3",
   "metadata": {},
   "source": [
    "### Q8. Generate a random sample of size 1000 from a Poisson distribution with mean 5 and calculate the sample mean and variance."
   ]
  },
  {
   "cell_type": "code",
   "execution_count": 4,
   "id": "c05baa39",
   "metadata": {},
   "outputs": [
    {
     "name": "stdout",
     "output_type": "stream",
     "text": [
      "Sample Mean: 4.985\n",
      "Sample Variance: 5.001776776776777\n"
     ]
    }
   ],
   "source": [
    "import numpy as np\n",
    "\n",
    "# Set the seed for reproducibility\n",
    "np.random.seed(42)\n",
    "\n",
    "# Generate a random sample of size 1000 from a Poisson distribution with mean 5\n",
    "sample_size = 1000\n",
    "mean_poisson = 5\n",
    "random_sample = np.random.poisson(mean_poisson, size=sample_size)\n",
    "\n",
    "# Calculate the sample mean and variance\n",
    "sample_mean = np.mean(random_sample)\n",
    "sample_variance = np.var(random_sample, ddof=1)  # using ddof=1 for sample variance\n",
    "\n",
    "print(f\"Sample Mean: {sample_mean}\")\n",
    "print(f\"Sample Variance: {sample_variance}\")\n"
   ]
  },
  {
   "cell_type": "markdown",
   "id": "a1f0d1f6",
   "metadata": {},
   "source": [
    "### Q9. How mean and variance are related in Binomial distribution and Poisson distribution?"
   ]
  },
  {
   "cell_type": "markdown",
   "id": "a68e1280",
   "metadata": {},
   "source": [
    "In both the Binomial distribution and the Poisson distribution, the mean $( \\mu )$ and variance $( \\sigma^2)$ are related, but the nature of this relationship is slightly different for each distribution.\n",
    "\n",
    "**Binomial Distribution:**\n",
    "For a Binomial distribution with parameters $( n )$ (number of trials) and $( p )$ (probability of success on each trial), the mean $( \\mu )$ and variance $( \\sigma^2 )$ are related as follows:\n",
    "\n",
    "$[ \\mu = n \\cdot p ]$\n",
    "$[ \\sigma^2 = n \\cdot p \\cdot (1 - p)]$\n",
    "\n",
    "The variance is directly influenced by both the number of trials $( n) and the probability of success on each trial $( p)$. As the probability of success approaches 0 or 1, the variance decreases, and it reaches its maximum when $(p = 0.5)$.\n",
    "\n",
    "**Poisson Distribution:**\n",
    "For a Poisson distribution with parameter \\( \\lambda \\) (average rate of events occurring in a fixed interval), the mean $(( \\mu )$ and variance $( \\sigma^2)$ are equal and are both equal to $(\\lambda)$:\n",
    "\n",
    "$[ \\mu = \\sigma^2 = \\lambda]$\n",
    "\n",
    "In the Poisson distribution, the variance is solely determined by the average rate $( \\lambda)$. As the average rate increases, both the mean and variance increase proportionally.\n",
    "\n",
    "**Summary:**\n",
    "- In the Binomial distribution, the variance depends on both the number of trials $( n )$ and the probability of success $( p )$.\n",
    "- In the Poisson distribution, the variance is solely determined by the average rate $( \\lambda)$, and both the mean and variance are equal.\n",
    "\n",
    "In both cases, understanding the relationship between the mean and variance is important for characterizing the spread of the distribution and interpreting the variability of the data."
   ]
  },
  {
   "cell_type": "markdown",
   "id": "d9d66fba",
   "metadata": {},
   "source": [
    "### Q10. In normal distribution with respect to mean position, where does the least frequent data appear?"
   ]
  },
  {
   "cell_type": "markdown",
   "id": "dc161c53",
   "metadata": {},
   "source": [
    "In a normal distribution, also known as a Gaussian distribution or bell curve, the data is symmetrically distributed around the mean. The mean is the central point of the distribution, and the shape of the curve is such that it is highest at the mean and decreases symmetrically as you move away from the mean in both directions.\n",
    "\n",
    "The least frequent data, or the tails of the distribution where the data is less likely to occur, appears in the extremes, far away from the mean. These extreme values are found in the tails of the normal distribution.\n",
    "\n",
    "In a standard normal distribution (with a mean of 0 and a standard deviation of 1), the least frequent data would be located in the tails, specifically in the tails beyond a certain number of standard deviations from the mean.\n",
    "\n",
    "The normal distribution is characterized by the empirical rule (or 68-95-99.7 rule) which states that:\n",
    "\n",
    "- Approximately 68% of the data falls within one standard deviation of the mean.\n",
    "- Approximately 95% falls within two standard deviations.\n",
    "- Approximately 99.7% falls within three standard deviations.\n",
    "\n",
    "So, the least frequent data, representing extreme values, would be found in the tails beyond three standard deviations from the mean in a normal distribution."
   ]
  },
  {
   "cell_type": "code",
   "execution_count": null,
   "id": "11607feb",
   "metadata": {},
   "outputs": [],
   "source": []
  }
 ],
 "metadata": {
  "kernelspec": {
   "display_name": "Python 3 (ipykernel)",
   "language": "python",
   "name": "python3"
  },
  "language_info": {
   "codemirror_mode": {
    "name": "ipython",
    "version": 3
   },
   "file_extension": ".py",
   "mimetype": "text/x-python",
   "name": "python",
   "nbconvert_exporter": "python",
   "pygments_lexer": "ipython3",
   "version": "3.9.7"
  }
 },
 "nbformat": 4,
 "nbformat_minor": 5
}
