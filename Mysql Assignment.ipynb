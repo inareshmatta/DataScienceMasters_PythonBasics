{
 "cells": [
  {
   "cell_type": "markdown",
   "id": "050a35c3",
   "metadata": {},
   "source": [
    "### Q1. What is a database? Differentiate between SQL and NoSQL databases."
   ]
  },
  {
   "cell_type": "markdown",
   "id": "d52d8bcc",
   "metadata": {},
   "source": [
    "A database is a collection of organized data that can be accessed, managed, and updated easily. It is designed to facilitate the storage, retrieval, and management of data in a structured way. Databases are used to store and manage large amounts of data, making it easier to retrieve, manipulate, and analyze the information.\n",
    "\n",
    "|      | SQL                | NoSQL                                    |\n",
    "|------|--------------------|------------------------------------------|\n",
    "| Data Model | Relational model based on tables with fixed schema | Various models including document, graph, and key-value with flexible schema |\n",
    "| Scalability | Vertically scalable by upgrading hardware | Horizontally scalable by adding more nodes to cluster |\n",
    "| Flexibility | Rigid schema, difficult to accommodate changes | Flexible schema, easily accommodate changes |\n",
    "| Querying | SQL for querying and manipulating data | Various query languages such as JavaScript, JSON, and XML |\n",
    "| Performance | Optimized for complex queries and handling large datasets | Optimized for high-speed, low-latency queries and handling massive amounts of unstructured data |\n",
    "| ACID Compliance | Typically ACID-compliant, ensuring atomicity, consistency, isolation, and durability | May or may not be ACID-compliant depending on implementation |\n",
    "| Use Cases | Well-suited for applications that require complex queries, data integrity, and transactions | Better suited for applications that require high scalability, availability, and flexibility in handling unstructured data |\n",
    "| Cost | Often more expensive due to complex design and licensing fees | Often open source and free to use |\n",
    "| Data Storage | Stores data in structured format optimized for querying | Can store data in various formats such as JSON, BSON, and XML |\n",
    "| Security | Long history of security features and often preferred for high-security applications | May have less mature security features, but continuously improving |\n"
   ]
  },
  {
   "cell_type": "markdown",
   "id": "a367359a",
   "metadata": {},
   "source": [
    "### Q2. What is DDL? Explain why CREATE, DROP, ALTER, and TRUNCATE are used with an example."
   ]
  },
  {
   "cell_type": "markdown",
   "id": "d7f2838d",
   "metadata": {},
   "source": [
    "DDL stands for Data Definition Language, which is a subset of SQL used to create, modify, and delete the structure of database objects such as tables, indexes, and views. DDL statements are used to define the schema of a database and establish the relationships between tables. Here are some examples of DDL statements and their use cases:\n",
    "\n",
    "CREATE: The CREATE statement is used to create new database objects such as tables, views, and indexes. For example, the following statement creates a new table called \"employees\" with columns for the employee ID, name, and department:"
   ]
  },
  {
   "cell_type": "code",
   "execution_count": 1,
   "id": "95c424bb",
   "metadata": {},
   "outputs": [
    {
     "ename": "SyntaxError",
     "evalue": "invalid syntax (Temp/ipykernel_5188/1236421565.py, line 1)",
     "output_type": "error",
     "traceback": [
      "\u001b[1;36m  File \u001b[1;32m\"C:\\Users\\inare\\AppData\\Local\\Temp/ipykernel_5188/1236421565.py\"\u001b[1;36m, line \u001b[1;32m1\u001b[0m\n\u001b[1;33m    CREATE TABLE employees (\u001b[0m\n\u001b[1;37m           ^\u001b[0m\n\u001b[1;31mSyntaxError\u001b[0m\u001b[1;31m:\u001b[0m invalid syntax\n"
     ]
    }
   ],
   "source": [
    "CREATE TABLE employees (\n",
    "    employee_id INT PRIMARY KEY,\n",
    "    name VARCHAR(50) NOT NULL,\n",
    "    department VARCHAR(50)\n",
    ");\n"
   ]
  },
  {
   "cell_type": "markdown",
   "id": "e6ef745c",
   "metadata": {},
   "source": [
    "DROP: The DROP statement is used to delete existing database objects such as tables, views, and indexes. For example, the following statement drops the \"employees\" table:"
   ]
  },
  {
   "cell_type": "code",
   "execution_count": null,
   "id": "24b91569",
   "metadata": {},
   "outputs": [],
   "source": [
    "DROP TABLE employees;\n"
   ]
  },
  {
   "cell_type": "markdown",
   "id": "841a6b4d",
   "metadata": {},
   "source": [
    "ALTER: The ALTER statement is used to modify the structure of existing database objects such as tables and columns. For example, the following statement adds a new column called \"email\" to the \"employees\" table:"
   ]
  },
  {
   "cell_type": "code",
   "execution_count": null,
   "id": "c4316b18",
   "metadata": {},
   "outputs": [],
   "source": [
    "ALTER TABLE employees ADD COLUMN email VARCHAR(50);\n"
   ]
  },
  {
   "cell_type": "markdown",
   "id": "73babd12",
   "metadata": {},
   "source": [
    "TRUNCATE: The TRUNCATE statement is used to delete all data from a table, but not the table structure itself. For example, the following statement deletes all data from the \"employees\" table:"
   ]
  },
  {
   "cell_type": "code",
   "execution_count": null,
   "id": "db8a7c8e",
   "metadata": {},
   "outputs": [],
   "source": [
    "TRUNCATE TABLE employees;\n"
   ]
  },
  {
   "cell_type": "markdown",
   "id": "013a9dea",
   "metadata": {},
   "source": [
    "In summary, DDL statements are used to create, modify, and delete the structure of database objects, and they are essential for defining the schema of a database and managing its objects."
   ]
  },
  {
   "cell_type": "markdown",
   "id": "b0e456c4",
   "metadata": {},
   "source": [
    "### Q3. What is DML? Explain INSERT, UPDATE, and DELETE with an example."
   ]
  },
  {
   "cell_type": "markdown",
   "id": "c95e4738",
   "metadata": {},
   "source": [
    "DML stands for Data Manipulation Language, which is a subset of SQL used to manipulate the data stored in database objects such as tables. DML statements are used to insert, update, and delete data from database tables. Here are some examples of DML statements and their use cases:\n",
    "\n",
    "INSERT: The INSERT statement is used to add new rows to a table. For example, the following statement inserts a new row into the \"employees\" table:"
   ]
  },
  {
   "cell_type": "code",
   "execution_count": null,
   "id": "13420bf4",
   "metadata": {},
   "outputs": [],
   "source": [
    "INSERT INTO employees (employee_id, name, department, email) \n",
    "VALUES (1, 'John Smith', 'Marketing', 'john.smith@example.com');\n"
   ]
  },
  {
   "cell_type": "markdown",
   "id": "3ac9e219",
   "metadata": {},
   "source": [
    "UPDATE: The UPDATE statement is used to modify the data in existing rows of a table. For example, the following statement updates the department of the employee with ID 1:"
   ]
  },
  {
   "cell_type": "code",
   "execution_count": null,
   "id": "cf94a2a6",
   "metadata": {},
   "outputs": [],
   "source": [
    "UPDATE employees SET department = 'Sales' WHERE employee_id = 1;\n"
   ]
  },
  {
   "cell_type": "markdown",
   "id": "8ee76b35",
   "metadata": {},
   "source": [
    "DELETE: The DELETE statement is used to remove one or more rows from a table. For example, the following statement deletes the employee with ID 1 from the \"employees\" table:"
   ]
  },
  {
   "cell_type": "code",
   "execution_count": null,
   "id": "8131af38",
   "metadata": {},
   "outputs": [],
   "source": [
    "DELETE FROM employees WHERE employee_id = 1;\n"
   ]
  },
  {
   "cell_type": "markdown",
   "id": "0dbec104",
   "metadata": {},
   "source": [
    "In summary, DML statements are used to manipulate the data stored in database tables, and they are essential for inserting new data, updating existing data, and deleting unwanted data."
   ]
  },
  {
   "cell_type": "markdown",
   "id": "014808a6",
   "metadata": {},
   "source": [
    "### Q4. What is DQL? Explain SELECT with an example."
   ]
  },
  {
   "cell_type": "markdown",
   "id": "b9aed923",
   "metadata": {},
   "source": [
    "DQL stands for Data Query Language, which is a subset of SQL used to retrieve data from database objects such as tables. DQL statements are used to retrieve data that matches specific conditions and criteria. Here is an example of a DQL statement and its use case:\n",
    "\n",
    "SELECT: The SELECT statement is used to retrieve data from one or more tables in a database. For example, the following statement retrieves all data from the \"employees\" table:"
   ]
  },
  {
   "cell_type": "code",
   "execution_count": null,
   "id": "1772166f",
   "metadata": {},
   "outputs": [],
   "source": [
    "SELECT * FROM employees;\n"
   ]
  },
  {
   "cell_type": "markdown",
   "id": "e322b036",
   "metadata": {},
   "source": [
    "The asterisk (*) symbol is used to retrieve all columns from the table. Alternatively, you can specify which columns to retrieve by listing them after the SELECT keyword, separated by commas. For example, the following statement retrieves only the employee ID and name columns:"
   ]
  },
  {
   "cell_type": "code",
   "execution_count": null,
   "id": "b68e9e94",
   "metadata": {},
   "outputs": [],
   "source": [
    "SELECT employee_id, name FROM employees;\n"
   ]
  },
  {
   "cell_type": "markdown",
   "id": "dd579077",
   "metadata": {},
   "source": [
    "You can also use the WHERE clause to filter the results based on specific conditions. For example, the following statement retrieves only the employees who work in the Marketing department:"
   ]
  },
  {
   "cell_type": "code",
   "execution_count": null,
   "id": "bf89fe3d",
   "metadata": {},
   "outputs": [],
   "source": [
    "SELECT * FROM employees WHERE department = 'Marketing';\n"
   ]
  },
  {
   "cell_type": "markdown",
   "id": "33395f91",
   "metadata": {},
   "source": [
    "You can also use aggregate functions such as SUM, AVG, MAX, MIN, and COUNT to perform calculations on the retrieved data. For example, the following statement retrieves the total number of employees in the \"employees\" table:"
   ]
  },
  {
   "cell_type": "markdown",
   "id": "dc615d75",
   "metadata": {},
   "source": [
    "In summary, SELECT is a DQL statement used to retrieve data from one or more tables in a database, and it is essential for querying and analyzing data stored in databases."
   ]
  },
  {
   "cell_type": "markdown",
   "id": "1e3e56f0",
   "metadata": {},
   "source": [
    "### Q5. Explain Primary Key and Foreign Key."
   ]
  },
  {
   "cell_type": "markdown",
   "id": "3207af88",
   "metadata": {},
   "source": [
    "Primary Key: A primary key is a column or a set of columns in a table that uniquely identifies each row in the table. A primary key is used to enforce data integrity by ensuring that no two rows in the table have the same values for the primary key columns. Typically, the primary key is chosen from columns that have a unique value for each row, such as an ID column."
   ]
  },
  {
   "cell_type": "markdown",
   "id": "1cb5692f",
   "metadata": {},
   "source": [
    "Foreign Key: A foreign key is a column or a set of columns in a table that refers to the primary key of another table. The foreign key establishes a relationship between the two tables, where the table with the foreign key is called the child table, and the table with the primary key is called the parent table. The foreign key ensures referential integrity by preventing child records from referencing non-existent parent records. "
   ]
  },
  {
   "cell_type": "markdown",
   "id": "97c11b6c",
   "metadata": {},
   "source": [
    "| Concept      | Primary Key                                                | Foreign Key                                                |\n",
    "|--------------|------------------------------------------------------------|------------------------------------------------------------|\n",
    "| Definition   | A column or set of columns that uniquely identifies a row. | A column or set of columns that refers to a primary key.   |\n",
    "| Purpose      | To enforce data integrity by ensuring uniqueness.          | To establish relationships between tables.                 |\n",
    "| Example      | CREATE TABLE employees (employee_id INT PRIMARY KEY, ...)  | CREATE TABLE orders (order_id INT, employee_id INT, FOREIGN KEY (employee_id) REFERENCES employees(employee_id), ...) |\n",
    "| Table Usage  | Every table should have a primary key.                     | Only used in child tables that reference a parent table.   |\n",
    "| Data Integrity | Primary key must be unique and not null.                   | Foreign key values must match a primary key or be null.    |\n"
   ]
  },
  {
   "cell_type": "markdown",
   "id": "4bc82cef",
   "metadata": {},
   "source": [
    "### Q6. Write a python code to connect MySQL to python. Explain the cursor() and execute() method."
   ]
  },
  {
   "cell_type": "code",
   "execution_count": null,
   "id": "d34dbc1a",
   "metadata": {},
   "outputs": [],
   "source": [
    "import mysql.connector\n",
    "\n",
    "# Establishing a connection to the MySQL database\n",
    "mydb = mysql.connector.connect(\n",
    "  host=\"localhost\",\n",
    "  user=\"yourusername\",\n",
    "  password=\"yourpassword\",\n",
    "  database=\"yourdatabase\"\n",
    ")\n",
    "\n",
    "# Creating a cursor object to execute SQL queries\n",
    "mycursor = mydb.cursor()\n",
    "\n",
    "# Executing a SELECT query using the execute() method\n",
    "mycursor.execute(\"SELECT * FROM customers\")\n",
    "\n",
    "# Fetching the results using the fetchall() method\n",
    "result = mycursor.fetchall()\n",
    "\n",
    "# Printing the results\n",
    "for row in result:\n",
    "  print(row)\n"
   ]
  },
  {
   "cell_type": "markdown",
   "id": "351711e7",
   "metadata": {},
   "source": [
    "In the above code, we first import the mysql.connector library to establish a connection to the MySQL database. We then use the connect() method to establish a connection by passing in the necessary credentials such as the host, username, password, and database name.\n",
    "\n",
    "Next, we create a cursor object using the cursor() method. The cursor is used to execute SQL queries and fetch the results.\n",
    "\n",
    "We then execute a SELECT query using the execute() method and pass in the SQL statement as a parameter. The execute() method is used to execute SQL queries on the MySQL database.\n",
    "\n",
    "Finally, we fetch the results using the fetchall() method and print them to the console.\n",
    "\n",
    "In summary, the cursor() method is used to create a cursor object that can be used to execute SQL queries, and the execute() method is used to execute SQL queries on the MySQL database."
   ]
  },
  {
   "cell_type": "markdown",
   "id": "3e5915e3",
   "metadata": {},
   "source": [
    "### Q7. Give the order of execution of SQL clauses in an SQL query.\n",
    "\n"
   ]
  },
  {
   "cell_type": "markdown",
   "id": "5b8ee569",
   "metadata": {},
   "source": [
    "The order of execution of SQL clauses in an SQL query is as follows:\n",
    "\n",
    "FROM: This clause specifies the table or tables from which to retrieve data.\n",
    "\n",
    "JOIN: This clause is used to join two or more tables together based on a common column.\n",
    "\n",
    "WHERE: This clause is used to filter the results based on a specified condition.\n",
    "\n",
    "GROUP BY: This clause is used to group the results based on one or more columns.\n",
    "\n",
    "HAVING: This clause is used to filter the results of a GROUP BY clause based on a specified condition.\n",
    "\n",
    "SELECT: This clause is used to select the columns to retrieve from the specified table(s).\n",
    "\n",
    "ORDER BY: This clause is used to sort the results based on one or more columns.\n",
    "\n",
    "LIMIT: This clause is used to limit the number of results returned by the query.\n",
    "\n",
    "It's important to note that not all SQL queries include all of these clauses and the order of execution may differ based on the query. However, this is the general order in which the clauses are executed."
   ]
  },
  {
   "cell_type": "code",
   "execution_count": null,
   "id": "ecc7fc53",
   "metadata": {},
   "outputs": [],
   "source": []
  }
 ],
 "metadata": {
  "kernelspec": {
   "display_name": "Python 3 (ipykernel)",
   "language": "python",
   "name": "python3"
  },
  "language_info": {
   "codemirror_mode": {
    "name": "ipython",
    "version": 3
   },
   "file_extension": ".py",
   "mimetype": "text/x-python",
   "name": "python",
   "nbconvert_exporter": "python",
   "pygments_lexer": "ipython3",
   "version": "3.9.7"
  }
 },
 "nbformat": 4,
 "nbformat_minor": 5
}
