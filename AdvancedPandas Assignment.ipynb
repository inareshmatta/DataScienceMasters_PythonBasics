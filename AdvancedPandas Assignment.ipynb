{
 "cells": [
  {
   "cell_type": "code",
   "execution_count": 2,
   "id": "7a6a9003",
   "metadata": {},
   "outputs": [],
   "source": [
    "import pandas as pd"
   ]
  },
  {
   "cell_type": "code",
   "execution_count": 9,
   "id": "45028a20",
   "metadata": {},
   "outputs": [],
   "source": [
    "import numpy as np"
   ]
  },
  {
   "cell_type": "code",
   "execution_count": 5,
   "id": "52ce99c4",
   "metadata": {},
   "outputs": [],
   "source": [
    "course_name = ['Data Science', 'Machine Learning', 'Big Data', 'Data Engineer']\n",
    "duration = [2,3,6,4]\n",
    "df = pd.DataFrame(data = {'course_name' : course_name, 'duration' : duration})"
   ]
  },
  {
   "cell_type": "markdown",
   "id": "91b809d7",
   "metadata": {},
   "source": [
    "### Q1. Write a code to print the data present in the second row of the dataframe, df."
   ]
  },
  {
   "cell_type": "code",
   "execution_count": 6,
   "id": "a6fe5349",
   "metadata": {},
   "outputs": [
    {
     "name": "stdout",
     "output_type": "stream",
     "text": [
      "course_name    Machine Learning\n",
      "duration                      3\n",
      "Name: 1, dtype: object\n"
     ]
    }
   ],
   "source": [
    "second_row = df.iloc[1]\n",
    "print(second_row)"
   ]
  },
  {
   "cell_type": "markdown",
   "id": "7c496a28",
   "metadata": {},
   "source": [
    "### Q2. What is the difference between the functions loc and iloc in pandas.DataFrame?"
   ]
  },
  {
   "cell_type": "markdown",
   "id": "8de53e46",
   "metadata": {},
   "source": [
    "The functions `loc` and `iloc` are used for indexing and selecting data in a Pandas DataFrame, but they have some differences:\n",
    "\n",
    "- `loc` is label-based indexing, which means it uses labels or column names to retrieve data. You can pass row labels and column names to `loc` to select specific rows and columns. For example, `df.loc[1, 'column_name']` will retrieve the value at the intersection of row 1 and the specified column.\n",
    "\n",
    "- `iloc` is integer-based indexing, which means it uses integer positions to retrieve data. You can pass integer positions to `iloc` to select specific rows and columns. For example, `df.iloc[1, 2]` will retrieve the value at the intersection of the second row and the third column (index positions start from 0).\n",
    "\n",
    "In summary, `loc` uses labels or column names, while `iloc` uses integer positions for indexing and selecting data in a DataFrame."
   ]
  },
  {
   "cell_type": "markdown",
   "id": "f63d35e1",
   "metadata": {},
   "source": [
    "### Q3. Reindex the given dataframe using a variable, reindex = [3,0,1,2] and store it in the variable, new_df then find the output for both new_df.loc[2] and new_df.iloc[2]."
   ]
  },
  {
   "cell_type": "code",
   "execution_count": 7,
   "id": "f762e034",
   "metadata": {},
   "outputs": [
    {
     "name": "stdout",
     "output_type": "stream",
     "text": [
      "Value using loc: course_name    Big Data\n",
      "duration              6\n",
      "Name: 2, dtype: object\n",
      "Value using iloc: course_name    Machine Learning\n",
      "duration                      3\n",
      "Name: 1, dtype: object\n"
     ]
    }
   ],
   "source": [
    "import pandas as pd\n",
    "\n",
    "# Given DataFrame\n",
    "course_name = ['Data Science', 'Machine Learning', 'Big Data', 'Data Engineer']\n",
    "duration = [2, 3, 6, 4]\n",
    "df = pd.DataFrame(data={'course_name': course_name, 'duration': duration})\n",
    "\n",
    "# Reindex the DataFrame\n",
    "reindex = [3, 0, 1, 2]\n",
    "new_df = df.reindex(reindex)\n",
    "\n",
    "# Retrieve value using loc\n",
    "value_loc = new_df.loc[2]\n",
    "print(\"Value using loc:\", value_loc)\n",
    "\n",
    "# Retrieve value using iloc\n",
    "value_iloc = new_df.iloc[2]\n",
    "print(\"Value using iloc:\", value_iloc)\n"
   ]
  },
  {
   "cell_type": "markdown",
   "id": "13073a33",
   "metadata": {},
   "source": [
    "### Did you observe any difference in both the outputs? If so then explain it."
   ]
  },
  {
   "cell_type": "markdown",
   "id": "44a05273",
   "metadata": {},
   "source": [
    "new_df.loc[2] returns the row with label/index 2, which is 'Big Data' with duration 6. On the other hand, new_df.iloc[2] returns the third row (index position 2), which is 'Machine Learning' with duration 3."
   ]
  },
  {
   "cell_type": "markdown",
   "id": "954fcd2a",
   "metadata": {},
   "source": [
    "### Consider the below code to answer further questions:"
   ]
  },
  {
   "cell_type": "code",
   "execution_count": 10,
   "id": "83bc83fe",
   "metadata": {},
   "outputs": [],
   "source": [
    "columns = ['column_1', 'column_2', 'column_3', 'column_4', 'column_5', 'column_6']  \n",
    "indices = [1,2,3,4,5,6]  \n",
    "#Creating a dataframe:  \n",
    "df1 = pd.DataFrame(np.random.rand(6,6), columns = columns, index = indices)  "
   ]
  },
  {
   "cell_type": "markdown",
   "id": "a72dca73",
   "metadata": {},
   "source": [
    "### Q4. Write a code to find the following statistical measurements for the above dataframe df1:                               \n",
    "(i) mean of each and every column present in the dataframe.                                                                                                (ii) standard deviation of column, ‘column_2’                                                                                              "
   ]
  },
  {
   "cell_type": "code",
   "execution_count": 11,
   "id": "9438539d",
   "metadata": {},
   "outputs": [
    {
     "name": "stdout",
     "output_type": "stream",
     "text": [
      "Mean of each column:\n",
      "column_1    0.668667\n",
      "column_2    0.320164\n",
      "column_3    0.660347\n",
      "column_4    0.419785\n",
      "column_5    0.442296\n",
      "column_6    0.669684\n",
      "dtype: float64\n",
      "\n",
      "Standard deviation of column 'column_2':\n",
      "0.21220545130642254\n"
     ]
    }
   ],
   "source": [
    "# Define the columns and indices\n",
    "columns = ['column_1', 'column_2', 'column_3', 'column_4', 'column_5', 'column_6']\n",
    "indices = [1, 2, 3, 4, 5, 6]\n",
    "\n",
    "# Creating the DataFrame\n",
    "df1 = pd.DataFrame(np.random.rand(6, 6), columns=columns, index=indices)\n",
    "\n",
    "# (i) Mean of each column\n",
    "mean_values = df1.mean()\n",
    "print(\"Mean of each column:\")\n",
    "print(mean_values)\n",
    "\n",
    "# (ii) Standard deviation of column 'column_2'\n",
    "std_dev_column_2 = df1['column_2'].std()\n",
    "print(\"\\nStandard deviation of column 'column_2':\")\n",
    "print(std_dev_column_2)\n"
   ]
  },
  {
   "cell_type": "markdown",
   "id": "a03ac365",
   "metadata": {},
   "source": [
    "### Q5. Replace the data present in the second row of column, ‘column_2’ by a string variable then find the mean of column, column_2. If you are getting errors in executing it then explain why. [Hint: To replace the data use df1.loc[] and equate this to string data of your choice.]"
   ]
  },
  {
   "cell_type": "markdown",
   "id": "e2bc5228",
   "metadata": {},
   "source": [
    "If you try to replace the data in the second row of 'column_2' with a string variable, you may encounter an error because the data type of the 'column_2' column is expected to be numeric (float) based on the random values generated using `np.random.rand()`.\n",
    "\n",
    "If you attempt to assign a string value to a numeric column, you may encounter a `TypeError` indicating an unsupported operand type between 'str' and 'float'. This is because Pandas expects the data types of each column to be consistent.\n",
    "\n",
    "To resolve this, you can either ensure that the values being assigned are of the same data type as the column (numeric), or convert the column to a string data type using `df1['column_2'] = df1['column_2'].astype(str)` before replacing the data with a string.\n"
   ]
  },
  {
   "cell_type": "markdown",
   "id": "63f11f63",
   "metadata": {},
   "source": [
    "### Q6. What do you understand about the windows function in pandas and list the types of windows functions?"
   ]
  },
  {
   "cell_type": "markdown",
   "id": "a4b7ad1c",
   "metadata": {},
   "source": [
    "#### In pandas, window functions allow you to perform calculations on a set of rows within a defined window or range. These functions operate on a sliding window that moves across the data, applying a specified computation to the values within the window.\n",
    "\n",
    "The types of window functions available in pandas include:\n",
    "\n",
    "1. Rolling Window: The rolling window function calculates statistics (e.g., mean, sum, standard deviation) for a specific window size, which moves along the data series. It provides a rolling view of the data and is useful for analyzing trends or patterns over time.\n",
    "\n",
    "2. Expanding Window: The expanding window function calculates statistics (e.g., mean, sum, standard deviation) for the expanding window, which starts from the beginning of the data and grows with each row. It helps analyze the cumulative effects of data over time.\n",
    "\n",
    "3. Rolling Time Window: The rolling time window function allows you to calculate statistics over a specific time period, rather than a fixed number of rows. It is useful for time-based analysis, such as calculating moving averages over a specific time range.\n",
    "\n",
    "4. Exponential Weighted Window: The exponential weighted window function assigns weights to the data points based on their proximity to the current point. It calculates statistics by giving more weight to recent data and gradually decreasing the weight as data points move further away.\n",
    "\n",
    "These window functions are powerful tools for analyzing time series data and can provide insights into trends, patterns, and relationships within the data."
   ]
  },
  {
   "cell_type": "markdown",
   "id": "95ec9627",
   "metadata": {},
   "source": [
    "### Q7. Write a code to print only the current month and year at the time of answering this question.\n",
    "[Hint: Use pandas.datetime function]"
   ]
  },
  {
   "cell_type": "code",
   "execution_count": 12,
   "id": "d7600ed5",
   "metadata": {},
   "outputs": [
    {
     "name": "stdout",
     "output_type": "stream",
     "text": [
      "Current month: 6\n",
      "Current year: 2023\n"
     ]
    }
   ],
   "source": [
    "current_date = pd.Timestamp.now()\n",
    "current_month = current_date.month\n",
    "current_year = current_date.year\n",
    "\n",
    "print(\"Current month:\", current_month)\n",
    "print(\"Current year:\", current_year)"
   ]
  },
  {
   "cell_type": "markdown",
   "id": "497d8aff",
   "metadata": {},
   "source": [
    "### Q8. Write a Python program that takes in two dates as input (in the format YYYY-MM-DD) and calculates the difference between them in days, hours, and minutes using Pandas time delta. The program should prompt the user to enter the dates and display the result."
   ]
  },
  {
   "cell_type": "code",
   "execution_count": 15,
   "id": "30710191",
   "metadata": {},
   "outputs": [
    {
     "name": "stdout",
     "output_type": "stream",
     "text": [
      "Enter the first date (YYYY-MM-DD): 2019-06-25\n",
      "Enter the second date (YYYY-MM-DD): 2023-06-25\n",
      "Difference between the dates:\n",
      "Days: 1461\n",
      "Hours: 0\n",
      "Minutes: 0\n",
      "Difference between the dates in years: 4\n"
     ]
    }
   ],
   "source": [
    "# Prompt the user to enter the dates\n",
    "date1 = input(\"Enter the first date (YYYY-MM-DD): \")\n",
    "date2 = input(\"Enter the second date (YYYY-MM-DD): \")\n",
    "\n",
    "# Convert the input dates to pandas datetime objects\n",
    "date1 = pd.to_datetime(date1)\n",
    "date2 = pd.to_datetime(date2)\n",
    "\n",
    "# Calculate the difference between the dates\n",
    "time_diff = date2 - date1\n",
    "\n",
    "# Extract the days, hours, and minutes from the time difference\n",
    "years = time_diff.days // 365\n",
    "days = time_diff.days\n",
    "hours = time_diff.seconds // 3600\n",
    "minutes = (time_diff.seconds % 3600) // 60\n",
    "\n",
    "# Display the result\n",
    "print(\"Difference between the dates:\")\n",
    "print(\"Days:\", days)\n",
    "print(\"Hours:\", hours)\n",
    "print(\"Minutes:\", minutes)\n",
    "print(\"Difference between the dates in years:\", years)\n"
   ]
  },
  {
   "cell_type": "markdown",
   "id": "eca90868",
   "metadata": {},
   "source": [
    "### Q9. Write a Python program that reads a CSV file containing categorical data and converts a specified column to a categorical data type. The program should prompt the user to enter the file path, column name, and category order, and then display the sorted data."
   ]
  },
  {
   "cell_type": "code",
   "execution_count": null,
   "id": "63d42ad0",
   "metadata": {},
   "outputs": [],
   "source": [
    "import pandas as pd\n",
    "\n",
    "# Prompt the user to enter the file path\n",
    "file_path = input(\"Enter the file path of the CSV file: \")\n",
    "\n",
    "# Prompt the user to enter the column name to convert\n",
    "column_name = input(\"Enter the column name to convert to categorical: \")\n",
    "\n",
    "# Prompt the user to enter the category order (comma-separated values)\n",
    "category_order = input(\"Enter the category order (comma-separated values): \").split(\",\")\n",
    "\n",
    "# Read the CSV file\n",
    "df = pd.read_csv(file_path)\n",
    "\n",
    "# Convert the specified column to categorical data type\n",
    "df[column_name] = pd.Categorical(df[column_name], categories=category_order, ordered=True)\n",
    "\n",
    "# Sort the data by the specified column\n",
    "sorted_df = df.sort_values(by=column_name)\n",
    "\n",
    "# Display the sorted data\n",
    "print(sorted_df)\n"
   ]
  },
  {
   "cell_type": "markdown",
   "id": "87f4d77b",
   "metadata": {},
   "source": [
    "### Q10. Write a Python program that reads a CSV file containing sales data for different products and visualizes the data using a stacked bar chart to show the sales of each product category over time. The program should prompt the user to enter the file path and display the chart."
   ]
  },
  {
   "cell_type": "code",
   "execution_count": null,
   "id": "e3ab001b",
   "metadata": {},
   "outputs": [],
   "source": [
    "import pandas as pd\n",
    "import matplotlib.pyplot as plt\n",
    "\n",
    "# Prompt the user to enter the file path\n",
    "file_path = input(\"Enter the file path of the CSV file: \")\n",
    "\n",
    "# Read the CSV file\n",
    "df = pd.read_csv(file_path)\n",
    "\n",
    "# Convert the 'Date' column to datetime data type\n",
    "df['Date'] = pd.to_datetime(df['Date'])\n",
    "\n",
    "# Group the data by 'Date' and 'Product Category' and calculate the sum of sales\n",
    "grouped_df = df.groupby(['Date', 'Product Category'])['Sales'].sum().unstack()\n",
    "\n",
    "# Plot the stacked bar chart\n",
    "grouped_df.plot(kind='bar', stacked=True)\n",
    "\n",
    "# Customize the chart\n",
    "plt.xlabel('Date')\n",
    "plt.ylabel('Sales')\n",
    "plt.title('Sales by Product Category over Time')\n",
    "plt.legend(title='Product Category')\n",
    "\n",
    "# Display the chart\n",
    "plt.show()\n"
   ]
  },
  {
   "cell_type": "markdown",
   "id": "696a29db",
   "metadata": {},
   "source": [
    "Q11. You are given a CSV file containing student data that includes the student ID and their test score. Write\n",
    "a Python program that reads the CSV file, calculates the mean, median, and mode of the test scores, and\n",
    "displays the results in a table.\n",
    "The program should do the followingM\n",
    "I Prompt the user to enter the file path of the CSV file containing the student dataR\n",
    "I Read the CSV file into a Pandas DataFrameR\n",
    "I Calculate the mean, median, and mode of the test scores using Pandas toolsR\n",
    "I Display the mean, median, and mode in a table.\n",
    "Assume the CSV file contains the following columnsM\n",
    "I Student ID: The ID of the studentR\n",
    "I Test Score: The score of the student's test.\n",
    "Example usage of the program:\n",
    "Enter the file path of the CSV file containing the student data: student_data.csv\n",
    "+-----------+--------+\n",
    "| Statistic | Value |\n",
    "+-----------+--------+\n",
    "| Mean | 79.6 |\n",
    "| Median | 82 |\n",
    "| Mode | 85, 90 |\n",
    "+-----------+--------+\n",
    "Assume that the CSV file student_data.csv contains the following data:\n",
    "Student ID,Test Score\n",
    "1,85\n",
    "2,90\n",
    "3,80\n",
    "4,75\n",
    "5,85\n",
    "6,82\n",
    "7,78\n",
    "8,85\n",
    "9,90\n",
    "10,85\n",
    "The program should calculate the mean, median, and mode of the test scores and display the results\n",
    "in a table."
   ]
  },
  {
   "cell_type": "code",
   "execution_count": 1,
   "id": "f70a2d58",
   "metadata": {},
   "outputs": [
    {
     "name": "stdout",
     "output_type": "stream",
     "text": [
      "CSV file 'student_data.csv' created successfully!\n"
     ]
    }
   ],
   "source": [
    "import csv\n",
    "\n",
    "data = [\n",
    "    ['Student ID', 'Test Score'],\n",
    "    [1, 85],\n",
    "    [2, 90],\n",
    "    [3, 80],\n",
    "    [4, 75],\n",
    "    [5, 85],\n",
    "    [6, 82],\n",
    "    [7, 78],\n",
    "    [8, 85],\n",
    "    [9, 90],\n",
    "    [10, 85]\n",
    "]\n",
    "\n",
    "file_path = 'student_data.csv'\n",
    "\n",
    "with open(file_path, 'w', newline='') as csvfile:\n",
    "    writer = csv.writer(csvfile)\n",
    "    writer.writerows(data)\n",
    "\n",
    "print(f\"CSV file '{file_path}' created successfully!\")\n"
   ]
  },
  {
   "cell_type": "code",
   "execution_count": 2,
   "id": "1ebcd8f4",
   "metadata": {},
   "outputs": [
    {
     "name": "stdout",
     "output_type": "stream",
     "text": [
      "Enter the file path of the CSV file containing the student data: student_data.csv\n",
      "  Statistic Value\n",
      "0      Mean  83.5\n",
      "1    Median  85.0\n",
      "2      Mode    85\n"
     ]
    }
   ],
   "source": [
    "import pandas as pd\n",
    "\n",
    "# Prompt the user to enter the file path\n",
    "file_path = input(\"Enter the file path of the CSV file containing the student data: \")\n",
    "\n",
    "# Read the CSV file into a DataFrame\n",
    "df = pd.read_csv(file_path)\n",
    "\n",
    "# Calculate the mean, median, and mode of the test scores\n",
    "mean_score = df['Test Score'].mean()\n",
    "median_score = df['Test Score'].median()\n",
    "mode_scores = df['Test Score'].mode()\n",
    "\n",
    "# Display the results in a table\n",
    "result_table = pd.DataFrame({'Statistic': ['Mean', 'Median', 'Mode'],\n",
    "                             'Value': [mean_score, median_score, ', '.join(map(str, mode_scores))]})\n",
    "print(result_table)\n"
   ]
  },
  {
   "cell_type": "code",
   "execution_count": null,
   "id": "f019882b",
   "metadata": {},
   "outputs": [],
   "source": []
  }
 ],
 "metadata": {
  "kernelspec": {
   "display_name": "Python 3 (ipykernel)",
   "language": "python",
   "name": "python3"
  },
  "language_info": {
   "codemirror_mode": {
    "name": "ipython",
    "version": 3
   },
   "file_extension": ".py",
   "mimetype": "text/x-python",
   "name": "python",
   "nbconvert_exporter": "python",
   "pygments_lexer": "ipython3",
   "version": "3.9.7"
  }
 },
 "nbformat": 4,
 "nbformat_minor": 5
}
