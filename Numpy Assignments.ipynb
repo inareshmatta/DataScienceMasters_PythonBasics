{
 "cells": [
  {
   "cell_type": "code",
   "execution_count": 3,
   "id": "fd07fe10",
   "metadata": {},
   "outputs": [],
   "source": [
    "import numpy as np"
   ]
  },
  {
   "cell_type": "markdown",
   "id": "2c8903de",
   "metadata": {},
   "source": [
    "Consider the below code to answer further questions:\n",
    "import numpy as np\n",
    "list_ = [ ‘1’ , ’2’ , ‘3’ , ‘4’ , ‘5’ ]\n",
    "array_list = np.array(object = list_)"
   ]
  },
  {
   "cell_type": "markdown",
   "id": "0dfb32eb",
   "metadata": {},
   "source": [
    "### Q1. Is there any difference in the data type of variables list_ and array_list? If there is then write a code to print the data types of both the variables."
   ]
  },
  {
   "cell_type": "markdown",
   "id": "935841db",
   "metadata": {},
   "source": [
    "Yes, there is a difference in the data type of the variables `list_` and `array_list`. `list_` is a Python list, while `array_list` is a NumPy array.\n",
    "\n",
    "To print the data types of both variables, you can use the `type()` function. Here's the code to do that:\n",
    "\n",
    "This code will output the data types of both variables."
   ]
  },
  {
   "cell_type": "code",
   "execution_count": 4,
   "id": "c2d37f5b",
   "metadata": {},
   "outputs": [
    {
     "name": "stdout",
     "output_type": "stream",
     "text": [
      "Data type of list_: <class 'list'>\n",
      "Data type of array_list: <class 'numpy.ndarray'>\n"
     ]
    }
   ],
   "source": [
    "list_ = ['1', '2', '3', '4', '5']\n",
    "array_list = np.array(object=list_)\n",
    "\n",
    "# Print the data types\n",
    "print(\"Data type of list_:\", type(list_))\n",
    "print(\"Data type of array_list:\", type(array_list))"
   ]
  },
  {
   "cell_type": "markdown",
   "id": "60023523",
   "metadata": {},
   "source": [
    "### Q2. Write a code to print the data type of each and every element of both the variables list_ and arra_list."
   ]
  },
  {
   "cell_type": "code",
   "execution_count": 5,
   "id": "7e06d594",
   "metadata": {},
   "outputs": [
    {
     "name": "stdout",
     "output_type": "stream",
     "text": [
      "Data types in list_:\n",
      "<class 'str'>\n",
      "<class 'str'>\n",
      "<class 'str'>\n",
      "<class 'str'>\n",
      "<class 'str'>\n",
      "\n",
      "Data types in array_list:\n",
      "<class 'numpy.str_'>\n",
      "<class 'numpy.str_'>\n",
      "<class 'numpy.str_'>\n",
      "<class 'numpy.str_'>\n",
      "<class 'numpy.str_'>\n"
     ]
    }
   ],
   "source": [
    "list_ = ['1', '2', '3', '4', '5']\n",
    "array_list = np.array(object=list_)\n",
    "\n",
    "# Print data type of each element in list_\n",
    "print(\"Data types in list_:\")\n",
    "for item in list_:\n",
    "    print(type(item))\n",
    "\n",
    "# Print data type of each element in array_list\n",
    "print(\"\\nData types in array_list:\")\n",
    "for item in array_list:\n",
    "    print(type(item))\n"
   ]
  },
  {
   "cell_type": "markdown",
   "id": "fb17d94a",
   "metadata": {},
   "source": [
    "### Q3. Considering the following changes in the variable, array_list: array_list = np.array(object = list_, dtype = int)\n",
    "### Will there be any difference in the data type of the elements present in both the variables, list_ and arra_list? If so then print the data types of each and every element present in both the variables, list_ and arra_list."
   ]
  },
  {
   "cell_type": "code",
   "execution_count": 6,
   "id": "a236ace2",
   "metadata": {},
   "outputs": [
    {
     "name": "stdout",
     "output_type": "stream",
     "text": [
      "Data types in list_:\n",
      "<class 'str'>\n",
      "<class 'str'>\n",
      "<class 'str'>\n",
      "<class 'str'>\n",
      "<class 'str'>\n",
      "\n",
      "Data types in array_list:\n",
      "<class 'numpy.int32'>\n",
      "<class 'numpy.int32'>\n",
      "<class 'numpy.int32'>\n",
      "<class 'numpy.int32'>\n",
      "<class 'numpy.int32'>\n"
     ]
    }
   ],
   "source": [
    "list_ = ['1', '2', '3', '4', '5']\n",
    "array_list = np.array(object=list_, dtype=int)\n",
    "\n",
    "# Print data type of each element in list_\n",
    "print(\"Data types in list_:\")\n",
    "for item in list_:\n",
    "    print(type(item))\n",
    "\n",
    "# Print data type of each element in array_list\n",
    "print(\"\\nData types in array_list:\")\n",
    "for item in array_list:\n",
    "    print(type(item))\n"
   ]
  },
  {
   "cell_type": "markdown",
   "id": "da61ecc9",
   "metadata": {},
   "source": [
    "Consider the below code to answer further questions:\n",
    "import numpy as np\n",
    "num_list = [ [ 1 , 2 , 3 ] , [ 4 , 5 , 6 ] ]\n",
    "num_array = np.array(object = num_list)"
   ]
  },
  {
   "cell_type": "markdown",
   "id": "815ca7a8",
   "metadata": {},
   "source": [
    "### Q4. Write a code to find the following characteristics of variable, num_array:\n",
    "(i) shape\n",
    "(ii) size"
   ]
  },
  {
   "cell_type": "code",
   "execution_count": 7,
   "id": "9664f617",
   "metadata": {},
   "outputs": [
    {
     "name": "stdout",
     "output_type": "stream",
     "text": [
      "Shape of the array: (2, 3)\n",
      "Size of the array: 6\n"
     ]
    }
   ],
   "source": [
    "# Create a NumPy array (you can replace this with your actual array)\n",
    "num_array = np.array([[1, 2, 3], [4, 5, 6]])\n",
    "\n",
    "# Find the shape of the array\n",
    "shape = num_array.shape\n",
    "\n",
    "# Find the size of the array\n",
    "size = num_array.size\n",
    "\n",
    "# Print the results\n",
    "print(\"Shape of the array:\", shape)\n",
    "print(\"Size of the array:\", size)\n"
   ]
  },
  {
   "cell_type": "markdown",
   "id": "8d6a717c",
   "metadata": {},
   "source": [
    "### Q5. Write a code to create numpy array of 3*3 matrix containing zeros only, using a numpy array creation function.\n",
    "[Hint: The size of the array will be 9 and the shape will be (3,3).]"
   ]
  },
  {
   "cell_type": "code",
   "execution_count": 8,
   "id": "b19fa374",
   "metadata": {},
   "outputs": [
    {
     "name": "stdout",
     "output_type": "stream",
     "text": [
      "[[0. 0. 0.]\n",
      " [0. 0. 0.]\n",
      " [0. 0. 0.]]\n"
     ]
    }
   ],
   "source": [
    "# Create a 3x3 array of zeros\n",
    "zeros_array = np.zeros((3, 3))\n",
    "\n",
    "# Print the zeros_array\n",
    "print(zeros_array)\n"
   ]
  },
  {
   "cell_type": "markdown",
   "id": "f26acaa6",
   "metadata": {},
   "source": [
    "### Q6. Create an identity matrix of shape (5,5) using numpy functions?\n",
    "[Hint: An identity matrix is a matrix containing 1 diagonally and other elements will be 0.]"
   ]
  },
  {
   "cell_type": "code",
   "execution_count": 9,
   "id": "ba90d7d5",
   "metadata": {},
   "outputs": [
    {
     "name": "stdout",
     "output_type": "stream",
     "text": [
      "[[1. 0. 0. 0. 0.]\n",
      " [0. 1. 0. 0. 0.]\n",
      " [0. 0. 1. 0. 0.]\n",
      " [0. 0. 0. 1. 0.]\n",
      " [0. 0. 0. 0. 1.]]\n"
     ]
    }
   ],
   "source": [
    "# Create a 5x5 identity matrix\n",
    "identity_matrix = np.eye(5)\n",
    "\n",
    "# Print the identity matrix\n",
    "print(identity_matrix)\n"
   ]
  },
  {
   "cell_type": "code",
   "execution_count": null,
   "id": "0429c36f",
   "metadata": {},
   "outputs": [],
   "source": []
  }
 ],
 "metadata": {
  "kernelspec": {
   "display_name": "Python 3 (ipykernel)",
   "language": "python",
   "name": "python3"
  },
  "language_info": {
   "codemirror_mode": {
    "name": "ipython",
    "version": 3
   },
   "file_extension": ".py",
   "mimetype": "text/x-python",
   "name": "python",
   "nbconvert_exporter": "python",
   "pygments_lexer": "ipython3",
   "version": "3.9.7"
  }
 },
 "nbformat": 4,
 "nbformat_minor": 5
}
