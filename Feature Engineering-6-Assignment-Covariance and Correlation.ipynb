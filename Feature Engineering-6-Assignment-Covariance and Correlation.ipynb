{
 "cells": [
  {
   "cell_type": "markdown",
   "id": "74193b59",
   "metadata": {},
   "source": [
    "## Feature Engineering-6-Assignment-Covariance and Correlation"
   ]
  },
  {
   "cell_type": "markdown",
   "id": "38d6f974",
   "metadata": {},
   "source": [
    "Q1. Pearson correlation coefficient is a measure of the linear relationship between two variables. Suppose\n",
    "you have collected data on the amount of time students spend studying for an exam and their final exam\n",
    "scores. Calculate the Pearson correlation coefficient between these two variables and interpret the result."
   ]
  },
  {
   "cell_type": "markdown",
   "id": "65487dc3",
   "metadata": {},
   "source": [
    "To calculate the Pearson correlation coefficient between the amount of time students spend studying for an exam and their final exam scores, you can use the following steps:\n",
    "\n",
    "1. **Collect Data:**\n",
    "   - Gather data on the amount of time each student spent studying for the exam.\n",
    "   - Collect corresponding final exam scores for each student.\n",
    "\n",
    "2. **Organize Data:**\n",
    "   - Set up two lists or arrays, one for the study time and another for the exam scores.\n",
    "\n",
    "3. **Use a Statistical Tool or Python:**\n",
    "   - If you have a statistical tool (like Excel) or Python, you can use built-in functions to calculate the correlation coefficient. In Python, you can use the `pearsonr` function from the `scipy.stats` module.\n",
    "\n",
    "4. **Interpret the Result:**\n",
    "   - The Pearson correlation coefficient ranges from -1 to 1.\n",
    "     - A coefficient of 1 indicates a perfect positive linear relationship (as study time increases, exam scores also increase).\n",
    "     - A coefficient of -1 indicates a perfect negative linear relationship (as study time increases, exam scores decrease).\n",
    "     - A coefficient around 0 indicates a weak or no linear relationship.\n",
    "\n",
    "   - Interpret the coefficient in the context of your study. For example:\n",
    "     - If the coefficient is close to 1, it suggests a positive correlation, indicating that more study time is associated with higher exam scores.\n",
    "     - If the coefficient is close to -1, it suggests a negative correlation, indicating that more study time is associated with lower exam scores.\n",
    "     - If the coefficient is close to 0, it suggests a weak or no linear correlation.\n",
    "\n",
    "Remember to replace the example data with your actual study time and exam score data for accurate results."
   ]
  },
  {
   "cell_type": "code",
   "execution_count": 5,
   "id": "b32e0188",
   "metadata": {},
   "outputs": [
    {
     "name": "stdout",
     "output_type": "stream",
     "text": [
      "Pearson Correlation Coefficient: 0.9938837346736187\n"
     ]
    }
   ],
   "source": [
    "from scipy.stats import pearsonr\n",
    "\n",
    "# Example data (replace this with your actual data)\n",
    "study_time = [10, 20, 15, 25, 30]\n",
    "exam_scores = [60, 80, 70, 90, 95]\n",
    "\n",
    "# Calculate Pearson correlation coefficient\n",
    "correlation_coefficient, _ = pearsonr(study_time, exam_scores)\n",
    "\n",
    "# Print the correlation coefficient\n",
    "print(f\"Pearson Correlation Coefficient: {correlation_coefficient}\")\n"
   ]
  },
  {
   "cell_type": "markdown",
   "id": "6e7bc73b",
   "metadata": {},
   "source": [
    "Q2. Spearman's rank correlation is a measure of the monotonic relationship between two variables.\n",
    "Suppose you have collected data on the amount of sleep individuals get each night and their overall job\n",
    "satisfaction level on a scale of 1 to 10. Calculate the Spearman's rank correlation between these two\n",
    "variables and interpret the result."
   ]
  },
  {
   "cell_type": "code",
   "execution_count": 6,
   "id": "8a9f1612",
   "metadata": {},
   "outputs": [
    {
     "name": "stdout",
     "output_type": "stream",
     "text": [
      "Spearman's Rank Correlation Coefficient: 1.0\n"
     ]
    }
   ],
   "source": [
    "from scipy.stats import spearmanr\n",
    "\n",
    "# Example data (replace this with your actual data)\n",
    "sleep_hours = [7, 5, 8, 6, 7]\n",
    "job_satisfaction = [8, 5, 9, 7, 8]\n",
    "\n",
    "# Calculate Spearman's rank correlation coefficient\n",
    "correlation_coefficient, _ = spearmanr(sleep_hours, job_satisfaction)\n",
    "\n",
    "# Print the correlation coefficient\n",
    "print(f\"Spearman's Rank Correlation Coefficient: {correlation_coefficient}\")\n"
   ]
  },
  {
   "cell_type": "markdown",
   "id": "f434e959",
   "metadata": {},
   "source": [
    "Q3. Suppose you are conducting a study to examine the relationship between the number of hours of\n",
    "exercise per week and body mass index (BMI) in a sample of adults. You collected data on both variables\n",
    "for 50 participants. Calculate the Pearson correlation coefficient and the Spearman's rank correlation\n",
    "between these two variables and compare the results."
   ]
  },
  {
   "cell_type": "code",
   "execution_count": 7,
   "id": "64e1c995",
   "metadata": {},
   "outputs": [
    {
     "name": "stdout",
     "output_type": "stream",
     "text": [
      "Pearson Correlation Coefficient: 0.032825066425685986\n",
      "Spearman's Rank Correlation Coefficient: 0.018391356542617046\n"
     ]
    }
   ],
   "source": [
    "from scipy.stats import pearsonr, spearmanr\n",
    "import numpy as np\n",
    "\n",
    "# Example data (replace this with your actual data)\n",
    "hours_of_exercise = np.random.uniform(1, 10, 50)  # Randomly generated data for hours of exercise\n",
    "bmi = np.random.normal(25, 5, 50)  # Randomly generated data for BMI\n",
    "\n",
    "# Calculate Pearson correlation coefficient\n",
    "pearson_corr, _ = pearsonr(hours_of_exercise, bmi)\n",
    "\n",
    "# Calculate Spearman's rank correlation coefficient\n",
    "spearman_corr, _ = spearmanr(hours_of_exercise, bmi)\n",
    "\n",
    "# Print the correlation coefficients\n",
    "print(f\"Pearson Correlation Coefficient: {pearson_corr}\")\n",
    "print(f\"Spearman's Rank Correlation Coefficient: {spearman_corr}\")\n"
   ]
  },
  {
   "cell_type": "markdown",
   "id": "9abdff9c",
   "metadata": {},
   "source": [
    "Q4. A researcher is interested in examining the relationship between the number of hours individuals\n",
    "spend watching television per day and their level of physical activity. The researcher collected data on\n",
    "both variables from a sample of 50 participants. Calculate the Pearson correlation coefficient between\n",
    "these two variables."
   ]
  },
  {
   "cell_type": "code",
   "execution_count": 8,
   "id": "41595c14",
   "metadata": {},
   "outputs": [
    {
     "name": "stdout",
     "output_type": "stream",
     "text": [
      "Pearson Correlation Coefficient: 0.16734445769325637\n"
     ]
    }
   ],
   "source": [
    "from scipy.stats import pearsonr\n",
    "import numpy as np\n",
    "\n",
    "# Example data (replace this with your actual data)\n",
    "hours_of_tv = np.random.uniform(0, 5, 50)  # Randomly generated data for hours of TV watching\n",
    "physical_activity = np.random.normal(60, 10, 50)  # Randomly generated data for physical activity level\n",
    "\n",
    "# Calculate Pearson correlation coefficient\n",
    "pearson_corr, _ = pearsonr(hours_of_tv, physical_activity)\n",
    "\n",
    "# Print the correlation coefficient\n",
    "print(f\"Pearson Correlation Coefficient: {pearson_corr}\")\n"
   ]
  },
  {
   "cell_type": "markdown",
   "id": "82ceae24",
   "metadata": {},
   "source": [
    "Q5. A survey was conducted to examine the relationship between age and preference for a particular\n",
    "brand of soft drink. The survey results are shown below:"
   ]
  },
  {
   "cell_type": "markdown",
   "id": "c6d932dd",
   "metadata": {},
   "source": [
    "| Age(Years) | Drink       |\n",
    "|------------|-------------|\n",
    "| 25         | Coke        |\n",
    "| 42         | Pepsi       |\n",
    "| 37         | Mountain Dew            |\n",
    "| 19         |  Coke            |\n",
    "| 31         |  Pepsi           |\n",
    "| 28         | Coke\n",
    "|            |        |\n",
    "|            |        |\n",
    "|            |         |\n"
   ]
  },
  {
   "cell_type": "code",
   "execution_count": 9,
   "id": "8d9dbc20",
   "metadata": {},
   "outputs": [
    {
     "name": "stderr",
     "output_type": "stream",
     "text": [
      "C:\\Users\\inare\\Anaconda3\\lib\\site-packages\\pandas\\core\\computation\\expressions.py:21: UserWarning: Pandas requires version '2.8.0' or newer of 'numexpr' (version '2.7.3' currently installed).\n",
      "  from pandas.core.computation.check import NUMEXPR_INSTALLED\n",
      "C:\\Users\\inare\\Anaconda3\\lib\\site-packages\\pandas\\core\\arrays\\masked.py:62: UserWarning: Pandas requires version '1.3.4' or newer of 'bottleneck' (version '1.3.2' currently installed).\n",
      "  from pandas.core import (\n"
     ]
    },
    {
     "name": "stdout",
     "output_type": "stream",
     "text": [
      "Drink  Coke  Mountain Dew  Pepsi\n",
      "Age                             \n",
      "19        1             0      0\n",
      "25        1             0      0\n",
      "28        1             0      0\n",
      "31        0             0      1\n",
      "37        0             1      0\n",
      "42        0             0      1\n"
     ]
    }
   ],
   "source": [
    "import pandas as pd\n",
    "\n",
    "# Example data\n",
    "data = {'Age': [25, 42, 37, 19, 31, 28],\n",
    "        'Drink': ['Coke', 'Pepsi', 'Mountain Dew', 'Coke', 'Pepsi', 'Coke']}\n",
    "\n",
    "# Create a DataFrame\n",
    "df = pd.DataFrame(data)\n",
    "\n",
    "# Create a cross-tabulation\n",
    "cross_tab = pd.crosstab(df['Age'], df['Drink'])\n",
    "\n",
    "# Display the cross-tabulation\n",
    "print(cross_tab)\n"
   ]
  },
  {
   "cell_type": "markdown",
   "id": "4ba220b3",
   "metadata": {},
   "source": [
    "Q6. A company is interested in examining the relationship between the number of sales calls made per day\n",
    "and the number of sales made per week. The company collected data on both variables from a sample of\n",
    "30 sales representatives. Calculate the Pearson correlation coefficient between these two variables."
   ]
  },
  {
   "cell_type": "code",
   "execution_count": 10,
   "id": "50a294af",
   "metadata": {},
   "outputs": [
    {
     "name": "stdout",
     "output_type": "stream",
     "text": [
      "Pearson Correlation Coefficient: 0.9804138391244757\n"
     ]
    }
   ],
   "source": [
    "import numpy as np\n",
    "import pandas as pd\n",
    "\n",
    "# Example data\n",
    "data = {'Sales_Calls_Per_Day': [20, 25, 30, 18, 22, 28, 15, 24, 29, 17, 21, 26, 19, 23, 27, 16, 20, 25, 18, 22, 27, 14, 23, 28, 16, 19, 24, 17, 21, 26],\n",
    "        'Sales_Per_Week': [100, 120, 150, 90, 110, 140, 80, 130, 160, 85, 105, 135, 95, 115, 145, 75, 100, 125, 88, 108, 138, 70, 110, 130, 72, 92, 122, 80, 105, 130]}\n",
    "\n",
    "# Create a DataFrame\n",
    "df = pd.DataFrame(data)\n",
    "\n",
    "# Calculate the Pearson correlation coefficient\n",
    "pearson_corr = df['Sales_Calls_Per_Day'].corr(df['Sales_Per_Week'])\n",
    "\n",
    "# Display the result\n",
    "print(f\"Pearson Correlation Coefficient: {pearson_corr}\")\n"
   ]
  },
  {
   "cell_type": "code",
   "execution_count": null,
   "id": "8d4eb101",
   "metadata": {},
   "outputs": [],
   "source": []
  }
 ],
 "metadata": {
  "kernelspec": {
   "display_name": "Python 3 (ipykernel)",
   "language": "python",
   "name": "python3"
  },
  "language_info": {
   "codemirror_mode": {
    "name": "ipython",
    "version": 3
   },
   "file_extension": ".py",
   "mimetype": "text/x-python",
   "name": "python",
   "nbconvert_exporter": "python",
   "pygments_lexer": "ipython3",
   "version": "3.9.7"
  }
 },
 "nbformat": 4,
 "nbformat_minor": 5
}
