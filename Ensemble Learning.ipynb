{
 "cells": [
  {
   "cell_type": "markdown",
   "id": "7a21ec7b",
   "metadata": {},
   "source": [
    "## Introduction to Ensemble Techniques:\n",
    "\n",
    "Ensemble techniques are machine learning methods that aim to improve predictive performance by combining the outputs of multiple base models. These methods leverage the concept of \"wisdom of the crowd,\" where the collective wisdom of several models often surpasses the capabilities of any individual model. By aggregating diverse opinions or predictions, ensemble methods mitigate the shortcomings of individual models and yield more accurate and robust results.\n",
    "\n",
    "## Types of Ensemble Techniques:\n",
    "\n",
    "### 1. Bagging (Bootstrap Aggregating):\n",
    "\n",
    "Bagging is a widely used ensemble method that involves creating multiple bootstrap samples from the original dataset. Each bootstrap sample is obtained by randomly selecting data points with replacement. Base models, typically decision trees, are then trained independently on these bootstrap samples. Predictions from individual models are combined using averaging (for regression) or voting (for classification) to produce the final prediction.\n",
    "\n",
    "Bagging helps reduce variance and overfitting by training models on different subsets of data and then combining their predictions. A classic example of bagging is the Random Forest algorithm, which is an ensemble of decision trees trained using the bagging method.\n",
    "\n",
    "### 2. Boosting:\n",
    "\n",
    "Boosting is another ensemble method that builds models sequentially, with each subsequent model focusing on correcting the errors of its predecessor. Boosting algorithms assign higher weights to misclassified instances, forcing subsequent models to pay more attention to those instances. As a result, boosting algorithms often perform well in situations where weak learners are combined to create a strong learner.\n",
    "\n",
    "Popular boosting algorithms include AdaBoost (Adaptive Boosting), Gradient Boosting, and XGBoost (Extreme Gradient Boosting). AdaBoost assigns higher weights to misclassified instances, while Gradient Boosting builds models in a stage-wise manner to minimize the loss function with respect to the residuals of the previous model. XGBoost is an optimized implementation of gradient boosting known for its scalability and performance.\n",
    "\n",
    "### 3. Stacking (Stacked Generalization):\n",
    "\n",
    "Stacking is a more advanced ensemble technique that combines predictions from multiple base models by training a meta-model on their outputs. Unlike simple averaging or voting, stacking learns to combine the predictions of base models in an optimal way. Base models are trained independently on the dataset, and their predictions are used as input features for the meta-model. The meta-model learns to weigh the predictions of base models based on their performance on a validation set.\n",
    "\n",
    "Stacking can capture complex interactions between base models and often leads to improved performance compared to individual models or simple ensembles.\n",
    "\n",
    "### 4. Voting:\n",
    "\n",
    "Voting is a straightforward ensemble technique that combines predictions from multiple base models by taking a majority vote (for classification) or averaging (for regression). It is a simple yet effective way to aggregate predictions from diverse models. There are two main types of voting ensembles: hard voting and soft voting. In hard voting, the final prediction is determined by a simple majority, while in soft voting, predictions are weighted based on their confidence scores or probabilities.\n",
    "\n",
    "## Advantages of Ensemble Techniques:\n",
    "\n",
    "Ensemble techniques offer several advantages over individual models:\n",
    "\n",
    "### 1. Improved Predictive Performance:\n",
    "\n",
    "Ensemble methods often outperform individual models by reducing bias and variance. By combining diverse models, ensemble methods can capture different aspects of the underlying data distribution, leading to more accurate predictions.\n",
    "\n",
    "### 2. Robustness:\n",
    "\n",
    "Ensembles are more robust to noisy data and outliers compared to individual models. Since ensembles rely on the collective wisdom of multiple models, they are less susceptible to errors or biases present in any single model.\n",
    "\n",
    "### 3. Generalization:\n",
    "\n",
    "Ensembles generalize well to unseen data, reducing the risk of overfitting. By combining predictions from multiple models, ensembles can better capture the underlying patterns in the data and make more robust predictions on new data.\n",
    "\n",
    "### 4. Flexibility:\n",
    "\n",
    "Ensemble methods are flexible and adaptable to different types of data and tasks. They can combine various types of base models, including decision trees, neural networks, and support vector machines, to address different challenges in machine learning.\n",
    "\n",
    "## Specific Ensemble Algorithms:\n",
    "\n",
    "### 1. Random Forest:\n",
    "\n",
    "Random Forest is a popular ensemble algorithm that combines the concepts of bagging and decision trees. It consists of a large number of decision trees, each trained on a random subset of the dataset and a random subset of features. During prediction, individual tree predictions are aggregated through averaging (for regression) or voting (for classification).\n",
    "\n",
    "Random Forest is known for its robustness, scalability, and ability to handle high-dimensional data. It is widely used in various applications, including classification, regression, and anomaly detection.\n",
    "\n",
    "### 2. AdaBoost (Adaptive Boosting):\n",
    "\n",
    "AdaBoost is a boosting algorithm that sequentially trains a series of weak learners (e.g., decision stumps) on different subsets of the data. Each subsequent model focuses more on instances that were misclassified by the previous models. Predictions from individual models are combined through weighted averaging, with weights assigned based on the\n",
    "\n",
    " performance of each model.\n",
    "\n",
    "AdaBoost is particularly effective in binary classification tasks and is known for its simplicity and interpretability. However, it is sensitive to noisy data and outliers.\n",
    "\n",
    "### 3. Gradient Boosting:\n",
    "\n",
    "Gradient Boosting is a powerful boosting algorithm that builds models in a stage-wise manner to minimize a loss function. It sequentially trains a series of weak learners, with each subsequent model focusing on reducing the errors (residuals) of the previous models. Gradient Boosting iteratively fits new models to the negative gradients of the loss function with respect to the ensemble's predictions.\n",
    "\n",
    "Gradient Boosting is known for its high predictive accuracy and robustness to overfitting. It is widely used in various applications, including regression, classification, and ranking.\n",
    "\n",
    "### 4. XGBoost (Extreme Gradient Boosting):\n",
    "\n",
    "XGBoost is an optimized implementation of gradient boosting known for its scalability and performance. It introduces several enhancements to traditional gradient boosting, including parallelization, tree pruning, and regularization techniques. XGBoost is highly efficient and can handle large datasets with millions of instances and features.\n",
    "\n",
    "XGBoost is widely used in machine learning competitions and real-world applications due to its speed, accuracy, and scalability. It has become a go-to algorithm for many data scientists and machine learning practitioners.\n",
    "\n",
    "## Conclusion:\n",
    "\n",
    "Ensemble techniques are powerful tools in machine learning that leverage the collective intelligence of multiple models to improve predictive performance. By combining the strengths of individual models, ensembles can overcome their weaknesses and provide more accurate and robust predictions. Understanding different types of ensemble methods and specific algorithms like bagging, boosting, Random Forest, and stacking is essential for practitioners to effectively leverage ensemble techniques in various machine learning tasks. With their versatility, robustness, and ability to handle complex data, ensemble techniques continue to be at the forefront of machine learning research and applications."
   ]
  },
  {
   "cell_type": "markdown",
   "id": "3c810999",
   "metadata": {},
   "source": [
    "| Ensemble Technique | Method Type       | Key Features                                          | Advantages                                       | Applications                                   |\n",
    "|--------------------|-------------------|-------------------------------------------------------|--------------------------------------------------|------------------------------------------------|\n",
    "| Bagging            | Aggregation       | Bootstrap sampling, independent base models           | Reduces overfitting, improves stability         | Classification, regression                    |\n",
    "| Boosting           | Sequential        | Sequential training, focus on correcting errors       | High predictive accuracy, adapts to complex data| Classification, regression                    |\n",
    "| Stacking           | Meta-model        | Combination of base model predictions                | Captures complex interactions, improved performance| Classification, regression                    |\n",
    "| Voting             | Aggregation       | Majority voting, averaging predictions               | Simple and easy to implement                    | Classification, regression                    |\n",
    "| Random Forest      | Bagging           | Ensemble of decision trees with random feature selection | Robust, handles high-dimensional data           | Classification, regression, anomaly detection |\n",
    "| AdaBoost           | Boosting          | Sequential training, adaptive weight assignment      | Simple, interpretable, effective                | Classification, regression                    |\n",
    "| Gradient Boosting  | Boosting          | Stage-wise model building, minimizes loss function   | High predictive accuracy, robust to overfitting | Classification, regression, ranking            |\n",
    "| XGBoost            | Boosting          | Optimized implementation, parallelization            | Scalable, high performance                      | Classification, regression, ranking            |\n",
    "\n",
    "\n",
    "\n",
    "#### In this table:   \n",
    "\n",
    "Ensemble Technique: Names of different ensemble methods.   \n",
    "Method Type: Categorization based on the method used for combining models (e.g., aggregation, sequential, meta-model).  \n",
    "Key Features: Unique characteristics or techniques employed by each ensemble method.  \n",
    "Advantages: Benefits or advantages associated with each ensemble technique.  \n",
    "Applications: Typical applications or use cases where each ensemble technique is commonly employed.  "
   ]
  },
  {
   "cell_type": "markdown",
   "id": "3f4abe03",
   "metadata": {},
   "source": [
    "## Step 1: Import Libraries\n"
   ]
  },
  {
   "cell_type": "code",
   "execution_count": 1,
   "id": "1ab45919",
   "metadata": {},
   "outputs": [
    {
     "name": "stderr",
     "output_type": "stream",
     "text": [
      "C:\\Users\\inare\\Anaconda3\\lib\\site-packages\\pandas\\core\\computation\\expressions.py:21: UserWarning: Pandas requires version '2.8.0' or newer of 'numexpr' (version '2.7.3' currently installed).\n",
      "  from pandas.core.computation.check import NUMEXPR_INSTALLED\n",
      "C:\\Users\\inare\\Anaconda3\\lib\\site-packages\\pandas\\core\\arrays\\masked.py:62: UserWarning: Pandas requires version '1.3.4' or newer of 'bottleneck' (version '1.3.2' currently installed).\n",
      "  from pandas.core import (\n"
     ]
    }
   ],
   "source": [
    "import numpy as np\n",
    "import pandas as pd\n",
    "import matplotlib.pyplot as plt\n",
    "import seaborn as sns\n",
    "from sklearn.model_selection import train_test_split\n",
    "from sklearn.ensemble import RandomForestClassifier\n",
    "from sklearn.metrics import classification_report, accuracy_score\n",
    "from sklearn.impute import SimpleImputer\n",
    "from sklearn.preprocessing import OneHotEncoder, LabelEncoder\n",
    "from imblearn.over_sampling import RandomOverSampler\n",
    "from sklearn.feature_selection import SelectFromModel\n"
   ]
  },
  {
   "cell_type": "markdown",
   "id": "bd078da8",
   "metadata": {},
   "source": [
    "## Step 2: Generate Dummy Data\n"
   ]
  },
  {
   "cell_type": "code",
   "execution_count": 2,
   "id": "512abae5",
   "metadata": {},
   "outputs": [],
   "source": [
    "# Generate random data with 5000 rows and 8 features\n",
    "np.random.seed(42)\n",
    "data = pd.DataFrame(np.random.rand(5000, 8), columns=['feature_'+str(i) for i in range(1, 9)])\n",
    "\n",
    "# Introduce missing values randomly\n",
    "missing_indices = np.random.choice(data.index, size=500, replace=False)\n",
    "data.loc[missing_indices, 'feature_1'] = np.nan\n",
    "data.loc[missing_indices, 'feature_3'] = np.nan\n",
    "\n",
    "# Introduce categorical data\n",
    "data['category'] = np.random.choice(['A', 'B', 'C'], size=5000)\n",
    "\n",
    "# Introduce irrelevant features\n",
    "data['irrelevant_1'] = np.random.rand(5000)\n",
    "data['irrelevant_2'] = np.random.rand(5000)\n"
   ]
  },
  {
   "cell_type": "code",
   "execution_count": 4,
   "id": "7baf51ab",
   "metadata": {},
   "outputs": [
    {
     "data": {
      "text/html": [
       "<div>\n",
       "<style scoped>\n",
       "    .dataframe tbody tr th:only-of-type {\n",
       "        vertical-align: middle;\n",
       "    }\n",
       "\n",
       "    .dataframe tbody tr th {\n",
       "        vertical-align: top;\n",
       "    }\n",
       "\n",
       "    .dataframe thead th {\n",
       "        text-align: right;\n",
       "    }\n",
       "</style>\n",
       "<table border=\"1\" class=\"dataframe\">\n",
       "  <thead>\n",
       "    <tr style=\"text-align: right;\">\n",
       "      <th></th>\n",
       "      <th>feature_1</th>\n",
       "      <th>feature_2</th>\n",
       "      <th>feature_3</th>\n",
       "      <th>feature_4</th>\n",
       "      <th>feature_5</th>\n",
       "      <th>feature_6</th>\n",
       "      <th>feature_7</th>\n",
       "      <th>feature_8</th>\n",
       "      <th>irrelevant_1</th>\n",
       "      <th>irrelevant_2</th>\n",
       "    </tr>\n",
       "  </thead>\n",
       "  <tbody>\n",
       "    <tr>\n",
       "      <th>count</th>\n",
       "      <td>4500.000000</td>\n",
       "      <td>5000.000000</td>\n",
       "      <td>4500.000000</td>\n",
       "      <td>5000.000000</td>\n",
       "      <td>5000.000000</td>\n",
       "      <td>5000.000000</td>\n",
       "      <td>5000.000000</td>\n",
       "      <td>5000.000000</td>\n",
       "      <td>5000.000000</td>\n",
       "      <td>5000.000000</td>\n",
       "    </tr>\n",
       "    <tr>\n",
       "      <th>mean</th>\n",
       "      <td>0.501595</td>\n",
       "      <td>0.492862</td>\n",
       "      <td>0.497453</td>\n",
       "      <td>0.503394</td>\n",
       "      <td>0.497566</td>\n",
       "      <td>0.500082</td>\n",
       "      <td>0.502724</td>\n",
       "      <td>0.499774</td>\n",
       "      <td>0.499682</td>\n",
       "      <td>0.503097</td>\n",
       "    </tr>\n",
       "    <tr>\n",
       "      <th>std</th>\n",
       "      <td>0.284302</td>\n",
       "      <td>0.290038</td>\n",
       "      <td>0.286321</td>\n",
       "      <td>0.288367</td>\n",
       "      <td>0.287813</td>\n",
       "      <td>0.289195</td>\n",
       "      <td>0.288260</td>\n",
       "      <td>0.291296</td>\n",
       "      <td>0.289301</td>\n",
       "      <td>0.287994</td>\n",
       "    </tr>\n",
       "    <tr>\n",
       "      <th>min</th>\n",
       "      <td>0.000110</td>\n",
       "      <td>0.000048</td>\n",
       "      <td>0.000310</td>\n",
       "      <td>0.000053</td>\n",
       "      <td>0.000135</td>\n",
       "      <td>0.000195</td>\n",
       "      <td>0.000006</td>\n",
       "      <td>0.000031</td>\n",
       "      <td>0.000105</td>\n",
       "      <td>0.000008</td>\n",
       "    </tr>\n",
       "    <tr>\n",
       "      <th>25%</th>\n",
       "      <td>0.258990</td>\n",
       "      <td>0.237528</td>\n",
       "      <td>0.252140</td>\n",
       "      <td>0.258138</td>\n",
       "      <td>0.247526</td>\n",
       "      <td>0.250692</td>\n",
       "      <td>0.252691</td>\n",
       "      <td>0.244374</td>\n",
       "      <td>0.246829</td>\n",
       "      <td>0.258043</td>\n",
       "    </tr>\n",
       "    <tr>\n",
       "      <th>50%</th>\n",
       "      <td>0.507980</td>\n",
       "      <td>0.490416</td>\n",
       "      <td>0.495786</td>\n",
       "      <td>0.500781</td>\n",
       "      <td>0.495818</td>\n",
       "      <td>0.501786</td>\n",
       "      <td>0.504194</td>\n",
       "      <td>0.504017</td>\n",
       "      <td>0.501951</td>\n",
       "      <td>0.508109</td>\n",
       "    </tr>\n",
       "    <tr>\n",
       "      <th>75%</th>\n",
       "      <td>0.735510</td>\n",
       "      <td>0.741440</td>\n",
       "      <td>0.743806</td>\n",
       "      <td>0.752098</td>\n",
       "      <td>0.746784</td>\n",
       "      <td>0.751967</td>\n",
       "      <td>0.751266</td>\n",
       "      <td>0.752889</td>\n",
       "      <td>0.748149</td>\n",
       "      <td>0.753840</td>\n",
       "    </tr>\n",
       "    <tr>\n",
       "      <th>max</th>\n",
       "      <td>0.999871</td>\n",
       "      <td>0.999732</td>\n",
       "      <td>0.999925</td>\n",
       "      <td>0.999901</td>\n",
       "      <td>0.999696</td>\n",
       "      <td>0.999789</td>\n",
       "      <td>0.999411</td>\n",
       "      <td>0.999505</td>\n",
       "      <td>0.999841</td>\n",
       "      <td>0.999769</td>\n",
       "    </tr>\n",
       "  </tbody>\n",
       "</table>\n",
       "</div>"
      ],
      "text/plain": [
       "         feature_1    feature_2    feature_3    feature_4    feature_5  \\\n",
       "count  4500.000000  5000.000000  4500.000000  5000.000000  5000.000000   \n",
       "mean      0.501595     0.492862     0.497453     0.503394     0.497566   \n",
       "std       0.284302     0.290038     0.286321     0.288367     0.287813   \n",
       "min       0.000110     0.000048     0.000310     0.000053     0.000135   \n",
       "25%       0.258990     0.237528     0.252140     0.258138     0.247526   \n",
       "50%       0.507980     0.490416     0.495786     0.500781     0.495818   \n",
       "75%       0.735510     0.741440     0.743806     0.752098     0.746784   \n",
       "max       0.999871     0.999732     0.999925     0.999901     0.999696   \n",
       "\n",
       "         feature_6    feature_7    feature_8  irrelevant_1  irrelevant_2  \n",
       "count  5000.000000  5000.000000  5000.000000   5000.000000   5000.000000  \n",
       "mean      0.500082     0.502724     0.499774      0.499682      0.503097  \n",
       "std       0.289195     0.288260     0.291296      0.289301      0.287994  \n",
       "min       0.000195     0.000006     0.000031      0.000105      0.000008  \n",
       "25%       0.250692     0.252691     0.244374      0.246829      0.258043  \n",
       "50%       0.501786     0.504194     0.504017      0.501951      0.508109  \n",
       "75%       0.751967     0.751266     0.752889      0.748149      0.753840  \n",
       "max       0.999789     0.999411     0.999505      0.999841      0.999769  "
      ]
     },
     "execution_count": 4,
     "metadata": {},
     "output_type": "execute_result"
    }
   ],
   "source": [
    "data.describe()"
   ]
  },
  {
   "cell_type": "code",
   "execution_count": 6,
   "id": "b1a5c32f",
   "metadata": {},
   "outputs": [
    {
     "name": "stdout",
     "output_type": "stream",
     "text": [
      "         feature_1    feature_2    feature_3    feature_4    feature_5  \\\n",
      "count  4500.000000  5000.000000  4500.000000  5000.000000  5000.000000   \n",
      "mean      0.501595     0.492862     0.497453     0.503394     0.497566   \n",
      "std       0.284302     0.290038     0.286321     0.288367     0.287813   \n",
      "min       0.000110     0.000048     0.000310     0.000053     0.000135   \n",
      "25%       0.258990     0.237528     0.252140     0.258138     0.247526   \n",
      "50%       0.507980     0.490416     0.495786     0.500781     0.495818   \n",
      "75%       0.735510     0.741440     0.743806     0.752098     0.746784   \n",
      "max       0.999871     0.999732     0.999925     0.999901     0.999696   \n",
      "\n",
      "         feature_6    feature_7    feature_8  irrelevant_1  irrelevant_2  \n",
      "count  5000.000000  5000.000000  5000.000000   5000.000000   5000.000000  \n",
      "mean      0.500082     0.502724     0.499774      0.499682      0.503097  \n",
      "std       0.289195     0.288260     0.291296      0.289301      0.287994  \n",
      "min       0.000195     0.000006     0.000031      0.000105      0.000008  \n",
      "25%       0.250692     0.252691     0.244374      0.246829      0.258043  \n",
      "50%       0.501786     0.504194     0.504017      0.501951      0.508109  \n",
      "75%       0.751967     0.751266     0.752889      0.748149      0.753840  \n",
      "max       0.999789     0.999411     0.999505      0.999841      0.999769  \n"
     ]
    },
    {
     "data": {
      "image/png": "[encoded data removed]",
      "text/plain": [
       "<Figure size 432x288 with 1 Axes>"
      ]
     },
     "metadata": {
      "needs_background": "light"
     },
     "output_type": "display_data"
    },
    {
     "data": {
      "image/png": "[encoded data removed]",
      "text/plain": [
       "<Figure size 720x576 with 2 Axes>"
      ]
     },
     "metadata": {
      "needs_background": "light"
     },
     "output_type": "display_data"
    }
   ],
   "source": [
    "# Summary statistics\n",
    "print(data.describe())\n",
    "\n",
    "# Distribution of target variable\n",
    "sns.countplot(data['category'])\n",
    "plt.title('Distribution of Categories')\n",
    "plt.show()\n",
    "\n",
    "# Correlation heatmap (excluding non-numeric columns)\n",
    "plt.figure(figsize=(10, 8))\n",
    "numeric_data = data.select_dtypes(include=['float64', 'int64'])\n",
    "sns.heatmap(numeric_data.corr(), annot=True, cmap='coolwarm')\n",
    "plt.title('Correlation Heatmap')\n",
    "plt.show()\n",
    "\n"
   ]
  },
  {
   "cell_type": "markdown",
   "id": "78aa5b42",
   "metadata": {},
   "source": [
    "## Step 4: Handling Missing Values"
   ]
  },
  {
   "cell_type": "code",
   "execution_count": 10,
   "id": "5b5e85a3",
   "metadata": {},
   "outputs": [
    {
     "name": "stdout",
     "output_type": "stream",
     "text": [
      "feature_1       0\n",
      "feature_2       0\n",
      "feature_3       0\n",
      "feature_4       0\n",
      "feature_5       0\n",
      "feature_6       0\n",
      "feature_7       0\n",
      "feature_8       0\n",
      "irrelevant_1    0\n",
      "irrelevant_2    0\n",
      "category        0\n",
      "dtype: int64\n"
     ]
    }
   ],
   "source": [
    "# Identify numeric and non-numeric columns\n",
    "numeric_cols = data.select_dtypes(include=['float64', 'int64']).columns\n",
    "categorical_cols = data.select_dtypes(include=['object']).columns\n",
    "\n",
    "# Impute missing values for numeric columns using mean strategy\n",
    "imputer = SimpleImputer(strategy='mean')\n",
    "data_imputed_numeric = pd.DataFrame(imputer.fit_transform(data[numeric_cols]), columns=numeric_cols)\n",
    "\n",
    "# Concatenate imputed numeric columns with non-numeric columns\n",
    "data_imputed = pd.concat([data_imputed_numeric, data[categorical_cols]], axis=1)\n",
    "\n",
    "# Check for missing values after imputation\n",
    "print(data_imputed.isnull().sum())\n"
   ]
  },
  {
   "cell_type": "markdown",
   "id": "e881d507",
   "metadata": {},
   "source": [
    "## Step 5: Handling Imbalanced Dataset\n"
   ]
  },
  {
   "cell_type": "code",
   "execution_count": 11,
   "id": "6b04b626",
   "metadata": {},
   "outputs": [
    {
     "name": "stdout",
     "output_type": "stream",
     "text": [
      "category\n",
      "C    1701\n",
      "B    1701\n",
      "A    1701\n",
      "Name: count, dtype: int64\n"
     ]
    }
   ],
   "source": [
    "# Handle imbalanced dataset using RandomOverSampler\n",
    "ros = RandomOverSampler(random_state=42)\n",
    "X_resampled, y_resampled = ros.fit_resample(data_imputed.drop('category', axis=1), data_imputed['category'])\n",
    "\n",
    "# Check class distribution after oversampling\n",
    "print(pd.Series(y_resampled).value_counts())\n"
   ]
  },
  {
   "cell_type": "markdown",
   "id": "cd1a1d6b",
   "metadata": {},
   "source": [
    "## Step 6: Encoding Categorical Features\n"
   ]
  },
  {
   "cell_type": "code",
   "execution_count": 14,
   "id": "b3aae1c2",
   "metadata": {},
   "outputs": [
    {
     "name": "stderr",
     "output_type": "stream",
     "text": [
      "C:\\Users\\inare\\Anaconda3\\lib\\site-packages\\sklearn\\preprocessing\\_encoders.py:975: FutureWarning: `sparse` was renamed to `sparse_output` in version 1.2 and will be removed in 1.4. `sparse_output` is ignored unless you leave `sparse` to its default value.\n",
      "  warnings.warn(\n"
     ]
    }
   ],
   "source": [
    "# One-hot encoding of categorical feature\n",
    "encoder = OneHotEncoder(sparse=False)\n",
    "category_encoded = encoder.fit_transform(data_imputed[['category']])\n",
    "category_encoded_df = pd.DataFrame(category_encoded, columns=encoder.get_feature_names_out(['category']))\n",
    "\n",
    "# Concatenate encoded features with the dataset\n",
    "data_encoded = pd.concat([data_imputed.drop('category', axis=1), category_encoded_df], axis=1)\n"
   ]
  },
  {
   "cell_type": "markdown",
   "id": "4348ba07",
   "metadata": {},
   "source": [
    "## Step 7: Feature Selection\n"
   ]
  },
  {
   "cell_type": "code",
   "execution_count": 15,
   "id": "bb17d3b2",
   "metadata": {},
   "outputs": [],
   "source": [
    "# Train Random Forest model for feature selection\n",
    "X_train, X_test, y_train, y_test = train_test_split(X_resampled, y_resampled, test_size=0.2, random_state=42)\n",
    "clf = RandomForestClassifier(n_estimators=100, random_state=42)\n",
    "clf.fit(X_train, y_train)\n",
    "\n",
    "# Feature importance\n",
    "feature_importances = pd.DataFrame(clf.feature_importances_, index=data_encoded.columns[:-3], columns=['importance'])\n",
    "selected_features = feature_importances[feature_importances['importance'] > 0.01].index\n",
    "\n",
    "# Subset the dataset with selected features\n",
    "data_selected = data_encoded[selected_features]\n"
   ]
  },
  {
   "cell_type": "markdown",
   "id": "80f0e903",
   "metadata": {},
   "source": [
    "## Step 8: Training Random Forest Classifier\n"
   ]
  },
  {
   "cell_type": "code",
   "execution_count": 18,
   "id": "cba3d6a8",
   "metadata": {},
   "outputs": [],
   "source": [
    "# Handle imbalanced dataset using RandomOverSampler before splitting the data\n",
    "ros = RandomOverSampler(random_state=42)\n",
    "X_resampled, y_resampled = ros.fit_resample(data_imputed.drop('category', axis=1), data_imputed['category'])\n",
    "\n",
    "# Split the resampled data into training and testing sets\n",
    "X_train, X_test, y_train, y_test = train_test_split(X_resampled, y_resampled, test_size=0.2, random_state=42)\n"
   ]
  },
  {
   "cell_type": "code",
   "execution_count": 20,
   "id": "05099061",
   "metadata": {},
   "outputs": [
    {
     "name": "stdout",
     "output_type": "stream",
     "text": [
      "Best Parameters: {'max_depth': 20, 'min_samples_leaf': 4, 'min_samples_split': 10, 'n_estimators': 150}\n",
      "Best Score: 0.35448406412748695\n",
      "              precision    recall  f1-score   support\n",
      "\n",
      "           A       0.35      0.33      0.34       365\n",
      "           B       0.36      0.36      0.36       338\n",
      "           C       0.38      0.41      0.39       318\n",
      "\n",
      "    accuracy                           0.36      1021\n",
      "   macro avg       0.36      0.37      0.36      1021\n",
      "weighted avg       0.36      0.36      0.36      1021\n",
      "\n",
      "Accuracy: 0.3633692458374143\n"
     ]
    }
   ],
   "source": [
    "from sklearn.model_selection import GridSearchCV\n",
    "\n",
    "# Define the parameter grid for Grid Search\n",
    "param_grid = {\n",
    "    'n_estimators': [50, 100, 150],\n",
    "    'max_depth': [None, 10, 20],\n",
    "    'min_samples_split': [2, 5, 10],\n",
    "    'min_samples_leaf': [1, 2, 4]\n",
    "}\n",
    "\n",
    "# Initialize the Random Forest classifier\n",
    "rf_classifier = RandomForestClassifier(random_state=42)\n",
    "\n",
    "# Perform Grid Search\n",
    "grid_search = GridSearchCV(estimator=rf_classifier, param_grid=param_grid, cv=5, scoring='accuracy')\n",
    "grid_search.fit(X_train, y_train)\n",
    "\n",
    "# Get the best parameters and best score\n",
    "best_params = grid_search.best_params_\n",
    "best_score = grid_search.best_score_\n",
    "print(\"Best Parameters:\", best_params)\n",
    "print(\"Best Score:\", best_score)\n",
    "\n",
    "# Train Random Forest classifier with best parameters\n",
    "best_rf_classifier = RandomForestClassifier(random_state=42, **best_params)\n",
    "best_rf_classifier.fit(X_train, y_train)\n",
    "\n",
    "# Predictions\n",
    "y_pred_test = best_rf_classifier.predict(X_test)\n",
    "\n",
    "# Evaluation\n",
    "print(classification_report(y_test, y_pred_test))\n",
    "print(\"Accuracy:\", accuracy_score(y_test, y_pred_test))\n"
   ]
  },
  {
   "cell_type": "code",
   "execution_count": 21,
   "id": "b31aee2a",
   "metadata": {},
   "outputs": [],
   "source": [
    "from sklearn.datasets import load_iris\n",
    "from sklearn.model_selection import train_test_split, GridSearchCV\n",
    "from sklearn.tree import DecisionTreeClassifier\n",
    "from sklearn.naive_bayes import GaussianNB\n",
    "from sklearn.linear_model import LogisticRegression\n",
    "from sklearn.ensemble import RandomForestClassifier, VotingClassifier\n",
    "from sklearn.metrics import classification_report, accuracy_score\n",
    "\n",
    "# Load dataset\n",
    "data = load_iris()\n",
    "X, y = data.data, data.target\n",
    "\n",
    "# Split dataset into train and test sets\n",
    "X_train, X_test, y_train, y_test = train_test_split(X, y, test_size=0.2, random_state=42)\n"
   ]
  },
  {
   "cell_type": "code",
   "execution_count": 22,
   "id": "dd71db9b",
   "metadata": {},
   "outputs": [],
   "source": [
    "# Initialize classifiers\n",
    "dt_classifier = DecisionTreeClassifier(random_state=42)\n",
    "nb_classifier = GaussianNB()\n",
    "lr_classifier = LogisticRegression(max_iter=1000, random_state=42)\n",
    "rf_classifier = RandomForestClassifier(random_state=42)\n"
   ]
  },
  {
   "cell_type": "code",
   "execution_count": 23,
   "id": "2be01636",
   "metadata": {},
   "outputs": [],
   "source": [
    "# Define parameter grids for Grid Search\n",
    "dt_param_grid = {'max_depth': [3, 5, 7, None]}\n",
    "lr_param_grid = {'C': [0.1, 1, 10]}\n",
    "rf_param_grid = {'n_estimators': [50, 100, 150], 'max_depth': [None, 10, 20]}\n",
    "\n",
    "# Perform Grid Search for each classifier\n",
    "dt_grid_search = GridSearchCV(estimator=dt_classifier, param_grid=dt_param_grid, cv=5, scoring='accuracy')\n",
    "dt_grid_search.fit(X_train, y_train)\n",
    "\n",
    "lr_grid_search = GridSearchCV(estimator=lr_classifier, param_grid=lr_param_grid, cv=5, scoring='accuracy')\n",
    "lr_grid_search.fit(X_train, y_train)\n",
    "\n",
    "rf_grid_search = GridSearchCV(estimator=rf_classifier, param_grid=rf_param_grid, cv=5, scoring='accuracy')\n",
    "rf_grid_search.fit(X_train, y_train)\n",
    "\n",
    "# Get best parameters for each classifier\n",
    "dt_best_params = dt_grid_search.best_params_\n",
    "lr_best_params = lr_grid_search.best_params_\n",
    "rf_best_params = rf_grid_search.best_params_\n",
    "\n",
    "# Initialize classifiers with best parameters\n",
    "dt_classifier = DecisionTreeClassifier(random_state=42, **dt_best_params)\n",
    "lr_classifier = LogisticRegression(max_iter=1000, random_state=42, **lr_best_params)\n",
    "rf_classifier = RandomForestClassifier(random_state=42, **rf_best_params)\n"
   ]
  },
  {
   "cell_type": "code",
   "execution_count": 24,
   "id": "e4014868",
   "metadata": {},
   "outputs": [
    {
     "name": "stdout",
     "output_type": "stream",
     "text": [
      "Voting Classifier:\n",
      "              precision    recall  f1-score   support\n",
      "\n",
      "           0       1.00      1.00      1.00        10\n",
      "           1       1.00      1.00      1.00         9\n",
      "           2       1.00      1.00      1.00        11\n",
      "\n",
      "    accuracy                           1.00        30\n",
      "   macro avg       1.00      1.00      1.00        30\n",
      "weighted avg       1.00      1.00      1.00        30\n",
      "\n",
      "Accuracy: 1.0\n"
     ]
    }
   ],
   "source": [
    "# Create Voting Classifier\n",
    "voting_classifier = VotingClassifier(estimators=[('dt', dt_classifier), ('nb', nb_classifier), ('lr', lr_classifier), ('rf', rf_classifier)], voting='hard')\n",
    "\n",
    "# Train Voting Classifier\n",
    "voting_classifier.fit(X_train, y_train)\n",
    "\n",
    "# Predictions\n",
    "y_pred = voting_classifier.predict(X_test)\n",
    "\n",
    "# Evaluation\n",
    "print(\"Voting Classifier:\")\n",
    "print(classification_report(y_test, y_pred))\n",
    "print(\"Accuracy:\", accuracy_score(y_test, y_pred))\n"
   ]
  },
  {
   "cell_type": "code",
   "execution_count": 25,
   "id": "ebcfcc0e",
   "metadata": {},
   "outputs": [
    {
     "name": "stdout",
     "output_type": "stream",
     "text": [
      "Decision Tree:\n",
      "              precision    recall  f1-score   support\n",
      "\n",
      "           0       1.00      1.00      1.00        10\n",
      "           1       1.00      1.00      1.00         9\n",
      "           2       1.00      1.00      1.00        11\n",
      "\n",
      "    accuracy                           1.00        30\n",
      "   macro avg       1.00      1.00      1.00        30\n",
      "weighted avg       1.00      1.00      1.00        30\n",
      "\n",
      "Accuracy: 1.0\n",
      "\n",
      "Naive Bayes:\n",
      "              precision    recall  f1-score   support\n",
      "\n",
      "           0       1.00      1.00      1.00        10\n",
      "           1       1.00      1.00      1.00         9\n",
      "           2       1.00      1.00      1.00        11\n",
      "\n",
      "    accuracy                           1.00        30\n",
      "   macro avg       1.00      1.00      1.00        30\n",
      "weighted avg       1.00      1.00      1.00        30\n",
      "\n",
      "Accuracy: 1.0\n",
      "\n",
      "Logistic Regression:\n",
      "              precision    recall  f1-score   support\n",
      "\n",
      "           0       1.00      1.00      1.00        10\n",
      "           1       1.00      1.00      1.00         9\n",
      "           2       1.00      1.00      1.00        11\n",
      "\n",
      "    accuracy                           1.00        30\n",
      "   macro avg       1.00      1.00      1.00        30\n",
      "weighted avg       1.00      1.00      1.00        30\n",
      "\n",
      "Accuracy: 1.0\n",
      "\n",
      "Random Forest:\n",
      "              precision    recall  f1-score   support\n",
      "\n",
      "           0       1.00      1.00      1.00        10\n",
      "           1       1.00      1.00      1.00         9\n",
      "           2       1.00      1.00      1.00        11\n",
      "\n",
      "    accuracy                           1.00        30\n",
      "   macro avg       1.00      1.00      1.00        30\n",
      "weighted avg       1.00      1.00      1.00        30\n",
      "\n",
      "Accuracy: 1.0\n",
      "\n"
     ]
    }
   ],
   "source": [
    "# Evaluate individual classifiers\n",
    "classifiers = {\n",
    "    'Decision Tree': dt_classifier,\n",
    "    'Naive Bayes': nb_classifier,\n",
    "    'Logistic Regression': lr_classifier,\n",
    "    'Random Forest': rf_classifier\n",
    "}\n",
    "\n",
    "for name, classifier in classifiers.items():\n",
    "    classifier.fit(X_train, y_train)\n",
    "    y_pred = classifier.predict(X_test)\n",
    "    print(name + \":\")\n",
    "    print(classification_report(y_test, y_pred))\n",
    "    print(\"Accuracy:\", accuracy_score(y_test, y_pred))\n",
    "    print()\n"
   ]
  },
  {
   "cell_type": "code",
   "execution_count": null,
   "id": "340e15f0",
   "metadata": {},
   "outputs": [],
   "source": []
  }
 ],
 "metadata": {
  "kernelspec": {
   "display_name": "Python 3 (ipykernel)",
   "language": "python",
   "name": "python3"
  },
  "language_info": {
   "codemirror_mode": {
    "name": "ipython",
    "version": 3
   },
   "file_extension": ".py",
   "mimetype": "text/x-python",
   "name": "python",
   "nbconvert_exporter": "python",
   "pygments_lexer": "ipython3",
   "version": "3.9.7"
  }
 },
 "nbformat": 4,
 "nbformat_minor": 5
}
