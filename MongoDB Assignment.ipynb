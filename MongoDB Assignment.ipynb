{
 "cells": [
  {
   "cell_type": "markdown",
   "id": "43ecd159",
   "metadata": {},
   "source": [
    "### Q1. What is MongoDB? Explain non-relational databases in short. In which scenarios it is preferred to use MongoDB over SQL databases?"
   ]
  },
  {
   "cell_type": "markdown",
   "id": "24b13dd2",
   "metadata": {},
   "source": [
    "MongoDB is a document-oriented NoSQL database that stores data in a document-based format, like JSON. It is an open-source database system that provides high performance, scalability, and availability. It allows for the dynamic schema, meaning that it doesn't require a predefined data structure, and data can be added or removed without modifying the existing structure.\n",
    "\n",
    "Non-relational databases, also known as NoSQL databases, are designed to handle unstructured and semi-structured data. Unlike relational databases, NoSQL databases don't have fixed schemas, which means data can be added or removed on the fly without affecting the rest of the database. This makes them more flexible, scalable, and easier to manage in certain scenarios.\n",
    "\n",
    "MongoDB is preferred over SQL databases in several scenarios, such as:\n",
    "\n",
    "Big Data: MongoDB is designed to handle big data, which means it can store a large amount of data in distributed servers, providing scalability and performance.\n",
    "\n",
    "Real-time Data Processing: MongoDB supports real-time data processing, which means it can handle a high volume of data in real-time.\n",
    "\n",
    "Cloud Computing: MongoDB is cloud-friendly and can be deployed easily on cloud platforms, such as Amazon Web Services (AWS), Google Cloud Platform (GCP), and Microsoft Azure.\n",
    "\n",
    "Agile development: MongoDB is a good fit for agile development because of its flexibility and dynamic schema.\n",
    "\n",
    "Mobile and Web Applications: MongoDB is well-suited for mobile and web applications that require high scalability, performance, and availability.\n",
    "\n",
    "In summary, MongoDB is a popular NoSQL database that provides high performance, scalability, and flexibility for managing unstructured and semi-structured data. It is preferred over SQL databases in scenarios where big data, real-time data processing, cloud computing, agile development, and mobile/web applications are involved."
   ]
  },
  {
   "cell_type": "markdown",
   "id": "f9571598",
   "metadata": {},
   "source": [
    "### Q2. State and Explain the features of MongoDB."
   ]
  },
  {
   "cell_type": "markdown",
   "id": "c4f59870",
   "metadata": {},
   "source": [
    "MongoDB is a popular NoSQL document-oriented database that offers several key features that differentiate it from traditional relational databases. Some of the most notable features of MongoDB are:\n",
    "\n",
    "Document-oriented: MongoDB is document-oriented, which means it stores data in JSON-like documents that can vary in structure and schema, unlike traditional relational databases where data is stored in tables with fixed schemas.\n",
    "\n",
    "High Scalability: MongoDB is highly scalable and can handle large amounts of data and traffic. It can easily distribute data across multiple servers and scale horizontally.\n",
    "\n",
    "High Availability: MongoDB provides high availability through automatic replication and failover. It can automatically recover from hardware or network failures and continue to operate seamlessly.\n",
    "\n",
    "Flexible Data Model: MongoDB's document-oriented data model allows for a flexible schema that can adapt to changing requirements. Fields can be added or removed from documents without affecting the rest of the database.\n",
    "\n",
    "Rich Query Language: MongoDB's query language supports advanced queries such as range queries, regex searches, and geospatial queries, making it easy to retrieve data from the database.\n",
    "\n",
    "Aggregation Framework: MongoDB's aggregation framework provides a powerful set of tools for data analysis and aggregation, allowing complex queries and reports to be generated easily.\n",
    "\n",
    "Indexing: MongoDB supports indexing on any field or combination of fields, enabling faster query execution and improved performance.\n",
    "\n",
    "Distributed Transactions: MongoDB supports multi-document ACID transactions across multiple collections, making it easier to maintain data consistency across the database.\n",
    "\n",
    "In summary, MongoDB's document-oriented approach, scalability, high availability, flexible schema, rich query language, powerful aggregation framework, indexing, and distributed transactions make it an excellent choice for applications that require a high level of flexibility, scalability, and availability."
   ]
  },
  {
   "cell_type": "markdown",
   "id": "176b23f2",
   "metadata": {},
   "source": [
    "### Q3. Write a code to connect MongoDB to Python. Also, create a database and a collection in MongoDB."
   ]
  },
  {
   "cell_type": "markdown",
   "id": "9f4b87a1",
   "metadata": {},
   "source": [
    "To connect MongoDB to Python, we need to use a driver called PyMongo. Here's the code to install PyMongo:"
   ]
  },
  {
   "cell_type": "code",
   "execution_count": null,
   "id": "467448cc",
   "metadata": {},
   "outputs": [],
   "source": [
    "pip install pymongo\n"
   ]
  },
  {
   "cell_type": "markdown",
   "id": "7a320e62",
   "metadata": {},
   "source": [
    "Here's an example code to connect to MongoDB, create a database named \"mydatabase\", and a collection named \"mycollection\":"
   ]
  },
  {
   "cell_type": "code",
   "execution_count": null,
   "id": "bdbd34b7",
   "metadata": {},
   "outputs": [],
   "source": [
    "import pymongo\n",
    "\n",
    "# Establish a connection to MongoDB\n",
    "client = pymongo.MongoClient(\"mongodb://localhost:27017/\")\n",
    "\n",
    "# Create a database named \"mydatabase\"\n",
    "mydb = client[\"mydatabase\"]\n",
    "\n",
    "# Create a collection named \"mycollection\"\n",
    "mycol = mydb[\"mycollection\"]\n"
   ]
  },
  {
   "cell_type": "markdown",
   "id": "e9ee60fc",
   "metadata": {},
   "source": [
    "In the above code, pymongo.MongoClient() is used to create a connection to the MongoDB instance running on the localhost on port 27017. mydatabase is then created using the client[\"mydatabase\"] syntax, and mycollection is created within mydatabase using mydb[\"mycollection\"]."
   ]
  },
  {
   "cell_type": "markdown",
   "id": "438b3847",
   "metadata": {},
   "source": [
    "### Q4. Using the database and the collection created in question number 3, write a code to insert one record, and insert many records. Use the find() and find_one() methods to print the inserted record."
   ]
  },
  {
   "cell_type": "code",
   "execution_count": null,
   "id": "e6b99509",
   "metadata": {},
   "outputs": [],
   "source": [
    "import pymongo\n",
    "\n",
    "# Connect to MongoDB\n",
    "client = pymongo.MongoClient(\"mongodb://localhost:27017/\")\n",
    "\n",
    "# Create a database\n",
    "mydb = client[\"mydatabase\"]\n",
    "\n",
    "# Create a collection\n",
    "mycol = mydb[\"customers\"]\n",
    "\n",
    "# Insert one record\n",
    "one_record = {\"name\": \"John\", \"address\": \"Highway 37\"}\n",
    "insert_one = mycol.insert_one(one_record)\n",
    "\n",
    "# Insert many records\n",
    "many_records = [\n",
    "    {\"name\": \"Peter\", \"address\": \"Lowstreet 27\"},\n",
    "    {\"name\": \"Amy\", \"address\": \"Apple st 652\"},\n",
    "    {\"name\": \"Hannah\", \"address\": \"Mountain 21\"},\n",
    "    {\"name\": \"Michael\", \"address\": \"Valley 345\"},\n",
    "    {\"name\": \"Sandy\", \"address\": \"Ocean blvd 2\"}\n",
    "]\n",
    "insert_many = mycol.insert_many(many_records)\n",
    "\n",
    "# Print the inserted record using find_one()\n",
    "print(mycol.find_one())\n",
    "\n",
    "# Print all the inserted records using find()\n",
    "for record in mycol.find():\n",
    "    print(record)\n"
   ]
  },
  {
   "cell_type": "markdown",
   "id": "c7855b4f",
   "metadata": {},
   "source": [
    "### Q5. Explain how you can use the find() method to query the MongoDB database. Write a simple code to demonstrate this."
   ]
  },
  {
   "cell_type": "code",
   "execution_count": null,
   "id": "82b8dd1a",
   "metadata": {},
   "outputs": [],
   "source": [
    "import pymongo\n",
    "\n",
    "# establish a connection to the MongoDB server\n",
    "client = pymongo.MongoClient(\"mongodb://localhost:27017/\")\n",
    "\n",
    "# access the database\n",
    "db = client[\"mydatabase\"]\n",
    "\n",
    "# access the collection\n",
    "col = db[\"customers\"]\n",
    "\n",
    "# query the collection using find()\n",
    "query = {\"address\": \"Park Lane 38\"}\n",
    "results = col.find(query)\n",
    "\n",
    "# iterate over the results and print the matching documents\n",
    "for result in results:\n",
    "    print(result)\n"
   ]
  },
  {
   "cell_type": "markdown",
   "id": "fcce6924",
   "metadata": {},
   "source": [
    "In this example, we establish a connection to the MongoDB server running on localhost and access the mydatabase database and customers collection. We then use the find() method to query the collection for all documents that have an address field equal to \"Park Lane 38\". The results are returned as a cursor that we can iterate over and print out each matching document.\n",
    "\n",
    "Note that the find() method can accept a wide range of query criteria, including complex filter expressions, sorting, and projection to limit the fields returned in the result set."
   ]
  },
  {
   "cell_type": "markdown",
   "id": "49fd7f2b",
   "metadata": {},
   "source": [
    "### Q6. Explain the sort() method. Give an example to demonstrate sorting in MongoDB."
   ]
  },
  {
   "cell_type": "markdown",
   "id": "cbb1a822",
   "metadata": {},
   "source": [
    "In MongoDB, the sort() method is used to sort the results of a query in ascending or descending order based on one or more fields.\n",
    "\n",
    "The syntax of the sort() method is:"
   ]
  },
  {
   "cell_type": "code",
   "execution_count": null,
   "id": "986140e1",
   "metadata": {},
   "outputs": [],
   "source": [
    "collection_name.find().sort(field, direction)\n"
   ]
  },
  {
   "cell_type": "markdown",
   "id": "51c8ffcf",
   "metadata": {},
   "source": [
    "Here, field is the field based on which the sorting is done, and direction can be either 1 (for ascending order) or -1 (for descending order).\n",
    "\n",
    "For example, let's say we have a collection named \"employees\" with documents containing the fields \"name\" and \"age\". To sort the documents in ascending order based on the \"age\" field, we can use the following code:"
   ]
  },
  {
   "cell_type": "code",
   "execution_count": null,
   "id": "9654ffec",
   "metadata": {},
   "outputs": [],
   "source": [
    "result = db.employees.find().sort(\"age\", 1)\n",
    "for document in result:\n",
    "    print(document)\n"
   ]
  },
  {
   "cell_type": "markdown",
   "id": "08d227a0",
   "metadata": {},
   "source": [
    "This code will retrieve all documents in the \"employees\" collection and sort them in ascending order based on the \"age\" field. The resulting documents will be printed one by one using a for loop.\n",
    "\n",
    "We can also sort based on multiple fields by passing a list of tuples to the sort() method. Each tuple in the list represents a field and its sorting order. For example, to sort by \"name\" in ascending order and then by \"age\" in descending order, we can use the following code:"
   ]
  },
  {
   "cell_type": "code",
   "execution_count": null,
   "id": "4dce2107",
   "metadata": {},
   "outputs": [],
   "source": [
    "result = db.employees.find().sort([(\"name\", 1), (\"age\", -1)])\n",
    "for document in result:\n",
    "    print(document)\n"
   ]
  },
  {
   "cell_type": "markdown",
   "id": "e7742db1",
   "metadata": {},
   "source": [
    "This code will sort the documents first by \"name\" in ascending order and then by \"age\" in descending order."
   ]
  },
  {
   "cell_type": "markdown",
   "id": "22ca435f",
   "metadata": {},
   "source": [
    "### Q7. Explain why delete_one(), delete_many(), and drop() is used."
   ]
  },
  {
   "cell_type": "markdown",
   "id": "4b56812c",
   "metadata": {},
   "source": [
    "In MongoDB, the delete_one() method is used to delete a single document that matches the specified filter criteria. The delete_many() method is used to delete all documents that match the specified filter criteria.\n",
    "\n",
    "The drop() method is used to drop an entire collection from a database. This method will completely remove all the documents in the collection along with any indexes that were created on it.\n",
    "\n",
    "These methods are used when we want to remove data from the database or delete entire collections that are no longer required. It is important to note that these methods are irreversible, so it is crucial to take caution when using them."
   ]
  },
  {
   "cell_type": "code",
   "execution_count": null,
   "id": "03b02456",
   "metadata": {},
   "outputs": [],
   "source": []
  }
 ],
 "metadata": {
  "kernelspec": {
   "display_name": "Python 3 (ipykernel)",
   "language": "python",
   "name": "python3"
  },
  "language_info": {
   "codemirror_mode": {
    "name": "ipython",
    "version": 3
   },
   "file_extension": ".py",
   "mimetype": "text/x-python",
   "name": "python",
   "nbconvert_exporter": "python",
   "pygments_lexer": "ipython3",
   "version": "3.9.7"
  }
 },
 "nbformat": 4,
 "nbformat_minor": 5
}
