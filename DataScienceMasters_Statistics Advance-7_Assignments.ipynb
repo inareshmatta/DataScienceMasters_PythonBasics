{
 "cells": [
  {
   "cell_type": "markdown",
   "id": "e5e89f0c",
   "metadata": {},
   "source": [
    "### Q1. Write a Python function that takes in two arrays of data and calculates the F-value for a variance ratio test. The function should return the F-value and the corresponding p-value for the test."
   ]
  },
  {
   "cell_type": "code",
   "execution_count": 1,
   "id": "14a516f1",
   "metadata": {},
   "outputs": [
    {
     "name": "stdout",
     "output_type": "stream",
     "text": [
      "F-value: 0.2776203966005666\n",
      "P-value: 0.6125584193099542\n"
     ]
    }
   ],
   "source": [
    "import scipy.stats as stats\n",
    "\n",
    "def calculate_f_value(data1, data2):\n",
    "    # Perform one-way ANOVA\n",
    "    f_statistic, p_value = stats.f_oneway(data1, data2)\n",
    "    \n",
    "    return f_statistic, p_value\n",
    "\n",
    "# Example usage:\n",
    "data_group1 = [10, 12, 15, 18, 20]\n",
    "data_group2 = [8, 11, 14, 16, 19]\n",
    "\n",
    "f_value, p_value = calculate_f_value(data_group1, data_group2)\n",
    "print(f\"F-value: {f_value}\")\n",
    "print(f\"P-value: {p_value}\")\n"
   ]
  },
  {
   "cell_type": "markdown",
   "id": "1ddb4472",
   "metadata": {},
   "source": [
    "### Q2. Given a significance level of 0.05 and the degrees of freedom for the numerator and denominator of an F-distribution, write a Python function that returns the critical F-value for a two-tailed test."
   ]
  },
  {
   "cell_type": "code",
   "execution_count": 2,
   "id": "b26fefb6",
   "metadata": {},
   "outputs": [
    {
     "name": "stdout",
     "output_type": "stream",
     "text": [
      "Critical F-value: 3.8586986662732143\n"
     ]
    }
   ],
   "source": [
    "import scipy.stats as stats\n",
    "\n",
    "def calculate_critical_f_value(alpha, df_num, df_denom):\n",
    "    # Calculate the critical F-value for a two-tailed test\n",
    "    critical_f_value = stats.f.ppf(1 - alpha / 2, df_num, df_denom)\n",
    "    \n",
    "    return critical_f_value\n",
    "\n",
    "# Example usage:\n",
    "alpha = 0.05\n",
    "df_num = 3  # degrees of freedom for the numerator\n",
    "df_denom = 20  # degrees of freedom for the denominator\n",
    "\n",
    "critical_f_value = calculate_critical_f_value(alpha, df_num, df_denom)\n",
    "print(f\"Critical F-value: {critical_f_value}\")\n"
   ]
  },
  {
   "cell_type": "markdown",
   "id": "8cabd164",
   "metadata": {},
   "source": [
    "### Q3. Write a Python program that generates random samples from two normal distributions with known variances and uses an F-test to determine if the variances are equal. The program should output the F- value, degrees of freedom, and p-value for the test."
   ]
  },
  {
   "cell_type": "code",
   "execution_count": 3,
   "id": "f6296cae",
   "metadata": {},
   "outputs": [
    {
     "name": "stdout",
     "output_type": "stream",
     "text": [
      "F-value: 6.499877950285229\n",
      "Degrees of Freedom (Between): 1\n",
      "Degrees of Freedom (Within): 58\n",
      "P-value: 0.013454320895372985\n"
     ]
    }
   ],
   "source": [
    "import numpy as np\n",
    "import scipy.stats as stats\n",
    "\n",
    "def perform_f_test(sample1, sample2):\n",
    "    # Perform F-test for comparing variances\n",
    "    f_value, p_value = stats.levene(sample1, sample2)\n",
    "    \n",
    "    # Degrees of freedom for the test\n",
    "    df_between = 1  # Number of groups - 1\n",
    "    df_within = len(sample1) + len(sample2) - 2  # Total sample size minus the number of groups\n",
    "    \n",
    "    return f_value, df_between, df_within, p_value\n",
    "\n",
    "# Example usage:\n",
    "np.random.seed(42)  # Set seed for reproducibility\n",
    "\n",
    "# Generate random samples from two normal distributions\n",
    "sample1 = np.random.normal(loc=0, scale=1, size=30)\n",
    "sample2 = np.random.normal(loc=0, scale=1.5, size=30)\n",
    "\n",
    "# Perform F-test\n",
    "f_value, df_between, df_within, p_value = perform_f_test(sample1, sample2)\n",
    "\n",
    "# Output results\n",
    "print(f\"F-value: {f_value}\")\n",
    "print(f\"Degrees of Freedom (Between): {df_between}\")\n",
    "print(f\"Degrees of Freedom (Within): {df_within}\")\n",
    "print(f\"P-value: {p_value}\")\n"
   ]
  },
  {
   "cell_type": "markdown",
   "id": "cb0b56ac",
   "metadata": {},
   "source": [
    "### Q4.The variances of two populations are known to be 10 and 15. A sample of 12 observations is taken from each population. Conduct an F-test at the 5% significance level to determine if the variances are significantly different."
   ]
  },
  {
   "cell_type": "code",
   "execution_count": 4,
   "id": "17459496",
   "metadata": {},
   "outputs": [
    {
     "name": "stdout",
     "output_type": "stream",
     "text": [
      "Fail to reject the null hypothesis: Variances are not significantly different.\n"
     ]
    }
   ],
   "source": [
    "import scipy.stats as stats\n",
    "\n",
    "# Given data\n",
    "sample_var1 = 10  # Sample variance for population 1\n",
    "sample_var2 = 15  # Sample variance for population 2\n",
    "n1 = 12  # Sample size for population 1\n",
    "n2 = 12  # Sample size for population 2\n",
    "alpha = 0.05  # Significance level\n",
    "\n",
    "# Calculate the F-statistic\n",
    "F_statistic = sample_var1 / sample_var2\n",
    "\n",
    "# Degrees of freedom for the F-distribution\n",
    "df_between = n1 - 1\n",
    "df_within = n2 - 1\n",
    "\n",
    "# Critical F-value for a two-tailed test\n",
    "critical_F_value = stats.f.ppf(1 - alpha / 2, df_between, df_within)\n",
    "\n",
    "# Compare F-statistic with critical F-value\n",
    "if F_statistic > critical_F_value or F_statistic < 1 / critical_F_value:\n",
    "    print(\"Reject the null hypothesis: Variances are significantly different.\")\n",
    "else:\n",
    "    print(\"Fail to reject the null hypothesis: Variances are not significantly different.\")\n"
   ]
  },
  {
   "cell_type": "markdown",
   "id": "d392ed0e",
   "metadata": {},
   "source": [
    "### Q5. A manufacturer claims that the variance of the diameter of a certain product is 0.005. A sample of 25 products is taken, and the sample variance is found to be 0.006. Conduct an F-test at the 1% significance level to determine if the claim is justified."
   ]
  },
  {
   "cell_type": "code",
   "execution_count": 6,
   "id": "f5b35034",
   "metadata": {},
   "outputs": [
    {
     "name": "stdout",
     "output_type": "stream",
     "text": [
      "F-Statistic: 1.2\n",
      "Critical Values: 0.10469807488970448 24939.565259943236\n",
      "Is in Critical Region: False\n"
     ]
    }
   ],
   "source": [
    "import scipy.stats as stats\n",
    "\n",
    "# Given values\n",
    "claimed_variance = 0.005\n",
    "sample_variance = 0.006\n",
    "sample_size = 25\n",
    "alpha = 0.01\n",
    "\n",
    "# Degrees of freedom\n",
    "df1 = sample_size - 1\n",
    "df2 = 1  # Degrees of freedom for the claimed population variance\n",
    "\n",
    "# F-statistic\n",
    "f_statistic = (sample_variance / claimed_variance)\n",
    "\n",
    "# Critical values\n",
    "critical_value_lower = stats.f.ppf(alpha / 2, df1, df2)\n",
    "critical_value_upper = stats.f.ppf(1 - alpha / 2, df1, df2)\n",
    "\n",
    "# Check if the F-statistic is in the critical region\n",
    "in_critical_region = f_statistic < critical_value_lower or f_statistic > critical_value_upper\n",
    "\n",
    "# Print results\n",
    "print(\"F-Statistic:\", f_statistic)\n",
    "print(\"Critical Values:\", critical_value_lower, critical_value_upper)\n",
    "print(\"Is in Critical Region:\", in_critical_region)\n"
   ]
  },
  {
   "cell_type": "markdown",
   "id": "4ff76332",
   "metadata": {},
   "source": [
    "To conduct an F-test for the variance, we use the following hypotheses:\n",
    "\n",
    "- **Null Hypothesis $(H_0)$:** The population variance is equal to the claimed variance.\n",
    "- **Alternative Hypothesis $(H_1)$:** The population variance is different from the claimed variance.\n",
    "\n",
    "Mathematically, this can be expressed as:\n",
    "\n",
    "$[ H_0: \\sigma^2 = 0.005 ]$\n",
    "$[ H_1: \\sigma^2 \\neq 0.005 ]$\n",
    "\n",
    "Next, we'll use the F-statistic formula:\n",
    "\n",
    "$[ F = \\frac{s_1^2}{s_2^2} ]$\n",
    "\n",
    "where $( s_1^2)$ is the sample variance, and $( s_2^2 )$ is the claimed population variance.\n",
    "\n",
    "Now, we need to determine the critical region and compare the calculated F-statistic with the critical value from the F-distribution table.\n",
    "\n",
    "Since it's a two-tailed test and the significance level is 1%, we need to find the critical values at the $( \\frac{\\alpha}{2} )$ and $( 1 - \\frac{\\alpha}{2} )$ percentiles of the F-distribution with degrees of freedom $( n_1 - 1)$ and $( n_2 - 1 )$, where $( n_1)$ is the sample size.\n",
    "\n",
    "\n",
    "\n",
    "This code calculates the F-statistic, critical values, and checks whether the F-statistic falls in the critical region. If it does, you reject the null hypothesis.\n",
    "\n",
    "Please note that the critical values may vary based on the software or tool you are using. Ensure you use the correct critical values based on your chosen method."
   ]
  },
  {
   "cell_type": "markdown",
   "id": "e824bd80",
   "metadata": {},
   "source": [
    "### Q6. Write a Python function that takes in the degrees of freedom for the numerator and denominator of an F-distribution and calculates the mean and variance of the distribution. The function should return the mean and variance as a tuple."
   ]
  },
  {
   "cell_type": "code",
   "execution_count": 7,
   "id": "a3d9a0a9",
   "metadata": {},
   "outputs": [
    {
     "name": "stdout",
     "output_type": "stream",
     "text": [
      "Mean of F-distribution: 1.25\n",
      "Variance of F-distribution: 1.3541666666666667\n"
     ]
    }
   ],
   "source": [
    "import scipy.stats as stats\n",
    "\n",
    "def calculate_f_distribution_mean_and_variance(df1, df2):\n",
    "    # Calculate the mean and variance of the F-distribution\n",
    "    mean = df2 / (df2 - 2) if df2 > 2 else None\n",
    "    variance = (2 * (df2 ** 2) * (df1 + df2 - 2)) / (df1 * (df2 - 2) ** 2 * (df2 - 4)) if df2 > 4 else None\n",
    "    \n",
    "    return mean, variance\n",
    "\n",
    "# Example usage\n",
    "df1 = 5\n",
    "df2 = 10\n",
    "mean, variance = calculate_f_distribution_mean_and_variance(df1, df2)\n",
    "\n",
    "# Print the results\n",
    "print(\"Mean of F-distribution:\", mean)\n",
    "print(\"Variance of F-distribution:\", variance)\n"
   ]
  },
  {
   "cell_type": "markdown",
   "id": "8aa56b82",
   "metadata": {},
   "source": [
    "### Q7. A random sample of 10 measurements is taken from a normal population with unknown variance. The sample variance is found to be 25. Another random sample of 15 measurements is taken from another normal population with unknown variance, and the sample variance is found to be 20. Conduct an F-test at the 10% significance level to determine if the variances are significantly different."
   ]
  },
  {
   "cell_type": "code",
   "execution_count": 8,
   "id": "53967ea0",
   "metadata": {},
   "outputs": [
    {
     "name": "stdout",
     "output_type": "stream",
     "text": [
      "F-Statistic: 1.25\n",
      "Critical Values: 0.3305268601412525 2.6457907352338195\n",
      "Is in Critical Region: False\n"
     ]
    }
   ],
   "source": [
    "import scipy.stats as stats\n",
    "\n",
    "# Given values\n",
    "sample_variance1 = 25\n",
    "sample_size1 = 10\n",
    "sample_variance2 = 20\n",
    "sample_size2 = 15\n",
    "alpha = 0.10\n",
    "\n",
    "# Degrees of freedom\n",
    "df1 = sample_size1 - 1\n",
    "df2 = sample_size2 - 1\n",
    "\n",
    "# F-statistic\n",
    "f_statistic = sample_variance1 / sample_variance2\n",
    "\n",
    "# Critical values\n",
    "critical_value_lower = stats.f.ppf(alpha / 2, df1, df2)\n",
    "critical_value_upper = stats.f.ppf(1 - alpha / 2, df1, df2)\n",
    "\n",
    "# Check if the F-statistic is in the critical region\n",
    "in_critical_region = f_statistic < critical_value_lower or f_statistic > critical_value_upper\n",
    "\n",
    "# Print results\n",
    "print(\"F-Statistic:\", f_statistic)\n",
    "print(\"Critical Values:\", critical_value_lower, critical_value_upper)\n",
    "print(\"Is in Critical Region:\", in_critical_region)\n"
   ]
  },
  {
   "cell_type": "markdown",
   "id": "7bfcb247",
   "metadata": {},
   "source": [
    "### Q8. The following data represent the waiting times in minutes at two different restaurants on a Saturday night: Restaurant A: 24, 25, 28, 23, 22, 20, 27; Restaurant B: 31, 33, 35, 30, 32, 36. Conduct an F-test at the 5% significance level to determine if the variances are significantly different."
   ]
  },
  {
   "cell_type": "code",
   "execution_count": 10,
   "id": "af57b579",
   "metadata": {},
   "outputs": [
    {
     "name": "stdout",
     "output_type": "stream",
     "text": [
      "F-Statistic: 1.4551907719609583\n",
      "Critical Values: 0.16701279718024772 6.977701858535566\n",
      "Is in Critical Region: False\n"
     ]
    }
   ],
   "source": [
    "import scipy.stats as stats\n",
    "\n",
    "# Given values\n",
    "data_restaurant_A = [24, 25, 28, 23, 22, 20, 27]\n",
    "data_restaurant_B = [31, 33, 35, 30, 32, 36]\n",
    "alpha = 0.05\n",
    "\n",
    "# Sample variances\n",
    "sample_variance_A = stats.tvar(data_restaurant_A)\n",
    "sample_variance_B = stats.tvar(data_restaurant_B)\n",
    "\n",
    "# Sample sizes\n",
    "sample_size_A = len(data_restaurant_A)\n",
    "sample_size_B = len(data_restaurant_B)\n",
    "\n",
    "# Degrees of freedom\n",
    "df1 = sample_size_A - 1\n",
    "df2 = sample_size_B - 1\n",
    "\n",
    "# F-statistic\n",
    "f_statistic = sample_variance_A / sample_variance_B\n",
    "\n",
    "# Critical values\n",
    "critical_value_lower = stats.f.ppf(alpha / 2, df1, df2)\n",
    "critical_value_upper = stats.f.ppf(1 - alpha / 2, df1, df2)\n",
    "\n",
    "# Check if the F-statistic is in the critical region\n",
    "in_critical_region = f_statistic < critical_value_lower or f_statistic > critical_value_upper\n",
    "\n",
    "# Print results\n",
    "print(\"F-Statistic:\", f_statistic)\n",
    "print(\"Critical Values:\", critical_value_lower, critical_value_upper)\n",
    "print(\"Is in Critical Region:\", in_critical_region)\n"
   ]
  },
  {
   "cell_type": "markdown",
   "id": "1e4b2f2f",
   "metadata": {},
   "source": [
    "### Q9. The following data represent the test scores of two groups of students: Group A: 80, 85, 90, 92, 87, 83; Group B: 75, 78, 82, 79, 81, 84. Conduct an F-test at the 1% significance level to determine if the variances are significantly different."
   ]
  },
  {
   "cell_type": "code",
   "execution_count": 11,
   "id": "884db579",
   "metadata": {},
   "outputs": [
    {
     "name": "stdout",
     "output_type": "stream",
     "text": [
      "F-Statistic: 1.9442622950819677\n",
      "Critical Values: 0.066936171954696 14.939605459912224\n",
      "Is in Critical Region: False\n"
     ]
    }
   ],
   "source": [
    "import scipy.stats as stats\n",
    "\n",
    "# Given values\n",
    "group_A_scores = [80, 85, 90, 92, 87, 83]\n",
    "group_B_scores = [75, 78, 82, 79, 81, 84]\n",
    "alpha = 0.01\n",
    "\n",
    "# Sample variances\n",
    "sample_variance_A = stats.tvar(group_A_scores)\n",
    "sample_variance_B = stats.tvar(group_B_scores)\n",
    "\n",
    "# Sample sizes\n",
    "sample_size_A = len(group_A_scores)\n",
    "sample_size_B = len(group_B_scores)\n",
    "\n",
    "# Degrees of freedom\n",
    "df1 = sample_size_A - 1\n",
    "df2 = sample_size_B - 1\n",
    "\n",
    "# F-statistic\n",
    "f_statistic = sample_variance_A / sample_variance_B\n",
    "\n",
    "# Critical values\n",
    "critical_value_lower = stats.f.ppf(alpha / 2, df1, df2)\n",
    "critical_value_upper = stats.f.ppf(1 - alpha / 2, df1, df2)\n",
    "\n",
    "# Check if the F-statistic is in the critical region\n",
    "in_critical_region = f_statistic < critical_value_lower or f_statistic > critical_value_upper\n",
    "\n",
    "# Print results\n",
    "print(\"F-Statistic:\", f_statistic)\n",
    "print(\"Critical Values:\", critical_value_lower, critical_value_upper)\n",
    "print(\"Is in Critical Region:\", in_critical_region)\n"
   ]
  },
  {
   "cell_type": "code",
   "execution_count": null,
   "id": "589eb693",
   "metadata": {},
   "outputs": [],
   "source": []
  }
 ],
 "metadata": {
  "kernelspec": {
   "display_name": "Python 3 (ipykernel)",
   "language": "python",
   "name": "python3"
  },
  "language_info": {
   "codemirror_mode": {
    "name": "ipython",
    "version": 3
   },
   "file_extension": ".py",
   "mimetype": "text/x-python",
   "name": "python",
   "nbconvert_exporter": "python",
   "pygments_lexer": "ipython3",
   "version": "3.9.7"
  }
 },
 "nbformat": 4,
 "nbformat_minor": 5
}
